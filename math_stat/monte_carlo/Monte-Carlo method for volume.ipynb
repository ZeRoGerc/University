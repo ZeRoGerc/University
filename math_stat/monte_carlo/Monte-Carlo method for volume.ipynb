{
 "cells": [
  {
   "cell_type": "code",
   "execution_count": 6,
   "metadata": {
    "collapsed": false
   },
   "outputs": [],
   "source": [
    "import numpy as np\n",
    "import pandas as pd\n",
    "import scipy as sp\n",
    "import scipy.linalg\n",
    "import sympy as sm\n",
    "from tqdm import tqdm\n",
    "from ggplot import *\n",
    "\n",
    "class BaseCalculator:\n",
    "    def __init__(self, n, gamma):\n",
    "        self.n = n\n",
    "        self.gamma = gamma\n",
    "        self.xn = 0\n",
    "        self.gen = []\n",
    "        self.t = sp.stats.norm.ppf((1 + 0.95) / 2)\n",
    "        self.delta = 0\n",
    "        \n",
    "    def calc_xn(self):\n",
    "        return self.xn\n",
    "    \n",
    "    def calc_sigma(self):\n",
    "        self.sigma = (np.square(self.gen - self.xn).sum() / (self.n - 1)) ** (0.5)\n",
    "        return self.sigma\n",
    "    \n",
    "    def calc_delta(self):\n",
    "        self.calc_sigma()\n",
    "        self.delta = self.t * self.sigma / self.n**(1/2)\n",
    "        return self.delta\n",
    "    \n",
    "class Printer:\n",
    "    def printValues(calculator, n):\n",
    "        print(\"\")\n",
    "        for i in range(0, 1):\n",
    "            print(\"    Interation {}, n = {}\".format(i, n))\n",
    "            print(\"Xn = {}\".format(calculator.calc_xn()))\n",
    "            print(\"Delta = {}\".format(calculator.calc_delta()))\n",
    "            print(\"Interval = [{} .. {}]\".format(calculator.xn - calculator.delta, calculator.xn + calculator.delta))"
   ]
  },
  {
   "cell_type": "markdown",
   "metadata": {},
   "source": [
    "# Вычисление объема"
   ]
  },
  {
   "cell_type": "code",
   "execution_count": 7,
   "metadata": {
    "collapsed": false
   },
   "outputs": [
    {
     "name": "stdout",
     "output_type": "stream",
     "text": [
      "\n",
      "    Interation 0, n = 10000\n",
      "Xn = 0.4677\n",
      "Delta = 0.009779839440706454\n",
      "Interval = [0.4579201605592936 .. 0.47747983944070643]\n",
      "\n",
      "    Interation 0, n = 1000000\n",
      "Xn = 0.46705\n",
      "Delta = 0.0009778522280606803\n",
      "Interval = [0.46607214777193934 .. 0.4680278522280607]\n"
     ]
    }
   ],
   "source": [
    "class VolumeCalculator(BaseCalculator):\n",
    "    def __init__(self, n):\n",
    "        super().__init__(n, 0.95)\n",
    "        self.k = 5\n",
    "        self.c = 6.85\n",
    "        self.a = 7\n",
    "        self.xn = -1\n",
    "\n",
    "    def f(self, x):\n",
    "        return np.log(self.a * x + 1) \n",
    "    \n",
    "    def iffer(self, t):\n",
    "        if t <= self.c:\n",
    "            return 1\n",
    "        else:\n",
    "            return 0\n",
    "    \n",
    "    def calc_xn(self):\n",
    "        self.gen = np.sum(self.f(np.random.uniform(0,1., self.n * self.k).reshape(self.n ,self.k)), axis=1)\n",
    "        self.gen = np.array([self.iffer(xi) for xi in self.gen])\n",
    "        self.xn = self.gen.sum() / self.n\n",
    "        return self.xn\n",
    "\n",
    "Printer.printValues(VolumeCalculator(10**4), 10**4)\n",
    "Printer.printValues(VolumeCalculator(10**6), 10**6)\n"
   ]
  },
  {
   "cell_type": "markdown",
   "metadata": {},
   "source": [
    "# Вычисление интеграла $\\int_0^\\infty x^4e^{-x}dx$"
   ]
  },
  {
   "cell_type": "code",
   "execution_count": 8,
   "metadata": {
    "collapsed": false
   },
   "outputs": [
    {
     "name": "stdout",
     "output_type": "stream",
     "text": [
      "Exact value = 24\n",
      "\n",
      "    Interation 0, n = 10000\n",
      "Xn = 22.60200243105615\n",
      "Delta = 3.1205473219431235\n",
      "Interval = [19.481455109113025 .. 25.722549752999274]\n",
      "\n",
      "    Interation 0, n = 1000000\n",
      "Xn = 23.981765701140716\n",
      "Delta = 0.3806762311442237\n",
      "Interval = [23.60108946999649 .. 24.36244193228494]\n"
     ]
    }
   ],
   "source": [
    "class ExpIntegralCalculator(BaseCalculator):\n",
    "    def __init__(self, n):\n",
    "        super().__init__(n, 0.95)\n",
    "        \n",
    "    def calc_xn(self):\n",
    "        self.gen = np.random.exponential(size = self.n) # n values from exponential distribution\n",
    "        self.gen = np.array([xi**4 for xi in self.gen]) # to power 4\n",
    "        self.xn = np.sum(self.gen) / self.n # calc expected value\n",
    "        return self.xn\n",
    "\n",
    "    \n",
    "print(\"Exact value = {}\".format(24))\n",
    "Printer.printValues(ExpIntegralCalculator(10**4), 10**4)\n",
    "Printer.printValues(ExpIntegralCalculator(10**6), 10**6)\n"
   ]
  },
  {
   "cell_type": "markdown",
   "metadata": {
    "collapsed": true
   },
   "source": [
    "# Вычисление интеграла $\\int_{-\\infty}^\\infty \\sqrt{|x|} \\ e^{\\frac{-(x+2)^2}{4}}dx$"
   ]
  },
  {
   "cell_type": "code",
   "execution_count": 9,
   "metadata": {
    "collapsed": false
   },
   "outputs": [
    {
     "name": "stdout",
     "output_type": "stream",
     "text": [
      "Exact value = 4.8498\n",
      "\n",
      "    Interation 0, n = 10000\n",
      "Xn = 4.853038665829423\n",
      "Delta = 0.24436315092733657\n",
      "Interval = [4.784105093651368 .. 4.921972238007479]\n",
      "\n",
      "    Interation 0, n = 1000000\n",
      "Xn = 4.850378944206651\n",
      "Delta = 0.024420823692195125\n",
      "Interval = [4.843489957032254 .. 4.857267931381047]\n"
     ]
    }
   ],
   "source": [
    "class NormIntegralCalculator(BaseCalculator):\n",
    "    def __init__(self, n):\n",
    "        super().__init__(n, 0.95)\n",
    "        self.n = n\n",
    "        self.mu = -2\n",
    "        self.sigma = 2**(1/2)\n",
    "        self.value = 0\n",
    "        \n",
    "    def calc_xn(self):\n",
    "        self.gen = np.random.normal(loc = self.mu, scale = self.sigma, size = self.n) # n values from norm(-2, 2) distribution\n",
    "        self.gen = np.sqrt(np.abs(self.gen)) # sqrt from abs\n",
    "        self.xn = self.sigma * (2 * np.pi)**(1/2) * np.sum(self.gen) / self.n # calc expected value\n",
    "        return self.xn\n",
    "    \n",
    "    def calc_delta(self):\n",
    "        return 2 * np.pi**(1/2) * super().calc_delta()\n",
    "\n",
    "print(\"Exact value = {}\".format(4.8498))\n",
    "Printer.printValues(NormIntegralCalculator(10**4), 10**4)\n",
    "Printer.printValues(NormIntegralCalculator(10**6), 10**6)"
   ]
  },
  {
   "cell_type": "code",
   "execution_count": null,
   "metadata": {
    "collapsed": true
   },
   "outputs": [],
   "source": []
  },
  {
   "cell_type": "code",
   "execution_count": null,
   "metadata": {
    "collapsed": true
   },
   "outputs": [],
   "source": []
  }
 ],
 "metadata": {
  "kernelspec": {
   "display_name": "Python 3",
   "language": "python",
   "name": "python3"
  },
  "language_info": {
   "codemirror_mode": {
    "name": "ipython",
    "version": 3
   },
   "file_extension": ".py",
   "mimetype": "text/x-python",
   "name": "python",
   "nbconvert_exporter": "python",
   "pygments_lexer": "ipython3",
   "version": "3.6.0"
  }
 },
 "nbformat": 4,
 "nbformat_minor": 2
}
