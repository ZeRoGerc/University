{
 "cells": [
  {
   "cell_type": "markdown",
   "metadata": {},
   "source": [
    "# Методы оптимизации, ДЗ 1\n",
    "## Сазанович Владислав М3439, Вариант 110"
   ]
  },
  {
   "cell_type": "code",
   "execution_count": 92,
   "metadata": {
    "collapsed": false
   },
   "outputs": [],
   "source": [
    "import numpy as np\n",
    "import matplotlib.pyplot as plt"
   ]
  },
  {
   "cell_type": "code",
   "execution_count": 93,
   "metadata": {
    "collapsed": true
   },
   "outputs": [],
   "source": [
    "eps = 1e-6\n",
    "\n",
    "def f(x):\n",
    "    return np.exp(np.sqrt(x)) + 11 * np.exp(-11 * x)"
   ]
  },
  {
   "cell_type": "code",
   "execution_count": 94,
   "metadata": {
    "collapsed": false
   },
   "outputs": [
    {
     "data": {
      "image/png": "[encoded data removed]",
      "text/plain": [
       "<matplotlib.figure.Figure at 0x110d8b208>"
      ]
     },
     "metadata": {},
     "output_type": "display_data"
    }
   ],
   "source": [
    "x = np.linspace(0, 10, 100)\n",
    "y = f(x)\n",
    "plt.plot(x, y)\n",
    "plt.show()"
   ]
  },
  {
   "cell_type": "code",
   "execution_count": 95,
   "metadata": {
    "collapsed": true
   },
   "outputs": [],
   "source": [
    "LEFT = 0.\n",
    "RIGHT = 2."
   ]
  },
  {
   "cell_type": "markdown",
   "metadata": {},
   "source": [
    "## Метод дихотомии"
   ]
  },
  {
   "cell_type": "code",
   "execution_count": 69,
   "metadata": {
    "collapsed": false
   },
   "outputs": [],
   "source": [
    "def dichotomy(f):\n",
    "    l = LEFT\n",
    "    r = RIGHT\n",
    "    \n",
    "    while (np.abs(r - l) / 2 > eps):\n",
    "        # находим две центральные точки\n",
    "        delta = (r - l) / 30\n",
    "        m1 = (l + r) / 2 - delta\n",
    "        m2 = (l + r) / 2 + delta\n",
    "        \n",
    "        # обновляем границы\n",
    "        if f(m1) <= f(m2):\n",
    "            r = m2\n",
    "        else:\n",
    "            l = m1\n",
    "            \n",
    "    return l, r"
   ]
  },
  {
   "cell_type": "markdown",
   "metadata": {},
   "source": [
    "## Метод золотого сечения"
   ]
  },
  {
   "cell_type": "code",
   "execution_count": 91,
   "metadata": {
    "collapsed": false
   },
   "outputs": [],
   "source": [
    "def golden_ratio(f):\n",
    "    l = LEFT\n",
    "    r = RIGHT\n",
    "    \n",
    "    # Значения функции в промежуточных точках неизвестны\n",
    "    f1 = None\n",
    "    f2 = None\n",
    "    \n",
    "    while (np.abs(r - l) / 2 > eps):\n",
    "        m1 = l + (3 - np.sqrt(5)) / 2 * (r - l)\n",
    "        m2 = l + (np.sqrt(5) - 1) / 2 * (r - l)\n",
    "        \n",
    "        # Вычисляем f если нет значения с предыдущего шага\n",
    "        if f1 is None:\n",
    "            f1 = f(m1)\n",
    "            \n",
    "        # Вычисляем f если нет значения с предыдущего шага\n",
    "        if f2 is None:\n",
    "            f2 = f(m2)\n",
    "            \n",
    "        if f1 <= f2:\n",
    "            r = m2\n",
    "            f2 = f1\n",
    "            f1 = None\n",
    "        else:\n",
    "            l = m1\n",
    "            f1 = f2\n",
    "            f2 = None\n",
    "    \n",
    "    return l, r"
   ]
  },
  {
   "cell_type": "markdown",
   "metadata": {},
   "source": [
    "## Метод Фибоначчи"
   ]
  },
  {
   "cell_type": "code",
   "execution_count": 71,
   "metadata": {
    "collapsed": true
   },
   "outputs": [],
   "source": [
    "def fibonacci(f):\n",
    "    l = LEFT\n",
    "    r = RIGHT\n",
    "    \n",
    "    # Считаем числа Фибоначчи\n",
    "    fib = [0, 1]\n",
    "    while (fib[-1] < (r - l) / eps):\n",
    "        fib.append(fib[-1] + fib[-2])\n",
    "    n = len(fib) - 1\n",
    "    \n",
    "    # Считаем начальное приближение\n",
    "    m1 = l + (r - l) * (fib[n - 2] / fib[n])\n",
    "    f1 = f(m1)\n",
    "    \n",
    "    m2 = l + (r - l) * (fib[n - 1] / fib[n])\n",
    "    f2 = f(m2)\n",
    "    \n",
    "    for k in range(1, n - 1):\n",
    "        # Вычисляем f если нет значения с предыдущего шага\n",
    "        if f1 is None:\n",
    "            f1 = f(m1)\n",
    "            \n",
    "        # Вычисляем f если нет значения с предыдущего шага\n",
    "        if f2 is None:\n",
    "            f2 = f(m2)\n",
    "            \n",
    "        if f1 <= f2:\n",
    "            r = m2\n",
    "            m2 = m1\n",
    "            m1 = l + (r - l) * (fib[n - k - 2] / fib[n - k])\n",
    "            f2 = f1\n",
    "            f1 = None\n",
    "        else:\n",
    "            l = m1\n",
    "            m1 = m2\n",
    "            m2 = l + (r - l) * (fib[n - k - 1] / fib[n - k])\n",
    "            f1 = f2\n",
    "            f2 = None\n",
    "    \n",
    "    return l, r"
   ]
  },
  {
   "cell_type": "markdown",
   "metadata": {},
   "source": [
    "## Анализ производительности"
   ]
  },
  {
   "cell_type": "markdown",
   "metadata": {},
   "source": [
    "### Парочка вспомогательных функций"
   ]
  },
  {
   "cell_type": "code",
   "execution_count": 72,
   "metadata": {
    "collapsed": true
   },
   "outputs": [],
   "source": [
    "# Функция которая оборачивает f для подсчета количества ее вызовов.\n",
    "def perf(function, invocations):\n",
    "    # Добавляет 1 к счетчику и вызывает function\n",
    "    def invoke_f(x, invocations):\n",
    "        invocations[0] += 1\n",
    "        return function(x)\n",
    "    \n",
    "    # Возвращаем фунцкию f которая будет дополнительно считать количество вызовов\n",
    "    return lambda x: invoke_f(x, invocations) "
   ]
  },
  {
   "cell_type": "code",
   "execution_count": 73,
   "metadata": {
    "collapsed": false
   },
   "outputs": [],
   "source": [
    "# Функция которая запускает алгоритм и пишет результат красиво\n",
    "def measure_function(algo, algo_name):\n",
    "    invocations = [0]\n",
    "    l, r = algo(perf(f, invocations))\n",
    "    \n",
    "    print(\"{}:\\n    Результат: [{} .. {}] (delta = {}), Количество вызовов: {}\".format(algo_name, l, r, r - l, invocations[0]))"
   ]
  },
  {
   "cell_type": "markdown",
   "metadata": {},
   "source": [
    "### Сравнение алгоритмов"
   ]
  },
  {
   "cell_type": "code",
   "execution_count": 74,
   "metadata": {
    "collapsed": false
   },
   "outputs": [
    {
     "name": "stdout",
     "output_type": "stream",
     "text": [
      "Метод дихотомии:\n",
      "    Результат: [0.39272660260326164 .. 0.405819019295839] (delta = 0.01309241669257738), Количество вызовов: 16\n"
     ]
    }
   ],
   "source": [
    "measure_function(dichotomy, \"Метод дихотомии\")"
   ]
  },
  {
   "cell_type": "code",
   "execution_count": 75,
   "metadata": {
    "collapsed": false
   },
   "outputs": [
    {
     "name": "stdout",
     "output_type": "stream",
     "text": [
      "Метод золотого сечения:\n",
      "    Результат: [0.3869910099907467 .. 0.40325224750231337] (delta = 0.016261237511566662), Количество вызовов: 11\n"
     ]
    }
   ],
   "source": [
    "measure_function(golden_ratio, \"Метод золотого сечения\")"
   ]
  },
  {
   "cell_type": "code",
   "execution_count": 76,
   "metadata": {
    "collapsed": false
   },
   "outputs": [
    {
     "name": "stdout",
     "output_type": "stream",
     "text": [
      "Метод Фибоначчи:\n",
      "    Результат: [0.39484978540772536 .. 0.40343347639484983] (delta = 0.00858369098712447), Количество вызовов: 12\n"
     ]
    }
   ],
   "source": [
    "measure_function(fibonacci, \"Метод Фибоначчи\")"
   ]
  },
  {
   "cell_type": "code",
   "execution_count": null,
   "metadata": {
    "collapsed": true
   },
   "outputs": [],
   "source": []
  }
 ],
 "metadata": {
  "kernelspec": {
   "display_name": "Python 3",
   "language": "python",
   "name": "python3"
  },
  "language_info": {
   "codemirror_mode": {
    "name": "ipython",
    "version": 3
   },
   "file_extension": ".py",
   "mimetype": "text/x-python",
   "name": "python",
   "nbconvert_exporter": "python",
   "pygments_lexer": "ipython3",
   "version": "3.6.4"
  }
 },
 "nbformat": 4,
 "nbformat_minor": 2
}
