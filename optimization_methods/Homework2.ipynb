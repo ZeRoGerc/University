{
 "cells": [
  {
   "cell_type": "markdown",
   "metadata": {},
   "source": [
    "# Методы оптимизации, ДЗ 2\n",
    "## Сазанович Владислав М3439, Вариант 110"
   ]
  },
  {
   "cell_type": "code",
   "execution_count": 36,
   "metadata": {
    "collapsed": true
   },
   "outputs": [],
   "source": [
    "import numpy as np\n",
    "import matplotlib.pyplot as plt\n",
    "import plotly.plotly as py\n",
    "import plotly.graph_objs as go\n",
    "\n",
    "import scipy\n",
    "from scipy.misc import derivative\n",
    "\n",
    "import pandas as pd"
   ]
  },
  {
   "cell_type": "code",
   "execution_count": 37,
   "metadata": {
    "collapsed": true
   },
   "outputs": [],
   "source": [
    "eps = 1e-9\n",
    "\n",
    "LEFT = -10\n",
    "RIGHT = 10\n",
    "\n",
    "def f(x, y):\n",
    "    return x**2 + y**2\n",
    "\n",
    "def df(x0, y0):\n",
    "    dx = scipy.misc.derivative(lambda x: f(x, y0), x0, eps)\n",
    "    dy = scipy.misc.derivative(lambda y: f(x0, y), y0, eps)\n",
    "    \n",
    "    return (dx, dy)"
   ]
  },
  {
   "cell_type": "code",
   "execution_count": 18,
   "metadata": {
    "collapsed": false
   },
   "outputs": [
    {
     "data": {
      "text/html": [
       "<iframe id=\"igraph\" scrolling=\"no\" style=\"border:none;\" seamless=\"seamless\" src=\"https://plot.ly/~zerogerc/18.embed\" height=\"525px\" width=\"100%\"></iframe>"
      ],
      "text/plain": [
       "<plotly.tools.PlotlyDisplay object>"
      ]
     },
     "execution_count": 18,
     "metadata": {},
     "output_type": "execute_result"
    }
   ],
   "source": [
    "X = np.linspace(-10, 10, 100)\n",
    "Y = np.linspace(-10, 10, 100)\n",
    "X, Y = np.meshgrid(X, Y)\n",
    "Z = f(X, Y)\n",
    "\n",
    "data = [\n",
    "    go.Surface(\n",
    "        x = X,\n",
    "        y = Y,\n",
    "        z = Z\n",
    "    )\n",
    "]\n",
    "layout = go.Layout(\n",
    "    title='f(x, y)',\n",
    "    autosize=False,\n",
    "    width=500,\n",
    "    height=500,\n",
    "    margin=dict(\n",
    "        l=65,\n",
    "        r=50,\n",
    "        b=65,\n",
    "        t=90\n",
    "    )\n",
    ")\n",
    "fig = go.Figure(data=data)\n",
    "py.iplot(fig, filename='function')"
   ]
  },
  {
   "cell_type": "markdown",
   "metadata": {},
   "source": [
    "# Метод покоординатного спуска"
   ]
  },
  {
   "cell_type": "code",
   "execution_count": 19,
   "metadata": {
    "collapsed": true
   },
   "outputs": [],
   "source": [
    "def golden_ratio(f):\n",
    "    l = LEFT\n",
    "    r = RIGHT\n",
    "    \n",
    "    # Значения функции в промежуточных точках неизвестны\n",
    "    f1 = None\n",
    "    f2 = None\n",
    "    \n",
    "    while (np.abs(r - l) / 2 > eps):\n",
    "        m1 = l + (3 - np.sqrt(5)) / 2 * (r - l)\n",
    "        m2 = l + (np.sqrt(5) - 1) / 2 * (r - l)\n",
    "        \n",
    "        # Вычисляем f если нет значения с предыдущего шага\n",
    "        if f1 is None:\n",
    "            f1 = f(m1)\n",
    "            \n",
    "        # Вычисляем f если нет значения с предыдущего шага\n",
    "        if f2 is None:\n",
    "            f2 = f(m2)\n",
    "            \n",
    "        if f1 <= f2:\n",
    "            r = m2\n",
    "            f2 = f1\n",
    "            f1 = None\n",
    "        else:\n",
    "            l = m1\n",
    "            f1 = f2\n",
    "            f2 = None\n",
    "    \n",
    "    return (l + r) / 2"
   ]
  },
  {
   "cell_type": "code",
   "execution_count": 20,
   "metadata": {
    "collapsed": true
   },
   "outputs": [],
   "source": [
    "def coordinates_method(f):\n",
    "    c_x = LEFT\n",
    "    c_y = LEFT\n",
    "\n",
    "    f_previous = None\n",
    "    while (True):\n",
    "        c_x = golden_ratio(lambda x: f(x, c_y))\n",
    "        c_y = golden_ratio(lambda y: f(c_x, y))\n",
    "        \n",
    "        c_f = f(c_x, c_y)\n",
    "        \n",
    "        if ((f_previous is not None) and (np.abs(c_f - f_previous) < eps)):\n",
    "            return c_x, c_y, c_f\n",
    "        \n",
    "        f_previous = c_f"
   ]
  },
  {
   "cell_type": "code",
   "execution_count": 21,
   "metadata": {
    "collapsed": false
   },
   "outputs": [
    {
     "data": {
      "text/plain": [
       "(5.990735299878577e-16, 5.990735299878577e-16, 8.472179109675535e-16)"
      ]
     },
     "execution_count": 21,
     "metadata": {},
     "output_type": "execute_result"
    }
   ],
   "source": [
    "coordinates_method(f)"
   ]
  },
  {
   "cell_type": "code",
   "execution_count": 106,
   "metadata": {
    "collapsed": false
   },
   "outputs": [],
   "source": [
    "def gradient_method(f):\n",
    "    alpha = 0.1\n",
    "    c_x = LEFT\n",
    "    c_y = LEFT\n",
    "    \n",
    "    f_previous = None\n",
    "    \n",
    "    cur_step = 0\n",
    "    while (True):\n",
    "        cur_step += 1\n",
    "        \n",
    "        if cur_step % 10 == 0:\n",
    "            alpha = alpha * 0.9\n",
    "        \n",
    "        grad = df(c_x, c_y)\n",
    "        \n",
    "        c_x -= alpha * grad[0]\n",
    "        c_y -= alpha * grad[1]\n",
    "        c_f = f(c_x, c_y)\n",
    "        \n",
    "        if ((f_previous is not None) and (np.abs(c_f - f_previous) < eps)):\n",
    "            return c_x, c_y, c_f\n",
    "\n",
    "        f_previous = c_f"
   ]
  },
  {
   "cell_type": "code",
   "execution_count": 107,
   "metadata": {
    "collapsed": false
   },
   "outputs": [
    {
     "data": {
      "text/plain": [
       "(-4.9372225122448414e-05, -4.9372225122448414e-05, 4.875233227083453e-09)"
      ]
     },
     "execution_count": 107,
     "metadata": {},
     "output_type": "execute_result"
    }
   ],
   "source": [
    "gradient_method(f)"
   ]
  },
  {
   "cell_type": "markdown",
   "metadata": {},
   "source": [
    "### Сравнение алгоритмов"
   ]
  },
  {
   "cell_type": "code",
   "execution_count": 108,
   "metadata": {
    "collapsed": true
   },
   "outputs": [],
   "source": [
    "# Функция которая оборачивает f для подсчета количества ее вызовов.\n",
    "def perf(function, invocations):\n",
    "    # Добавляет 1 к счетчику и вызывает function\n",
    "    def invoke_f(x, y, invocations):\n",
    "        invocations[0] += 1\n",
    "        return function(x, y)\n",
    "    \n",
    "    # Возвращаем фунцкию f которая будет дополнительно считать количество вызовов\n",
    "    return lambda x, y: invoke_f(x, y, invocations) "
   ]
  },
  {
   "cell_type": "code",
   "execution_count": 109,
   "metadata": {
    "collapsed": false
   },
   "outputs": [],
   "source": [
    "# Функция которая запускает алгоритм и пишет результат красиво\n",
    "def measure_function(algo, algo_name):\n",
    "    invocations = [0]\n",
    "    x, y, с_f = algo(perf(f, invocations))\n",
    "    \n",
    "    print(\n",
    "    \"\"\"\n",
    "    {}:\n",
    "        Результат:\n",
    "            x = {}\n",
    "            y = {}\n",
    "            z = {}\n",
    "        Количество вызовов: {}\n",
    "    \"\"\".format(algo_name, x, y, с_f, invocations[0]))"
   ]
  },
  {
   "cell_type": "code",
   "execution_count": 110,
   "metadata": {
    "collapsed": false
   },
   "outputs": [
    {
     "name": "stdout",
     "output_type": "stream",
     "text": [
      "\n",
      "    Покоординатный спуск:\n",
      "        Результат:\n",
      "            x = 5.990735299878577e-16\n",
      "            y = 5.990735299878577e-16\n",
      "            z = 7.177781886642253e-31\n",
      "        Количество вызовов: 198\n",
      "    \n"
     ]
    }
   ],
   "source": [
    "measure_function(coordinates_method, 'Покоординатный спуск')"
   ]
  },
  {
   "cell_type": "code",
   "execution_count": 112,
   "metadata": {
    "collapsed": false
   },
   "outputs": [
    {
     "name": "stdout",
     "output_type": "stream",
     "text": [
      "\n",
      "    Градиентный спуск:\n",
      "        Результат:\n",
      "            x = -4.9372225122448414e-05\n",
      "            y = -4.9372225122448414e-05\n",
      "            z = 4.875233227083453e-09\n",
      "        Количество вызовов: 80\n",
      "    \n"
     ]
    }
   ],
   "source": [
    "measure_function(gradient_method, 'Градиентный спуск')"
   ]
  },
  {
   "cell_type": "code",
   "execution_count": null,
   "metadata": {
    "collapsed": true
   },
   "outputs": [],
   "source": []
  }
 ],
 "metadata": {
  "kernelspec": {
   "display_name": "Python 3",
   "language": "python",
   "name": "python3"
  },
  "language_info": {
   "codemirror_mode": {
    "name": "ipython",
    "version": 3
   },
   "file_extension": ".py",
   "mimetype": "text/x-python",
   "name": "python",
   "nbconvert_exporter": "python",
   "pygments_lexer": "ipython3",
   "version": "3.6.4"
  }
 },
 "nbformat": 4,
 "nbformat_minor": 2
}
