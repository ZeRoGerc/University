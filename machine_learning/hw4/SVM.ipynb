{
 "cells": [
  {
   "cell_type": "code",
   "execution_count": 1,
   "metadata": {
    "collapsed": true
   },
   "outputs": [],
   "source": [
    "import numpy as np\n",
    "from numpy.linalg import norm\n",
    "import scipy as sc\n",
    "import pandas as pd\n",
    "import math\n",
    "import random\n",
    "from matplotlib.colors import ListedColormap\n",
    "import matplotlib.pyplot as plt\n",
    "from scipy.spatial.distance import euclidean, cityblock, correlation, chebyshev, cosine\n",
    "import matplotlib.pyplot as plt\n",
    "from IPython.display import display, HTML\n",
    "from itertools import product\n",
    "from sklearn.svm import SVC #todo\n",
    "from scipy.spatial.distance import euclidean, cityblock, correlation, chebyshev, cosine\n",
    "\n",
    "%matplotlib inline"
   ]
  },
  {
   "cell_type": "code",
   "execution_count": 2,
   "metadata": {
    "collapsed": false
   },
   "outputs": [],
   "source": [
    "data = pd.read_table('chips.txt', header=None, sep = ',')\n",
    "classes = data[2]\n",
    "features = data.drop(data.columns[[2]], axis=1)\n",
    "data.head()\n",
    "\n",
    "X = features.as_matrix()\n",
    "Y = classes.as_matrix()"
   ]
  },
  {
   "cell_type": "code",
   "execution_count": 3,
   "metadata": {
    "collapsed": true
   },
   "outputs": [],
   "source": [
    "gauss_K = lambda r : np.exp(-2 * r ** 2)\n",
    "square_K = lambda r : 0 if r > 1 else (1 - r ** 2)\n",
    "triangle_K = lambda r : 0 if r > 1 else (1 - np.abs(r))"
   ]
  },
  {
   "cell_type": "code",
   "execution_count": 4,
   "metadata": {
    "collapsed": true
   },
   "outputs": [],
   "source": [
    "def get_f1_score(y_true, y_pred):\n",
    "    combined = [ [a,b] for (a,b) in zip(y_true, y_pred) ]\n",
    "    tp = sum(x[0] == 1 and x[1] == 1 for x in combined) \n",
    "    tn = sum(x[0] != 1 and x[1] != 1 for x in combined) \n",
    "    fp = sum(x[0] != 1 and x[1] == 1 for x in combined) \n",
    "    fn = sum(x[0] == 1 and x[1] != 1 for x in combined) \n",
    "    if tp == 0:\n",
    "        return 0\n",
    "    precision = tp / (tp + fp)\n",
    "    recall = tp / (tp + fn)\n",
    "    return 2 * (precision * recall) / (precision + recall)"
   ]
  },
  {
   "cell_type": "code",
   "execution_count": 5,
   "metadata": {
    "collapsed": true
   },
   "outputs": [],
   "source": [
    "def kNN(k, metrics, trainX, trainY, testX, K=None):\n",
    "    result = []\n",
    "    i = 0\n",
    "    for point in testX:\n",
    "        distances = [[trainY[i], metrics(point, trainX[i])] for i in range (0, len(trainY))]\n",
    "        distances.sort(key=lambda p:p[1])\n",
    "\n",
    "        stat = [0., 0.]\n",
    "        if K is None:\n",
    "            for d in distances[0 : k]:\n",
    "                stat[int(d[0])] += 1\n",
    "        else:\n",
    "            w = lambda d : K(d / distances[k+1][1])\n",
    "            for d in distances:\n",
    "                stat[int(d[0])] += w(d[1])\n",
    "            \n",
    "        prediction = -1\n",
    "        if (stat[0] > stat[1]):\n",
    "            prediction = 0\n",
    "        else:\n",
    "            prediction = 1\n",
    "        result.append(prediction)\n",
    "    return result"
   ]
  },
  {
   "cell_type": "code",
   "execution_count": 6,
   "metadata": {
    "collapsed": false
   },
   "outputs": [],
   "source": [
    "class SVM_Classifier:\n",
    "    def __init__(self, C = 1.0, K=None):\n",
    "        self.C = C\n",
    "        \n",
    "        if K is None:\n",
    "            print('Using default kernel')\n",
    "            K = lambda u, v : np.dot(u.T, v)\n",
    "        self.K = K\n",
    "    \n",
    "    \n",
    "    def kV(self, x, dataX):\n",
    "        return np.apply_along_axis(lambda c : self.K(x, c), 1, dataX)\n",
    "\n",
    "    \n",
    "    def __optimization_fun__(self, alpha):\n",
    "        products = np.apply_along_axis(lambda c : c * alpha, 1, self.products)\n",
    "        products = np.apply_along_axis(lambda c : c * alpha, 0, products)\n",
    "        return -np.sum(alpha) + 0.5 * np.sum(products)\n",
    "        \n",
    "    def __cons_fun__(self, alpha):\n",
    "        return np.sum(self.trainY * alpha)\n",
    "    \n",
    "    def fit(self, trainX, trainY):\n",
    "        self.trainX = np.array(trainX)\n",
    "        self.trainY = np.array(trainY) * 2 - 1\n",
    "        \n",
    "        self.products = np.apply_along_axis(lambda c : self.kV(c, self.trainX), 1, self.trainX)\n",
    "        self.products = np.apply_along_axis(lambda c : c * self.trainY, 1, self.products)\n",
    "        self.products = np.apply_along_axis(lambda c : c * self.trainY, 0, self.products)\n",
    "        \n",
    "        XX = self.K(self.trainX[:,np.newaxis,...], self.trainX[np.newaxis,...])\n",
    "        B = self.trainY[:,np.newaxis].dot(self.trainY[:,np.newaxis].T) * XX / 2\n",
    "        A = -np.ones_like(self.trainY[:,np.newaxis].T)\n",
    "        loss = lambda l: (A.dot(l) + l.T.dot(B).dot(l))\n",
    "        \n",
    "#         loss = lambda alpha: self.__optimization_fun__(alpha)\n",
    "        \n",
    "        cons = ({'type': 'eq', 'fun': self.__cons_fun__ },\n",
    "                {'type': 'ineq', 'fun': lambda alpha : alpha},\n",
    "                {'type': 'ineq', 'fun': lambda alpha : self.C - alpha})\n",
    "        \n",
    "        res = sc.optimize.minimize(\n",
    "            loss, \n",
    "            np.zeros(len(self.trainX)),\n",
    "            method='SLSQP',\n",
    "            constraints=cons\n",
    "        )\n",
    "            \n",
    "        print(res.success)\n",
    "        self.alpha = res.x\n",
    "        \n",
    "        num_sup = 0\n",
    "        temp = []\n",
    "        for k in range(0, len(res.x)):\n",
    "            if np.abs(res.x[k]) > 1e-12:\n",
    "                num_sup += 1\n",
    "                s = 0\n",
    "                for i in range(0, len(res.x)):\n",
    "                    s += self.alpha[i] * self.trainY[i] * self.K(self.trainX[i], self.trainX[k])\n",
    "                s -= self.trainY[k]\n",
    "                temp.append(s)\n",
    "              \n",
    "        \n",
    "#         print('Number of support vectors: {}'.format(num_sup))\n",
    "        self.W0 = np.median(temp)\n",
    "    \n",
    "    def predict(self, testX):\n",
    "        res = []\n",
    "        for point in testX:\n",
    "            temp = -self.W0\n",
    "            for i in range(0, len(self.trainY)):\n",
    "                temp += self.alpha[i] * self.trainY[i] * self.K(self.trainX[i], point)\n",
    "            if temp > 0:\n",
    "                res.append(1)\n",
    "            else:\n",
    "                res.append(0)\n",
    "        return np.array(res)"
   ]
  },
  {
   "cell_type": "code",
   "execution_count": 7,
   "metadata": {
    "collapsed": false
   },
   "outputs": [],
   "source": [
    "def getKnnPredictioner(neighbours = 7, metrics = chebyshev, kernel = None):\n",
    "    return lambda trainX, trainY, testX : kNN(neighbours, metrics, trainX, trainY, testX, kernel)"
   ]
  },
  {
   "cell_type": "code",
   "execution_count": 8,
   "metadata": {
    "collapsed": true
   },
   "outputs": [],
   "source": [
    "def getSvmPredHelper(classifier, trainX, trainY, testX):\n",
    "    classifier.fit(trainX, trainY)\n",
    "    return classifier.predict(testX)"
   ]
  },
  {
   "cell_type": "code",
   "execution_count": 9,
   "metadata": {
    "collapsed": true
   },
   "outputs": [],
   "source": [
    "def getSvmPredictioner(C = 1000, kernel = 'rbf'):\n",
    "    classifier = SVC(C, kernel, random_state=241)\n",
    "    return lambda trainX, trainY, testX : getSvmPredHelper(classifier, trainX, trainY, testX)"
   ]
  },
  {
   "cell_type": "code",
   "execution_count": 10,
   "metadata": {
    "collapsed": true
   },
   "outputs": [],
   "source": [
    "def rbf_kernel(u, v):\n",
    "    return np.exp(-np.square(norm(u - v, axis=-1)))\n",
    "\n",
    "def getMySvmPredHelper(trainX, trainY, testX):\n",
    "    classifier = SVM_Classifier(1, rbf_kernel)\n",
    "    classifier.fit(trainX, trainY)\n",
    "    return classifier.predict(testX)\n",
    "\n",
    "def getMySvmPredictioner(): \n",
    "    return lambda trainX, trainY, testX : getMySvmPredHelper(trainX, trainY, testX)"
   ]
  },
  {
   "cell_type": "code",
   "execution_count": 11,
   "metadata": {
    "collapsed": true
   },
   "outputs": [],
   "source": [
    "def getCrossValidationIndexes(length, k):\n",
    "    indexes = []\n",
    "    for i in range(0, length):\n",
    "        indexes.append(i)\n",
    "    random.seed(241)\n",
    "    random.shuffle(indexes)\n",
    "    result = []\n",
    "    packSize = math.ceil(length/k)\n",
    "    for i in range (0, k):\n",
    "        left = []\n",
    "        right = []\n",
    "        for j in range (i * packSize, min((i + 1) * (packSize) - 1, length)):\n",
    "            right.append(indexes[j])\n",
    "        for j in range (0, i * packSize):\n",
    "            left.append(indexes[j])\n",
    "        for j in range (min((i + 1) * (packSize) - 1, length), length):\n",
    "            left.append(indexes[j])\n",
    "        result.append([left, right])\n",
    "    return result"
   ]
  },
  {
   "cell_type": "code",
   "execution_count": 12,
   "metadata": {
    "collapsed": true
   },
   "outputs": [],
   "source": [
    "def showVariant(data, folds, predictioner, show_plot = False):\n",
    "    kf = getCrossValidationIndexes(len(data), folds)\n",
    "    \n",
    "    f1_score = []\n",
    "    j = 0\n",
    "    \n",
    "    all_points = np.zeros(200)\n",
    "    for train_index, test_index in kf:\n",
    "        trainX, testX = X[train_index], X[test_index]\n",
    "        trainY, testY = Y[train_index], Y[test_index]\n",
    "        j += 1\n",
    "        predicted = predictioner(trainX, trainY, testX)\n",
    "\n",
    "        f1_cur = get_f1_score(testY, predicted) \n",
    "        f1_score.append(f1_cur)\n",
    "        print(j, \"fold, f1 score is\", f1_cur)\n",
    "        \n",
    "    if show_plot:\n",
    "        space = [[], []]\n",
    "        space[0] = np.linspace(-1.5, 1.5, num=50)\n",
    "        space[1] = np.linspace(-1.5, 1.5, num=50)\n",
    "        space = np.array(list(product(*space)))\n",
    "        pre = predictioner(X, Y, space)\n",
    "\n",
    "        ones = [[], []]\n",
    "        zeros = [[], []]\n",
    "        for pos in range(0, len(space)):\n",
    "            if (pre[pos] == 1):\n",
    "                ones[0].append(space[pos][0])\n",
    "                ones[1].append(space[pos][1])\n",
    "            else:\n",
    "                zeros[0].append(space[pos][0])\n",
    "                zeros[1].append(space[pos][1])\n",
    "\n",
    "        plt.plot(ones[:][0], ones[:][1], \"ro\", markersize=1)\n",
    "        plt.plot(zeros[:][0], zeros[:][1], \"bo\", markersize=1)\n",
    "\n",
    "        for pos in range(0, len(Y)):\n",
    "            if (Y[pos] == 0):\n",
    "                plt.plot(X[pos][0], X[pos][1], \"b^\")\n",
    "            else:\n",
    "                plt.plot(X[pos][0], X[pos][1], \"gs\")\n",
    "        plt.show()\n",
    "    return f1_score"
   ]
  },
  {
   "cell_type": "code",
   "execution_count": 13,
   "metadata": {
    "collapsed": false
   },
   "outputs": [
    {
     "name": "stdout",
     "output_type": "stream",
     "text": [
      "1 fold, f1 score is 0.8\n",
      "2 fold, f1 score is 0.823529411765\n",
      "3 fold, f1 score is 0.777777777778\n",
      "4 fold, f1 score is 0.888888888889\n",
      "5 fold, f1 score is 0.705882352941\n",
      "6 fold, f1 score is 0.727272727273\n",
      "7 fold, f1 score is 0.461538461538\n"
     ]
    },
    {
     "data": {
      "image/png": "[encoded data removed]",
      "text/plain": [
       "<matplotlib.figure.Figure at 0x116bba0b8>"
      ]
     },
     "metadata": {},
     "output_type": "display_data"
    },
    {
     "name": "stdout",
     "output_type": "stream",
     "text": [
      "0.740698517169\n"
     ]
    }
   ],
   "source": [
    "f1_score = showVariant(data, 7, getKnnPredictioner(), True)\n",
    "print(np.mean(f1_score))"
   ]
  },
  {
   "cell_type": "code",
   "execution_count": 14,
   "metadata": {
    "collapsed": false
   },
   "outputs": [
    {
     "name": "stdout",
     "output_type": "stream",
     "text": [
      "1 fold, f1 score is 0.736842105263\n",
      "2 fold, f1 score is 0.823529411765\n",
      "3 fold, f1 score is 0.777777777778\n",
      "4 fold, f1 score is 1.0\n",
      "5 fold, f1 score is 0.842105263158\n",
      "6 fold, f1 score is 0.8\n",
      "7 fold, f1 score is 0.714285714286\n"
     ]
    },
    {
     "data": {
      "image/png": "[encoded data removed]",
      "text/plain": [
       "<matplotlib.figure.Figure at 0x116bbad68>"
      ]
     },
     "metadata": {},
     "output_type": "display_data"
    },
    {
     "name": "stdout",
     "output_type": "stream",
     "text": [
      "0.813505753178\n"
     ]
    }
   ],
   "source": [
    "f1_score = showVariant(data, 7, getSvmPredictioner(), True)\n",
    "print(np.mean(f1_score))"
   ]
  },
  {
   "cell_type": "code",
   "execution_count": 15,
   "metadata": {
    "collapsed": true
   },
   "outputs": [],
   "source": [
    "def showConfusionMatrix(predictioner):          #predicted x real\n",
    "    confM = [[0, 0], [0, 0]]\n",
    "    predicted = predictioner(X, Y, X)\n",
    "    for i in range(0, len(predicted)):\n",
    "        if (Y[i] == 0):\n",
    "            if (predicted[i] == 0):\n",
    "                confM[0][0] += 1\n",
    "            else:\n",
    "                confM[1][0] += 1\n",
    "        else:\n",
    "            if (predicted[i] == 0):\n",
    "                confM[0][1] += 1\n",
    "            else:\n",
    "                confM[1][1] += 1\n",
    "    print('     |   0    |  1    |   - real ')\n",
    "    print('     ------------------')\n",
    "    print(' 0   |  ', confM[0][0], '  |  ', confM[0][1], '  |   ')\n",
    "    print(' 1   |  ', confM[1][0], '  |  ', confM[1][1], ' |   ')"
   ]
  },
  {
   "cell_type": "code",
   "execution_count": 16,
   "metadata": {
    "collapsed": false
   },
   "outputs": [
    {
     "name": "stdout",
     "output_type": "stream",
     "text": [
      "     |   0    |  1    |   - real \n",
      "     ------------------\n",
      " 0   |   49   |   6   |   \n",
      " 1   |   11   |   52  |   \n"
     ]
    }
   ],
   "source": [
    "showConfusionMatrix(getSvmPredictioner())"
   ]
  },
  {
   "cell_type": "code",
   "execution_count": 17,
   "metadata": {
    "collapsed": false
   },
   "outputs": [
    {
     "name": "stdout",
     "output_type": "stream",
     "text": [
      "0\n",
      "1\n",
      "2\n",
      "3\n",
      "4\n",
      "5\n",
      "6\n",
      "7\n",
      "8\n",
      "9\n"
     ]
    }
   ],
   "source": [
    "for i in range(0, 10):\n",
    "    print(i)"
   ]
  },
  {
   "cell_type": "code",
   "execution_count": 18,
   "metadata": {
    "collapsed": false
   },
   "outputs": [
    {
     "data": {
      "text/plain": [
       "11"
      ]
     },
     "execution_count": 18,
     "metadata": {},
     "output_type": "execute_result"
    }
   ],
   "source": [
    "x = np.array([1,2])\n",
    "y = np.array([3,4])\n",
    "np.dot(x.T, y)"
   ]
  },
  {
   "cell_type": "code",
   "execution_count": 19,
   "metadata": {
    "collapsed": false
   },
   "outputs": [
    {
     "data": {
      "text/plain": [
       "-322.0"
      ]
     },
     "execution_count": 19,
     "metadata": {},
     "output_type": "execute_result"
    }
   ],
   "source": [
    "alpha = np.array([1,2,3])\n",
    "trainX = np.array([[1,2], [3,4], [5,6]])\n",
    "trainY = np.array([1,0,1])\n",
    "K =  lambda u, v : np.dot(u.T, v)\n",
    "\n",
    "def __optimization_fun__(alpha, trainX, trainY):\n",
    "        res = np.sum(alpha)\n",
    "        # todo\n",
    "        for i in range(0, len(alpha)):\n",
    "            for j in range(0, len(alpha)):\n",
    "                res -= 0.5 * alpha[i] * alpha[j] * trainY[i] * trainY[j] * K(trainX[i], trainX[j])\n",
    "        return res\n",
    "__optimization_fun__(alpha, trainX, trainY)"
   ]
  },
  {
   "cell_type": "code",
   "execution_count": 20,
   "metadata": {
    "collapsed": false
   },
   "outputs": [
    {
     "data": {
      "text/plain": [
       "array([4, 6])"
      ]
     },
     "execution_count": 20,
     "metadata": {},
     "output_type": "execute_result"
    }
   ],
   "source": [
    "x = np.array([[1,2],[3,4]])\n",
    "np.apply_along_axis(lambda x : x[0] + x[1], 0, x)"
   ]
  },
  {
   "cell_type": "code",
   "execution_count": null,
   "metadata": {
    "collapsed": false
   },
   "outputs": [],
   "source": []
  },
  {
   "cell_type": "code",
   "execution_count": 21,
   "metadata": {
    "collapsed": false
   },
   "outputs": [
    {
     "data": {
      "text/plain": [
       "(118, 2)"
      ]
     },
     "execution_count": 21,
     "metadata": {},
     "output_type": "execute_result"
    }
   ],
   "source": [
    "X.shape"
   ]
  },
  {
   "cell_type": "code",
   "execution_count": 22,
   "metadata": {
    "collapsed": false
   },
   "outputs": [
    {
     "name": "stdout",
     "output_type": "stream",
     "text": [
      "[1 2]\n",
      "[3 4]\n",
      "[[ 5 11]\n",
      " [11 25]]\n"
     ]
    },
    {
     "data": {
      "text/plain": [
       "array([[ 5, 11],\n",
       "       [22, 50]])"
      ]
     },
     "execution_count": 22,
     "metadata": {},
     "output_type": "execute_result"
    }
   ],
   "source": [
    "# def f(x, dataX):\n",
    "#     return np.apply_along_axis(lambda c : np.dot(x.T, c), 1, dataX)\n",
    "\n",
    "def f (x, dataX):\n",
    "    print(x)\n",
    "    return np.apply_along_axis(lambda c : np.dot(x.T, c), 1, dataX)\n",
    "\n",
    "x = np.array([[1,2],[3,4]])\n",
    "z = np.apply_along_axis(lambda c : f(c, x), 1, x)\n",
    "print(z)\n",
    "\n",
    "np.apply_along_axis(lambda c : c * [1,2], 0, z)"
   ]
  },
  {
   "cell_type": "code",
   "execution_count": null,
   "metadata": {
    "collapsed": false
   },
   "outputs": [],
   "source": []
  },
  {
   "cell_type": "code",
   "execution_count": 23,
   "metadata": {
    "collapsed": false
   },
   "outputs": [
    {
     "name": "stdout",
     "output_type": "stream",
     "text": [
      "Using default kernel\n"
     ]
    },
    {
     "ename": "ValueError",
     "evalue": "operands could not be broadcast together with shapes (118,118) (2,1,1,2) ",
     "output_type": "error",
     "traceback": [
      "\u001b[0;31m---------------------------------------------------------------------------\u001b[0m",
      "\u001b[0;31mValueError\u001b[0m                                Traceback (most recent call last)",
      "\u001b[0;32m<ipython-input-23-c3acc92e5152>\u001b[0m in \u001b[0;36m<module>\u001b[0;34m()\u001b[0m\n\u001b[1;32m      1\u001b[0m \u001b[0mm\u001b[0m \u001b[0;34m=\u001b[0m \u001b[0mSVM_Classifier\u001b[0m\u001b[0;34m(\u001b[0m\u001b[0;36m1.\u001b[0m\u001b[0;34m)\u001b[0m\u001b[0;34m\u001b[0m\u001b[0m\n\u001b[0;32m----> 2\u001b[0;31m \u001b[0mm\u001b[0m\u001b[0;34m.\u001b[0m\u001b[0mfit\u001b[0m\u001b[0;34m(\u001b[0m\u001b[0mX\u001b[0m\u001b[0;34m,\u001b[0m \u001b[0mY\u001b[0m\u001b[0;34m)\u001b[0m\u001b[0;34m\u001b[0m\u001b[0m\n\u001b[0m\u001b[1;32m      3\u001b[0m \u001b[0mx_min\u001b[0m\u001b[0;34m,\u001b[0m \u001b[0mx_max\u001b[0m \u001b[0;34m=\u001b[0m \u001b[0mX\u001b[0m\u001b[0;34m.\u001b[0m\u001b[0mT\u001b[0m\u001b[0;34m[\u001b[0m\u001b[0;36m0\u001b[0m\u001b[0;34m]\u001b[0m\u001b[0;34m.\u001b[0m\u001b[0mmin\u001b[0m\u001b[0;34m(\u001b[0m\u001b[0;34m)\u001b[0m \u001b[0;34m-\u001b[0m \u001b[0;36m.05\u001b[0m\u001b[0;34m,\u001b[0m \u001b[0mX\u001b[0m\u001b[0;34m.\u001b[0m\u001b[0mT\u001b[0m\u001b[0;34m[\u001b[0m\u001b[0;36m0\u001b[0m\u001b[0;34m]\u001b[0m\u001b[0;34m.\u001b[0m\u001b[0mmax\u001b[0m\u001b[0;34m(\u001b[0m\u001b[0;34m)\u001b[0m \u001b[0;34m+\u001b[0m \u001b[0;36m.05\u001b[0m\u001b[0;34m\u001b[0m\u001b[0m\n\u001b[1;32m      4\u001b[0m \u001b[0my_min\u001b[0m\u001b[0;34m,\u001b[0m \u001b[0my_max\u001b[0m \u001b[0;34m=\u001b[0m \u001b[0mX\u001b[0m\u001b[0;34m.\u001b[0m\u001b[0mT\u001b[0m\u001b[0;34m[\u001b[0m\u001b[0;36m1\u001b[0m\u001b[0;34m]\u001b[0m\u001b[0;34m.\u001b[0m\u001b[0mmin\u001b[0m\u001b[0;34m(\u001b[0m\u001b[0;34m)\u001b[0m \u001b[0;34m-\u001b[0m \u001b[0;36m.05\u001b[0m\u001b[0;34m,\u001b[0m \u001b[0mX\u001b[0m\u001b[0;34m.\u001b[0m\u001b[0mT\u001b[0m\u001b[0;34m[\u001b[0m\u001b[0;36m1\u001b[0m\u001b[0;34m]\u001b[0m\u001b[0;34m.\u001b[0m\u001b[0mmax\u001b[0m\u001b[0;34m(\u001b[0m\u001b[0;34m)\u001b[0m \u001b[0;34m+\u001b[0m \u001b[0;36m.05\u001b[0m\u001b[0;34m\u001b[0m\u001b[0m\n\u001b[1;32m      5\u001b[0m \u001b[0;34m\u001b[0m\u001b[0m\n",
      "\u001b[0;32m<ipython-input-6-a8b35af1e551>\u001b[0m in \u001b[0;36mfit\u001b[0;34m(self, trainX, trainY)\u001b[0m\n\u001b[1;32m     30\u001b[0m \u001b[0;34m\u001b[0m\u001b[0m\n\u001b[1;32m     31\u001b[0m         \u001b[0mXX\u001b[0m \u001b[0;34m=\u001b[0m \u001b[0mself\u001b[0m\u001b[0;34m.\u001b[0m\u001b[0mK\u001b[0m\u001b[0;34m(\u001b[0m\u001b[0mself\u001b[0m\u001b[0;34m.\u001b[0m\u001b[0mtrainX\u001b[0m\u001b[0;34m[\u001b[0m\u001b[0;34m:\u001b[0m\u001b[0;34m,\u001b[0m\u001b[0mnp\u001b[0m\u001b[0;34m.\u001b[0m\u001b[0mnewaxis\u001b[0m\u001b[0;34m,\u001b[0m\u001b[0;34m...\u001b[0m\u001b[0;34m]\u001b[0m\u001b[0;34m,\u001b[0m \u001b[0mself\u001b[0m\u001b[0;34m.\u001b[0m\u001b[0mtrainX\u001b[0m\u001b[0;34m[\u001b[0m\u001b[0mnp\u001b[0m\u001b[0;34m.\u001b[0m\u001b[0mnewaxis\u001b[0m\u001b[0;34m,\u001b[0m\u001b[0;34m...\u001b[0m\u001b[0;34m]\u001b[0m\u001b[0;34m)\u001b[0m\u001b[0;34m\u001b[0m\u001b[0m\n\u001b[0;32m---> 32\u001b[0;31m         \u001b[0mB\u001b[0m \u001b[0;34m=\u001b[0m \u001b[0mself\u001b[0m\u001b[0;34m.\u001b[0m\u001b[0mtrainY\u001b[0m\u001b[0;34m[\u001b[0m\u001b[0;34m:\u001b[0m\u001b[0;34m,\u001b[0m\u001b[0mnp\u001b[0m\u001b[0;34m.\u001b[0m\u001b[0mnewaxis\u001b[0m\u001b[0;34m]\u001b[0m\u001b[0;34m.\u001b[0m\u001b[0mdot\u001b[0m\u001b[0;34m(\u001b[0m\u001b[0mself\u001b[0m\u001b[0;34m.\u001b[0m\u001b[0mtrainY\u001b[0m\u001b[0;34m[\u001b[0m\u001b[0;34m:\u001b[0m\u001b[0;34m,\u001b[0m\u001b[0mnp\u001b[0m\u001b[0;34m.\u001b[0m\u001b[0mnewaxis\u001b[0m\u001b[0;34m]\u001b[0m\u001b[0;34m.\u001b[0m\u001b[0mT\u001b[0m\u001b[0;34m)\u001b[0m \u001b[0;34m*\u001b[0m \u001b[0mXX\u001b[0m \u001b[0;34m/\u001b[0m \u001b[0;36m2\u001b[0m\u001b[0;34m\u001b[0m\u001b[0m\n\u001b[0m\u001b[1;32m     33\u001b[0m         \u001b[0mA\u001b[0m \u001b[0;34m=\u001b[0m \u001b[0;34m-\u001b[0m\u001b[0mnp\u001b[0m\u001b[0;34m.\u001b[0m\u001b[0mones_like\u001b[0m\u001b[0;34m(\u001b[0m\u001b[0mself\u001b[0m\u001b[0;34m.\u001b[0m\u001b[0mtrainY\u001b[0m\u001b[0;34m[\u001b[0m\u001b[0;34m:\u001b[0m\u001b[0;34m,\u001b[0m\u001b[0mnp\u001b[0m\u001b[0;34m.\u001b[0m\u001b[0mnewaxis\u001b[0m\u001b[0;34m]\u001b[0m\u001b[0;34m.\u001b[0m\u001b[0mT\u001b[0m\u001b[0;34m)\u001b[0m\u001b[0;34m\u001b[0m\u001b[0m\n\u001b[1;32m     34\u001b[0m         \u001b[0mloss\u001b[0m \u001b[0;34m=\u001b[0m \u001b[0;32mlambda\u001b[0m \u001b[0ml\u001b[0m\u001b[0;34m:\u001b[0m \u001b[0;34m(\u001b[0m\u001b[0mA\u001b[0m\u001b[0;34m.\u001b[0m\u001b[0mdot\u001b[0m\u001b[0;34m(\u001b[0m\u001b[0ml\u001b[0m\u001b[0;34m)\u001b[0m \u001b[0;34m+\u001b[0m \u001b[0ml\u001b[0m\u001b[0;34m.\u001b[0m\u001b[0mT\u001b[0m\u001b[0;34m.\u001b[0m\u001b[0mdot\u001b[0m\u001b[0;34m(\u001b[0m\u001b[0mB\u001b[0m\u001b[0;34m)\u001b[0m\u001b[0;34m.\u001b[0m\u001b[0mdot\u001b[0m\u001b[0;34m(\u001b[0m\u001b[0ml\u001b[0m\u001b[0;34m)\u001b[0m\u001b[0;34m)\u001b[0m\u001b[0;34m\u001b[0m\u001b[0m\n",
      "\u001b[0;31mValueError\u001b[0m: operands could not be broadcast together with shapes (118,118) (2,1,1,2) "
     ]
    }
   ],
   "source": [
    "m = SVM_Classifier(1.)\n",
    "m.fit(X, Y)\n",
    "x_min, x_max = X.T[0].min() - .05, X.T[0].max() + .05\n",
    "y_min, y_max = X.T[1].min() - .05, X.T[1].max() + .05\n",
    "\n",
    "xx, yy = np.meshgrid(np.arange(x_min, x_max, 0.05), np.arange(y_min, y_max, 0.05))\n",
    "\n",
    "test = np.c_[xx.ravel(), yy.ravel()]\n",
    "a = np.array(m.predict(test)).reshape(xx.shape)\n",
    "plt.figure(figsize=(10 ,10))\n",
    "plt.contourf(xx, yy, a, alpha=.6)\n",
    "plt.scatter(X[Y == 0].T[0], X[Y == 0].T[1])\n",
    "plt.scatter(X[Y == 1].T[0], X[Y == 1].T[1])"
   ]
  },
  {
   "cell_type": "code",
   "execution_count": null,
   "metadata": {
    "collapsed": true
   },
   "outputs": [],
   "source": []
  }
 ],
 "metadata": {
  "kernelspec": {
   "display_name": "Python 3",
   "language": "python",
   "name": "python3"
  },
  "language_info": {
   "codemirror_mode": {
    "name": "ipython",
    "version": 3
   },
   "file_extension": ".py",
   "mimetype": "text/x-python",
   "name": "python",
   "nbconvert_exporter": "python",
   "pygments_lexer": "ipython3",
   "version": "3.6.2"
  }
 },
 "nbformat": 4,
 "nbformat_minor": 2
}
