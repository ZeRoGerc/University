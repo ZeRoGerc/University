{
 "cells": [
  {
   "cell_type": "code",
   "execution_count": 1,
   "metadata": {
    "collapsed": true
   },
   "outputs": [],
   "source": [
    "# TODOs\n",
    "# Deal with subject and body\n",
    "# theory : why spam_prob / non_spam_prob < threshold ? "
   ]
  },
  {
   "cell_type": "code",
   "execution_count": 2,
   "metadata": {
    "collapsed": true
   },
   "outputs": [],
   "source": [
    "import numpy as np\n",
    "import pandas as pd\n",
    "import os\n",
    "import plotly.plotly as py\n",
    "import plotly.graph_objs as go\n",
    "import matplotlib.pyplot as plt"
   ]
  },
  {
   "cell_type": "code",
   "execution_count": 3,
   "metadata": {
    "collapsed": true
   },
   "outputs": [],
   "source": [
    "def draw_plot(x, y, x_label, y_label, title):    \n",
    "    x = np.array(x)\n",
    "    y = np.array(y)\n",
    "    plt.plot(x, y)\n",
    "    \n",
    "    plt.xlabel(x_label)\n",
    "    plt.ylabel(y_label)\n",
    "    plt.title(title)\n",
    "    plt.grid(True)\n",
    "    plt.show()"
   ]
  },
  {
   "cell_type": "code",
   "execution_count": 44,
   "metadata": {
    "collapsed": false
   },
   "outputs": [],
   "source": [
    "path = \"part\"\n",
    "SPAM = \"spmsg\"\n",
    "LEGIT = \"legit\"\n",
    "\n",
    "def getMessages():\n",
    "    messages = pd.DataFrame(columns=['folder', 'subject', 'text', 'spam'])\n",
    "    for folderNumber in range (1, 11):\n",
    "        curPath = path + str(folderNumber)\n",
    "        spam = []\n",
    "        legit = []\n",
    "        for filename in os.listdir(curPath):\n",
    "            file = open(curPath + \"/\" + filename, 'r')\n",
    "            subject = list(map(int, file.readline().split()[1:]))\n",
    "            file.readline()\n",
    "            text = list(map(int, file.readline().split()))\n",
    "            legit_flag = LEGIT in filename\n",
    "            cur_msg = pd.DataFrame([[folderNumber, subject, text, legit_flag]], columns=['folder', 'subject', 'text', 'spam'])\n",
    "            messages = messages.append(cur_msg, ignore_index=True)\n",
    "    return messages"
   ]
  },
  {
   "cell_type": "code",
   "execution_count": 45,
   "metadata": {
    "collapsed": false
   },
   "outputs": [
    {
     "name": "stdout",
     "output_type": "stream",
     "text": [
      "     folder                   subject                      text   spam\n",
      "0         1                   [14486]  [14486, 80, 196, 64, ...  False\n",
      "1         1  [12091, 16398, 21903,...  [86, 86, 86, 86, 86, ...  False\n",
      "2         1     [2056, 118, 4053, 47]  [19071, 80, 2176, 134...  False\n",
      "3         1  [1692, 17345, 10936, ...  [16735, 16721, 2843, ...  False\n",
      "4         1  [23340, 1967, 12372, ...  [19054, 7634, 1847, 2...   True\n",
      "5         1        [2056, 118, 10911]  [4533, 4407, 1967, 14...   True\n",
      "6         1                   [19071]  [284, 14851, 80, 1734...   True\n",
      "7         1     [130, 4053, 6592, 84]  [284, 716, 80, 82, 82...  False\n",
      "8         1  [12243, 15462, 47, 47...  [15964, 22301, 1363, ...  False\n",
      "9         1                    [9450]  [6306, 118, 86, 86, 1...   True\n",
      "10        1  [12314, 1967, 16502, ...  [17345, 4339, 8962, 2...  False\n",
      "11        1  [23724, 118, 7745, 13...  [68, 16474, 1812, 173...   True\n",
      "12        1  [167, 190, 82, 3115, ...  [82, 82, 82, 82, 82, ...   True\n",
      "13        1  [2056, 118, 11082, 19...  [284, 15780, 84, 1634...   True\n",
      "14        1               [17658, 47]  [17658, 47, 17345, 64...  False\n",
      "15        1  [17374, 10879, 1991, ...  [3819, 21670, 16474, ...   True\n",
      "16        1  [12377, 1991, 22627, ...  [284, 1705, 84, 5171,...   True\n",
      "17        1  [2056, 118, 4822, 62,...  [1791, 14851, 8962, 2...   True\n",
      "18        1  [167, 190, 82, 14988,...  [14339, 22301, 20083,...   True\n",
      "19        1  [12314, 1967, 16502, ...  [905, 22760, 82, 1231...  False\n",
      "20        1  [167, 8, 171, 15613, ...  [3819, 23681, 14338, ...   True\n",
      "21        1  [2056, 118, 6056, 134...  [127, 6056, 13406, 65...   True\n",
      "22        1  [1368, 15860, 14338, ...  [1835, 23758, 17345, ...   True\n",
      "23        1  [59, 109, 4774, 13808...  [23607, 11397, 16502,...  False\n",
      "24        1  [14574, 21670, 8625, ...  [8323, 7634, 118, 178...   True\n",
      "25        1  [130, 5527, 84, 13830...  [82, 82, 82, 82, 82, ...   True\n",
      "26        1  [13249, 118, 253, 253...  [4479, 130, 15985, 43...  False\n",
      "27        1    [5581, 2130, 2005, 47]  [1791, 13383, 80, 896...   True\n",
      "28        1  [11006, 10373, 13406,...  [13611, 12694, 21399,...   True\n",
      "29        1  [2056, 118, 13547, 52...  [284, 1943, 84, 5171,...   True\n",
      "...     ...                       ...                       ...    ...\n",
      "1060     10  [10879, 1991, 2624, 1...  [76, 76, 76, 76, 76, ...   True\n",
      "1061     10  [55, 22580, 82, 8870,...  [284, 14851, 5171, 80...   True\n",
      "1062     10  [2056, 118, 20215, 10...  [1791, 14851, 80, 328...   True\n",
      "1063     10  [6800, 7204, 1847, 13...  [19054, 1847, 15691, ...  False\n",
      "1064     10              [6800, 7204]  [19054, 1847, 15691, ...  False\n",
      "1065     10  [14988, 118, 6661, 14...  [6661, 14372, 1835, 9...   True\n",
      "1066     10       [15527, 24041, 131]  [284, 1705, 84, 5171,...   True\n",
      "1067     10             [10782, 2228]  [284, 16360, 86, 1267...  False\n",
      "1068     10        [2056, 118, 20140]  [21781, 80, 196, 1732...   True\n",
      "1069     10  [15527, 1991, 20382, ...  [19054, 1847, 15527, ...  False\n",
      "1070     10  [23340, 1967, 12372, ...  [284, 18643, 80, 2229...   True\n",
      "1071     10                [1791, 47]  [76, 76, 76, 19054, 1...  False\n",
      "1072     10  [3193, 23681, 14338, ...  [167, 16474, 14338, 8...   True\n",
      "1073     10  [2056, 118, 24731, 14...  [284, 14851, 80, 196,...   True\n",
      "1074     10  [125, 125, 125, 794, ...  [8962, 17225, 84, 84,...  False\n",
      "1075     10  [16926, 13547, 13757,...  [1692, 17345, 21366, ...  False\n",
      "1076     10  [130, 12814, 20259, 3...  [19969, 4412, 8424, 8...  False\n",
      "1077     10  [167, 8, 171, 5091, 1...  [167, 2176, 16832, 14...   True\n",
      "1078     10  [22301, 14372, 1835, ...  [16474, 2130, 18077, ...   True\n",
      "1079     10                    [8634]  [19054, 7634, 13141, ...  False\n",
      "1080     10                        []  [9804, 118, 12375, 24...   True\n",
      "1081     10  [13249, 118, 14328, 1...  [1192, 21906, 17345, ...  False\n",
      "1082     10  [3735, 24183, 6567, 1...  [284, 10092, 9561, 17...   True\n",
      "1083     10             [1791, 22641]  [196, 16893, 18417, 2...   True\n",
      "1084     10  [2056, 118, 1437, 134...  [16756, 2130, 18896, ...   True\n",
      "1085     10          [17866, 289, 47]  [1791, 80, 2176, 2153...  False\n",
      "1086     10  [13249, 118, 1192, 59...  [76, 76, 76, 76, 76, ...  False\n",
      "1087     10   [2056, 118, 4196, 9700]  [284, 14851, 80, 1850...   True\n",
      "1088     10  [3247, 15966, 21990, ...  [284, 12296, 118, 181...  False\n",
      "1089     10                   [17189]  [61, 61, 61, 61, 61, ...   True\n",
      "\n",
      "[1090 rows x 4 columns]\n"
     ]
    }
   ],
   "source": [
    "pd.set_option('max_colwidth',25)\n",
    "full_messages = getMessages()\n",
    "print (full_messages)"
   ]
  },
  {
   "cell_type": "code",
   "execution_count": 46,
   "metadata": {
    "collapsed": false
   },
   "outputs": [
    {
     "name": "stdout",
     "output_type": "stream",
     "text": [
      "[14486, 80, 196, 64, 1896, 8962, 14328, 2130, 16502, 9211, 84, 196, 4339, 180, 16926, 18247, 18957, 14403, 4053, 23476, 2130, 16502, 752, 23266, 17348, 8857, 1991, 16502, 16926, 84, 1812, 17345, 21366, 15820, 18998, 84, 84, 84, 765, 4784, 84, 1812, 15691, 80, 18948, 196, 1591, 16085, 14338, 19054, 10248, 84, 118, 70]\n"
     ]
    }
   ],
   "source": [
    "print(full_messages['text'][0])"
   ]
  },
  {
   "cell_type": "code",
   "execution_count": 138,
   "metadata": {
    "collapsed": false
   },
   "outputs": [],
   "source": [
    "class BayesianClassifier:\n",
    "    unique_words_cnt = 0\n",
    "    words = []\n",
    "    class_freq = []\n",
    "    words_cnt = []\n",
    "    class_size = []\n",
    "    \n",
    "    def train(self, messages):\n",
    "        self.class_freq = np.zeros(2) # P(C)\n",
    "        self.words_cnt = [np.zeros(25000), np.zeros(25000)] # P(w_i | C) = P(w_i * C) / P(C) P(A | B)\n",
    "        self.messages = messages\n",
    "        \n",
    "        self.class_size = self.messages['spam'].value_counts()\n",
    "        self.class_freq[0] = self.class_size[False] / len(self.messages)\n",
    "        self.class_freq[1] = self.class_size[True] / len(self.messages)\n",
    "        \n",
    "        for index, row in self.messages.iterrows():\n",
    "            if row['spam']:\n",
    "                id = 1\n",
    "            else:\n",
    "                id = 0\n",
    "            \n",
    "            self.add_to_freq(row['subject'], self.words_cnt[id])\n",
    "            self.add_to_freq(row['text'], self.words_cnt[id])\n",
    "        self.unique_words_cnt = len(np.unique(self.words))\n",
    "            \n",
    "\n",
    "    def add_to_freq(self, text, freq):\n",
    "        for word in np.unique(text):\n",
    "            freq[word] += 1\n",
    "            self.words.append(word)\n",
    "        \n",
    "    def map_to_probs(self, clazz, lapl):\n",
    "        q = 0\n",
    "        if lapl:\n",
    "            q = 1\n",
    "        return lambda word_id : (self.words_cnt[clazz][word_id] + q) / (self.class_size[clazz] + q * self.unique_words_cnt)\n",
    "        \n",
    "    def classify(self, row, lapl = False, threshold=1., divider = 1.):\n",
    "        text = np.int_(np.unique(row['text']))\n",
    "        subj = np.int_(np.unique(row['subject']))\n",
    "        \n",
    "        c = len(text) / (len(subj) + 1)\n",
    "        c /= divider\n",
    "        \n",
    "        non_spam_text = self.map_to_probs(False, lapl)(text)\n",
    "        non_spam_subj = self.map_to_probs(False, lapl)(subj)\n",
    "        non_spam = np.sum(np.log(np.maximum(non_spam_text, 1e-10))) + c * np.sum(np.log(np.maximum(non_spam_subj, 1e-10))) + np.log(self.class_freq[0])\n",
    "        \n",
    "        spam_text = self.map_to_probs(True, lapl)(text)\n",
    "        spam_subj = self.map_to_probs(True, lapl)(subj)\n",
    "        spam = np.sum(np.log(np.maximum(spam_text, 1e-10))) + c * np.sum(np.log(np.maximum(spam_subj, 1e-10))) + np.log(self.class_freq[1])\n",
    "        \n",
    "        return spam / non_spam < threshold"
   ]
  },
  {
   "cell_type": "code",
   "execution_count": 139,
   "metadata": {
    "collapsed": true
   },
   "outputs": [],
   "source": [
    "# slow cell\n",
    "classifiers = []\n",
    "train_messages = []\n",
    "test_messages = []\n",
    "\n",
    "for i in range(1, 11):\n",
    "    train_messages.append(full_messages.loc[full_messages['folder'] != i])\n",
    "    test_messages.append(full_messages.loc[full_messages['folder'] == i])\n",
    "    temp_b = BayesianClassifier()\n",
    "    temp_b.train(train_messages[i - 1])\n",
    "    classifiers.append(temp_b)"
   ]
  },
  {
   "cell_type": "code",
   "execution_count": 144,
   "metadata": {
    "collapsed": false
   },
   "outputs": [],
   "source": [
    "def calc_accuracy(classifier, test_messages, threshold, c):\n",
    "    correct = 0\n",
    "    for index, row in test_messages.iterrows():\n",
    "        if (classifier.classify(row, True, threshold, c) == row['spam']):\n",
    "            correct += 1\n",
    "    return correct / len(test_messages)\n",
    "\n",
    "def cross_val(messages):\n",
    "    \n",
    "    for c in range(1, 51):\n",
    "        average = 0\n",
    "        for i in range(0, 10):\n",
    "            temp = calc_accuracy(classifiers[i], test_messages[i], 1.0, c)\n",
    "            average += temp\n",
    "#             print(temp)\n",
    "        \n",
    "        print(\"c: {} average: {}\".format(c, average / 10))"
   ]
  },
  {
   "cell_type": "code",
   "execution_count": 145,
   "metadata": {
    "collapsed": false
   },
   "outputs": [
    {
     "name": "stdout",
     "output_type": "stream",
     "text": [
      "c: 1 average: 0.9697247706422019\n",
      "c: 2 average: 0.9761467889908257\n",
      "c: 3 average: 0.9798165137614678\n",
      "c: 4 average: 0.9807339449541284\n",
      "c: 5 average: 0.9807339449541284\n",
      "c: 6 average: 0.9798165137614678\n",
      "c: 7 average: 0.9807339449541285\n",
      "c: 8 average: 0.9807339449541285\n",
      "c: 9 average: 0.9825688073394497\n",
      "c: 10 average: 0.9834862385321103\n",
      "c: 11 average: 0.9825688073394495\n",
      "c: 12 average: 0.9825688073394495\n",
      "c: 13 average: 0.9825688073394495\n",
      "c: 14 average: 0.9825688073394495\n",
      "c: 15 average: 0.9825688073394495\n",
      "c: 16 average: 0.9825688073394495\n",
      "c: 17 average: 0.9825688073394495\n",
      "c: 18 average: 0.9834862385321103\n",
      "c: 19 average: 0.9834862385321103\n",
      "c: 20 average: 0.9834862385321103\n",
      "c: 21 average: 0.9834862385321103\n",
      "c: 22 average: 0.9834862385321103\n",
      "c: 23 average: 0.9834862385321103\n",
      "c: 24 average: 0.9834862385321103\n",
      "c: 25 average: 0.9834862385321103\n",
      "c: 26 average: 0.9834862385321103\n",
      "c: 27 average: 0.9834862385321103\n",
      "c: 28 average: 0.9834862385321103\n",
      "c: 29 average: 0.9834862385321103\n",
      "c: 30 average: 0.9834862385321103\n",
      "c: 31 average: 0.9825688073394495\n",
      "c: 32 average: 0.9825688073394495\n",
      "c: 33 average: 0.9825688073394495\n",
      "c: 34 average: 0.981651376146789\n",
      "c: 35 average: 0.981651376146789\n",
      "c: 36 average: 0.981651376146789\n",
      "c: 37 average: 0.981651376146789\n",
      "c: 38 average: 0.981651376146789\n",
      "c: 39 average: 0.981651376146789\n",
      "c: 40 average: 0.981651376146789\n",
      "c: 41 average: 0.981651376146789\n",
      "c: 42 average: 0.981651376146789\n",
      "c: 43 average: 0.981651376146789\n",
      "c: 44 average: 0.981651376146789\n",
      "c: 45 average: 0.981651376146789\n",
      "c: 46 average: 0.981651376146789\n",
      "c: 47 average: 0.981651376146789\n",
      "c: 48 average: 0.981651376146789\n",
      "c: 49 average: 0.981651376146789\n",
      "c: 50 average: 0.981651376146789\n"
     ]
    }
   ],
   "source": [
    "cross_val(full_messages)"
   ]
  },
  {
   "cell_type": "code",
   "execution_count": 39,
   "metadata": {
    "collapsed": true
   },
   "outputs": [],
   "source": [
    "def calc_tp_fp(classifiers, test_messages_arr, threshold):\n",
    "    tp = 0\n",
    "    fp = 0\n",
    "    for index, row in test_messages_arr[0].iterrows():\n",
    "        if (classifiers[0].classify(row, True, threshold) == row['spam'] and row['spam']):\n",
    "            tp += 1\n",
    "        if (classifiers[0].classify(row, True, threshold) != row['spam'] and not row['spam']):\n",
    "            fp += 1\n",
    "    return tp, fp"
   ]
  },
  {
   "cell_type": "code",
   "execution_count": 40,
   "metadata": {
    "collapsed": true
   },
   "outputs": [],
   "source": [
    "def calc_and_draw_ROC():\n",
    "    true_positive = []\n",
    "    false_positive = []\n",
    "    \n",
    "    full_positive = 0\n",
    "    full_negative = 0\n",
    "    for index, row in test_messages[0].iterrows():\n",
    "        if (row['spam']):\n",
    "            full_positive += 1\n",
    "        else:\n",
    "            full_negative += 1\n",
    "            \n",
    "    for step in np.linspace(0.3, 2, num=200):\n",
    "        tp, fp = calc_tp_fp(classifiers, test_messages, step)\n",
    "        true_positive.append(tp / full_positive)\n",
    "        false_positive.append(fp / full_negative)\n",
    "        plt.plot(fp / full_negative, tp / full_positive, \"gs\", markersize=1)\n",
    "    plt.show()\n",
    "        \n",
    "#     draw_plot(false_positive, true_positive, \" False Positive \", \" True Positive \", \"ROC-Curve\")"
   ]
  },
  {
   "cell_type": "code",
   "execution_count": 41,
   "metadata": {
    "collapsed": false
   },
   "outputs": [
    {
     "data": {
      "image/png": "[encoded data removed]",
      "text/plain": [
       "<matplotlib.figure.Figure at 0x112590f60>"
      ]
     },
     "metadata": {},
     "output_type": "display_data"
    }
   ],
   "source": [
    "calc_and_draw_ROC()"
   ]
  },
  {
   "cell_type": "code",
   "execution_count": null,
   "metadata": {
    "collapsed": true
   },
   "outputs": [],
   "source": []
  }
 ],
 "metadata": {
  "kernelspec": {
   "display_name": "Python 3",
   "language": "python",
   "name": "python3"
  },
  "language_info": {
   "codemirror_mode": {
    "name": "ipython",
    "version": 3
   },
   "file_extension": ".py",
   "mimetype": "text/x-python",
   "name": "python",
   "nbconvert_exporter": "python",
   "pygments_lexer": "ipython3",
   "version": "3.6.2"
  }
 },
 "nbformat": 4,
 "nbformat_minor": 2
}
