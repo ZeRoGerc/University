{
 "cells": [
  {
   "cell_type": "code",
   "execution_count": 96,
   "metadata": {
    "collapsed": false
   },
   "outputs": [],
   "source": [
    "import numpy as np\n",
    "import pandas as pd\n",
    "import math\n",
    "import random\n",
    "from matplotlib.colors import ListedColormap\n",
    "from scipy.spatial.distance import euclidean, cityblock, correlation, chebyshev, cosine\n",
    "import matplotlib.pyplot as plt\n",
    "from IPython.display import display, HTML\n",
    "from itertools import product"
   ]
  },
  {
   "cell_type": "code",
   "execution_count": 97,
   "metadata": {
    "collapsed": false
   },
   "outputs": [
    {
     "data": {
      "text/html": [
       "<div>\n",
       "<style>\n",
       "    .dataframe thead tr:only-child th {\n",
       "        text-align: right;\n",
       "    }\n",
       "\n",
       "    .dataframe thead th {\n",
       "        text-align: left;\n",
       "    }\n",
       "\n",
       "    .dataframe tbody tr th {\n",
       "        vertical-align: top;\n",
       "    }\n",
       "</style>\n",
       "<table border=\"1\" class=\"dataframe\">\n",
       "  <thead>\n",
       "    <tr style=\"text-align: right;\">\n",
       "      <th></th>\n",
       "      <th>0</th>\n",
       "      <th>1</th>\n",
       "      <th>2</th>\n",
       "    </tr>\n",
       "  </thead>\n",
       "  <tbody>\n",
       "    <tr>\n",
       "      <th>0</th>\n",
       "      <td>0.051267</td>\n",
       "      <td>0.69956</td>\n",
       "      <td>1</td>\n",
       "    </tr>\n",
       "    <tr>\n",
       "      <th>1</th>\n",
       "      <td>-0.092742</td>\n",
       "      <td>0.68494</td>\n",
       "      <td>1</td>\n",
       "    </tr>\n",
       "    <tr>\n",
       "      <th>2</th>\n",
       "      <td>-0.213710</td>\n",
       "      <td>0.69225</td>\n",
       "      <td>1</td>\n",
       "    </tr>\n",
       "    <tr>\n",
       "      <th>3</th>\n",
       "      <td>-0.375000</td>\n",
       "      <td>0.50219</td>\n",
       "      <td>1</td>\n",
       "    </tr>\n",
       "    <tr>\n",
       "      <th>4</th>\n",
       "      <td>-0.513250</td>\n",
       "      <td>0.46564</td>\n",
       "      <td>1</td>\n",
       "    </tr>\n",
       "  </tbody>\n",
       "</table>\n",
       "</div>"
      ],
      "text/plain": [
       "          0        1  2\n",
       "0  0.051267  0.69956  1\n",
       "1 -0.092742  0.68494  1\n",
       "2 -0.213710  0.69225  1\n",
       "3 -0.375000  0.50219  1\n",
       "4 -0.513250  0.46564  1"
      ]
     },
     "execution_count": 97,
     "metadata": {},
     "output_type": "execute_result"
    }
   ],
   "source": [
    "data = pd.read_table('chips.txt', header=None, sep = ',')\n",
    "classes = data[2]\n",
    "features = data.drop(data.columns[[2]], axis=1)\n",
    "data.head()"
   ]
  },
  {
   "cell_type": "code",
   "execution_count": 98,
   "metadata": {
    "collapsed": true
   },
   "outputs": [],
   "source": [
    "gauss_K = lambda r : np.exp(-2 * r ** 2)\n",
    "square_K = lambda r : 0 if r > 1 else (1 - r ** 2)\n",
    "triangle_K = lambda r : 0 if r > 1 else (1 - np.abs(r))"
   ]
  },
  {
   "cell_type": "code",
   "execution_count": 99,
   "metadata": {
    "collapsed": true
   },
   "outputs": [],
   "source": [
    "def get_f1_score(y_true, y_pred):\n",
    "    combined = [ [a,b] for (a,b) in zip(y_true, y_pred) ]\n",
    "    tp = sum(x[0] == 1 and x[1] == 1 for x in combined) \n",
    "    tn = sum(x[0] == 0 and x[1] == 0 for x in combined) \n",
    "    fp = sum(x[0] == 0 and x[1] == 1 for x in combined) \n",
    "    fn = sum(x[0] == 1 and x[1] == 0 for x in combined) \n",
    "    if tp == 0:\n",
    "        return 0\n",
    "    precision = tp / (tp + fp)\n",
    "    recall = tp / (tp + fn)\n",
    "    return 2 * (precision * recall) / (precision + recall)"
   ]
  },
  {
   "cell_type": "code",
   "execution_count": 100,
   "metadata": {
    "collapsed": false
   },
   "outputs": [],
   "source": [
    "def getCrossValidationIndexes(length, k):\n",
    "    indexes = []\n",
    "    for i in range(0, length):\n",
    "        indexes.append(i)\n",
    "    random.shuffle(indexes)\n",
    "    result = []\n",
    "    packSize = math.ceil(length/k)\n",
    "    for i in range (0, k):\n",
    "        left = []\n",
    "        right = []\n",
    "        for j in range (i * packSize, min((i + 1) * (packSize) - 1, length)):\n",
    "            right.append(indexes[j])\n",
    "        for j in range (0, i * packSize):\n",
    "            left.append(indexes[j])\n",
    "        for j in range (min((i + 1) * (packSize) - 1, length), length):\n",
    "            left.append(indexes[j])\n",
    "        result.append([left, right])\n",
    "    return result"
   ]
  },
  {
   "cell_type": "code",
   "execution_count": 101,
   "metadata": {
    "collapsed": true
   },
   "outputs": [],
   "source": [
    "def kNN(k, metrics, trainX, trainY, testX, K=None):\n",
    "    result = []\n",
    "    i = 0\n",
    "    for point in testX:\n",
    "        distances = [[trainY[i], metrics(point, trainX[i])] for i in range (0, len(trainY))]\n",
    "        distances.sort(key=lambda p:p[1])\n",
    "\n",
    "        stat = [0., 0.]\n",
    "        if K is None:\n",
    "            for d in distances[0 : k]:\n",
    "                stat[int(d[0])] += 1\n",
    "        else:\n",
    "            w = lambda d : K(d / distances[k+1][1])\n",
    "            for d in distances:\n",
    "                stat[int(d[0])] += w(d[1])\n",
    "            \n",
    "        prediction = -1\n",
    "        if (stat[0] > stat[1]):\n",
    "            prediction = 0\n",
    "        else:\n",
    "            prediction = 1\n",
    "        result.append(prediction)\n",
    "    return result"
   ]
  },
  {
   "cell_type": "code",
   "execution_count": 102,
   "metadata": {
    "collapsed": true
   },
   "outputs": [],
   "source": [
    "def showVariant(data, metrics, folds, neighbours, K = None, show_plot = False):\n",
    "    kf = getCrossValidationIndexes(len(data), folds)\n",
    "    \n",
    "    f1_score = []\n",
    "    j = 0\n",
    "    \n",
    "    all_points = np.zeros(200)\n",
    "    for train_index, test_index in kf:\n",
    "        j += 1\n",
    "        dataN = data.as_matrix()\n",
    "        n = len(dataN[0])\n",
    "        features = np.delete(dataN, n-1, 1)\n",
    "        trainX = [features[i] for i in train_index]\n",
    "        trainY = [dataN[i][n-1] for i in train_index]\n",
    "        testX  = [features[i] for i in test_index]\n",
    "        testY  = [dataN[i][n-1] for i in test_index]\n",
    "        predicted = kNN(neighbours, metrics, trainX, trainY, testX, K)\n",
    "        f1_cur = get_f1_score(testY, predicted) \n",
    "        f1_score.append(f1_cur)\n",
    "        print(j, \"fold, f1 score is\", f1_cur)\n",
    "        \n",
    "        if show_plot:\n",
    "            space = [[], []]\n",
    "            space[0] = np.linspace(-1.5, 1.5, num=50)\n",
    "            space[1] = np.linspace(-1.5, 1.5, num=50)\n",
    "            space = np.array(list(product(*space)))\n",
    "            pre = kNN(neighbours, metrics, trainX, trainY, space, K)\n",
    "            \n",
    "            ones = [[], []]\n",
    "            zeros = [[], []]\n",
    "            for pos in range(0, len(space)):\n",
    "                if (pre[pos] == 1):\n",
    "                    ones[0].append(space[pos][0])\n",
    "                    ones[1].append(space[pos][1])\n",
    "                else:\n",
    "                    zeros[0].append(space[pos][0])\n",
    "                    zeros[1].append(space[pos][1])\n",
    "            \n",
    "            plt.plot(ones[:][0], ones[:][1], \"ro\", markersize=1)\n",
    "            plt.plot(zeros[:][0], zeros[:][1], \"bo\", markersize=1)\n",
    "                    \n",
    "            for pos in range(0, len(testY)):\n",
    "                if (testY[pos] == predicted[pos]):\n",
    "                    if (testY[pos] == 0):\n",
    "                        plt.plot(testX[pos][0], testX[pos][1], \"b^\")\n",
    "                    else:\n",
    "                        plt.plot(testX[pos][0], testX[pos][1], \"gs\")\n",
    "                else:\n",
    "                    plt.plot(testX[pos][0], testX[pos][1], \"ro\")\n",
    "            plt.show()\n",
    "    return f1_score"
   ]
  },
  {
   "cell_type": "code",
   "execution_count": 103,
   "metadata": {
    "collapsed": false
   },
   "outputs": [
    {
     "name": "stdout",
     "output_type": "stream",
     "text": [
      "No Kernel\n",
      "1 fold, f1 score is 0.782608695652\n",
      "2 fold, f1 score is 0.666666666667\n",
      "3 fold, f1 score is 0.615384615385\n",
      "4 fold, f1 score is 0.666666666667\n",
      "5 fold, f1 score is 0.705882352941\n",
      "6 fold, f1 score is 0.875\n",
      "7 fold, f1 score is 0.545454545455\n",
      "Average f1 score 0.693951934681\n",
      "Gauss kernel\n",
      "1 fold, f1 score is 0.571428571429\n",
      "2 fold, f1 score is 0.533333333333\n",
      "3 fold, f1 score is 0.8\n",
      "4 fold, f1 score is 0.631578947368\n",
      "5 fold, f1 score is 0.923076923077\n",
      "6 fold, f1 score is 0.7\n",
      "7 fold, f1 score is 0.833333333333\n",
      "Average f1 score 0.713250158363\n",
      "Square kernel\n",
      "1 fold, f1 score is 0.833333333333\n",
      "2 fold, f1 score is 0.5\n",
      "3 fold, f1 score is 0.761904761905\n",
      "4 fold, f1 score is 0.933333333333\n",
      "5 fold, f1 score is 0.769230769231\n",
      "6 fold, f1 score is 0.6\n",
      "7 fold, f1 score is 0.736842105263\n",
      "Average f1 score 0.733520614724\n",
      "Triangle kernel\n",
      "1 fold, f1 score is 0.666666666667\n",
      "2 fold, f1 score is 0.75\n",
      "3 fold, f1 score is 0.705882352941\n",
      "4 fold, f1 score is 0.8\n",
      "5 fold, f1 score is 0.705882352941\n",
      "6 fold, f1 score is 0.842105263158\n",
      "7 fold, f1 score is 0.444444444444\n",
      "Average f1 score 0.702140154307\n"
     ]
    }
   ],
   "source": [
    "print(\"No Kernel\")\n",
    "f1_score = showVariant(data, cityblock, 7, 7)\n",
    "print(\"Average f1 score\", np.mean(f1_score))\n",
    "\n",
    "print(\"Gauss kernel\")\n",
    "f1_score = showVariant(data, cityblock, 7, 7, K = gauss_K)\n",
    "print(\"Average f1 score\", np.mean(f1_score))\n",
    "\n",
    "print(\"Square kernel\")\n",
    "f1_score = showVariant(data, cityblock, 7, 7, K = square_K)\n",
    "print(\"Average f1 score\", np.mean(f1_score))\n",
    "\n",
    "print(\"Triangle kernel\")\n",
    "f1_score = showVariant(data, cityblock, 7, 7, K = triangle_K)\n",
    "print(\"Average f1 score\", np.mean(f1_score))"
   ]
  },
  {
   "cell_type": "code",
   "execution_count": 104,
   "metadata": {
    "collapsed": false
   },
   "outputs": [],
   "source": [
    "def showFullDataSet(data):\n",
    "    X = [[data[0][i], data[1][i]] for i in range (0, len(data[0]))]\n",
    "    Y = [data[2][i] for i in range (0, len(data[0]))]\n",
    "    for pos in range(0, len(Y)):\n",
    "        if (Y[pos] == 0):\n",
    "            plt.plot(X[pos][0], X[pos][1], \"b^\")\n",
    "        else:\n",
    "            plt.plot(X[pos][0], X[pos][1], \"gs\")\n",
    "    plt.show()"
   ]
  },
  {
   "cell_type": "code",
   "execution_count": 105,
   "metadata": {
    "collapsed": false
   },
   "outputs": [
    {
     "data": {
      "image/png": "[encoded data removed]",
      "text/plain": [
       "<matplotlib.figure.Figure at 0x10a6e7748>"
      ]
     },
     "metadata": {},
     "output_type": "display_data"
    }
   ],
   "source": [
    "showFullDataSet(data)"
   ]
  },
  {
   "cell_type": "code",
   "execution_count": 106,
   "metadata": {
    "collapsed": true
   },
   "outputs": [],
   "source": [
    "def draw_plot(x, y, x_label, y_label, title):    \n",
    "    x = np.array(x)\n",
    "    y = np.array(y)\n",
    "    plt.plot(x, y)\n",
    "    \n",
    "    plt.xlabel(x_label)\n",
    "    plt.ylabel(y_label)\n",
    "    plt.title(title)\n",
    "    plt.grid(True)\n",
    "    plt.show()"
   ]
  },
  {
   "cell_type": "code",
   "execution_count": 107,
   "metadata": {
    "collapsed": false
   },
   "outputs": [],
   "source": [
    "def kNN_stat(data, metrics, n_folds, K = None):\n",
    "    kf = getCrossValidationIndexes(len(data), n_folds)\n",
    "    \n",
    "    f1_score = []\n",
    "    k = []\n",
    "\n",
    "    for kNN_value in range(3, 21, 2):\n",
    "        f1_cur = []\n",
    "        for train_index, test_index in kf:\n",
    "            dataN = data.as_matrix()\n",
    "            n = len(dataN[0])\n",
    "            features = np.delete(dataN, n-1, 1)\n",
    "            trainX = [features[i] for i in train_index]\n",
    "            trainY = [dataN[i][n-1] for i in train_index]\n",
    "            testX  = [features[i] for i in test_index]\n",
    "            testY  = [dataN[i][n-1] for i in test_index]\n",
    "            predicted = kNN(kNN_value, metrics, trainX, trainY, testX, K)\n",
    "            f1_cur.append(get_f1_score(testY, predicted)) \n",
    "        f1_score.append(np.mean(f1_cur))\n",
    "        k.append(kNN_value)\n",
    "    return f1_score, k"
   ]
  },
  {
   "cell_type": "code",
   "execution_count": 108,
   "metadata": {
    "collapsed": true
   },
   "outputs": [],
   "source": [
    "def statistic(neighbours, f1_score, metrics):\n",
    "    draw_plot(neighbours, f1_score, 'Number of neighbours', \"F1 score\", metrics)"
   ]
  },
  {
   "cell_type": "code",
   "execution_count": 109,
   "metadata": {
    "collapsed": false
   },
   "outputs": [
    {
     "name": "stdout",
     "output_type": "stream",
     "text": [
      "[0.73606214415590787, 0.69592452365561619, 0.67479982423591456, 0.68786591559700805, 0.66879280140149699, 0.64220370422416462, 0.65094623298957655, 0.63097418454561327, 0.61143835524640466]\n",
      "[3, 5, 7, 9, 11, 13, 15, 17, 19]\n"
     ]
    },
    {
     "data": {
      "image/png": "[encoded data removed]",
      "text/plain": [
       "<matplotlib.figure.Figure at 0x10a809668>"
      ]
     },
     "metadata": {},
     "output_type": "display_data"
    }
   ],
   "source": [
    "a1, k1 = kNN_stat(data, euclidean, 7)\n",
    "print(a1)\n",
    "print(k1)\n",
    "statistic(k1, a1, \"Euclidean\")"
   ]
  },
  {
   "cell_type": "code",
   "execution_count": 110,
   "metadata": {
    "collapsed": false
   },
   "outputs": [
    {
     "name": "stdout",
     "output_type": "stream",
     "text": [
      "[0.7044529933185395, 0.74454781912765111, 0.67346938775510201, 0.66467253568093909, 0.69906599003237668, 0.70143495994889193, 0.63174603174603161, 0.63307779252051688, 0.63516634724065069]\n",
      "[3, 5, 7, 9, 11, 13, 15, 17, 19]\n"
     ]
    },
    {
     "data": {
      "image/png": "[encoded data removed]",
      "text/plain": [
       "<matplotlib.figure.Figure at 0x109bf79e8>"
      ]
     },
     "metadata": {},
     "output_type": "display_data"
    }
   ],
   "source": [
    "a2, k2 = kNN_stat(data, cityblock, 7)\n",
    "print(a2)\n",
    "print(k2)\n",
    "statistic(k2, a2, \"Manhatan\")"
   ]
  },
  {
   "cell_type": "code",
   "execution_count": 111,
   "metadata": {
    "collapsed": false
   },
   "outputs": [],
   "source": [
    "# a3, k3 = kNN_stat(data, correlation, 7)\n",
    "# print(a3)\n",
    "# print(k3)\n",
    "# statistic(k3, a3, \"Сorrelation\")"
   ]
  },
  {
   "cell_type": "code",
   "execution_count": 112,
   "metadata": {
    "collapsed": false
   },
   "outputs": [],
   "source": [
    "# a4, k4 = kNN_stat(data, cosine, 7)\n",
    "# print(a4)\n",
    "# print(k4)\n",
    "# statistic(k3, a3, \"Cosine\")"
   ]
  },
  {
   "cell_type": "code",
   "execution_count": 113,
   "metadata": {
    "collapsed": false
   },
   "outputs": [
    {
     "name": "stdout",
     "output_type": "stream",
     "text": [
      "[0.6875063115664618, 0.63148438862724565, 0.66775482122673624, 0.60992063492063486, 0.63949938949938956, 0.64402663899567913, 0.70106814655686844, 0.72955182072829139, 0.70239550365600789]\n",
      "[3, 5, 7, 9, 11, 13, 15, 17, 19]\n"
     ]
    },
    {
     "data": {
      "image/png": "[encoded data removed]",
      "text/plain": [
       "<matplotlib.figure.Figure at 0x10a3272b0>"
      ]
     },
     "metadata": {},
     "output_type": "display_data"
    }
   ],
   "source": [
    "a5, k5 = kNN_stat(data, chebyshev, 7)\n",
    "print(a5)\n",
    "print(k5)\n",
    "statistic(k5, a5, \"Chebyshev\")"
   ]
  },
  {
   "cell_type": "code",
   "execution_count": 114,
   "metadata": {
    "collapsed": false
   },
   "outputs": [],
   "source": [
    "transformations = [[lambda x: x, 'pure'] \n",
    "                  ,[lambda x: (x[0], x[1], x[0] ** 2 + x[1] ** 2),'x,y -> x, y, x**2 + y**2']\n",
    "                  ,[lambda x: (x[0], x[1], x[0] * x[1], x[0] ** 2, x[1] ** 2), 'x, y -> x, y, xy, x ** 2, y ** 2']\n",
    "                  ,[lambda x: (math.sqrt(x[0] ** 2 + x[1] ** 2), math.atan(x[1]/x[0])),'x,y -> sqrt(x ** 2 + y ** 2), arctan(y/x)']]\n",
    "\n",
    "kernels = [[None, 'pure'], [square_K, 'square'], [triangle_K, 'triangle'], [gauss_K, 'gauss']]"
   ]
  },
  {
   "cell_type": "code",
   "execution_count": 115,
   "metadata": {
    "collapsed": true
   },
   "outputs": [],
   "source": [
    "def showPlot(neighbours, metrics, trainX, trainY, testX, K=None):\n",
    "    space = [[], []]\n",
    "    space[0] = np.linspace(-1.5, 1.5, num=50)\n",
    "    space[1] = np.linspace(-1.5, 1.5, num=50)\n",
    "    space = np.array(list(product(*space)))\n",
    "    pre = kNN(neighbours, metrics, trainX, trainY, space, K)\n",
    "\n",
    "    ones = [[], []]\n",
    "    zeros = [[], []]\n",
    "    for pos in range(0, len(space)):\n",
    "        if (pre[pos] == 1):\n",
    "            ones[0].append(space[pos][0])\n",
    "            ones[1].append(space[pos][1])\n",
    "        else:\n",
    "            zeros[0].append(space[pos][0])\n",
    "            zeros[1].append(space[pos][1])\n",
    "\n",
    "    plt.plot(ones[:][0], ones[:][1], \"ro\", markersize=1)\n",
    "    plt.plot(zeros[:][0], zeros[:][1], \"bo\", markersize=1)\n",
    "\n",
    "    for pos in range(0, len(testY)):\n",
    "        if (testY[pos] == predicted[pos]):\n",
    "            if (testY[pos] == 0):\n",
    "                plt.plot(testX[pos][0], testX[pos][1], \"b^\")\n",
    "            else:\n",
    "                plt.plot(testX[pos][0], testX[pos][1], \"gs\")\n",
    "        else:\n",
    "            plt.plot(testX[pos][0], testX[pos][1], \"ro\")\n",
    "    plt.show()"
   ]
  },
  {
   "cell_type": "code",
   "execution_count": 116,
   "metadata": {
    "collapsed": false
   },
   "outputs": [],
   "source": [
    "def knnWithTransformation(data, metric, fold, show_plots = False):\n",
    "    dataN = data.as_matrix()\n",
    "    n = len(dataN[0])\n",
    "    features = np.delete(dataN, n-1, 1)\n",
    "    classes = np.array(data[n-1])\n",
    "    classes = classes.reshape(len(classes), 1)\n",
    "\n",
    "    result = pd.DataFrame(columns=['k', 'metric', 'kernel', 'transformation', 'f1_score'])\n",
    "    for kernel in kernels:\n",
    "        for transform in transformations:\n",
    "            transformed_data = np.array(list(map(transform[0], features)))\n",
    "            transformed_data = np.append(transformed_data, classes, 1)  \n",
    "            transformed_data = pd.DataFrame(transformed_data)\n",
    "            print(str(metric).split(' ')[1], transform[1])\n",
    "            f1_score, k = kNN_stat(transformed_data, metric, fold, kernel[0])\n",
    "            for i in range (0, len(k)):    \n",
    "                cur = pd.DataFrame([[k[i], str(metric).split(' ')[1], kernel[1], transform[1], f1_score[i]]], columns=['k', 'metric', 'kernel', 'transformation', 'f1_score'])\n",
    "                result = result.append(cur, ignore_index=True)\n",
    "            if show_plots:\n",
    "                statistic(k, f1_score, str(metric).split(' ')[1])\n",
    "    result = result.sort_values(by='f1_score', ascending = 0)\n",
    "    display(result.head(10))"
   ]
  },
  {
   "cell_type": "code",
   "execution_count": 120,
   "metadata": {
    "collapsed": false
   },
   "outputs": [
    {
     "name": "stdout",
     "output_type": "stream",
     "text": [
      "1 fold, f1 score is 0.5\n"
     ]
    },
    {
     "data": {
      "image/png": "[encoded data removed]",
      "text/plain": [
       "<matplotlib.figure.Figure at 0x1042ab128>"
      ]
     },
     "metadata": {},
     "output_type": "display_data"
    },
    {
     "name": "stdout",
     "output_type": "stream",
     "text": [
      "2 fold, f1 score is 0.666666666667\n"
     ]
    },
    {
     "data": {
      "image/png": "[encoded data removed]",
      "text/plain": [
       "<matplotlib.figure.Figure at 0x10ad91400>"
      ]
     },
     "metadata": {},
     "output_type": "display_data"
    },
    {
     "name": "stdout",
     "output_type": "stream",
     "text": [
      "3 fold, f1 score is 0.615384615385\n"
     ]
    },
    {
     "data": {
      "image/png": "[encoded data removed]",
      "text/plain": [
       "<matplotlib.figure.Figure at 0x10a8a8c18>"
      ]
     },
     "metadata": {},
     "output_type": "display_data"
    },
    {
     "name": "stdout",
     "output_type": "stream",
     "text": [
      "4 fold, f1 score is 0.666666666667\n"
     ]
    },
    {
     "data": {
      "image/png": "[encoded data removed]",
      "text/plain": [
       "<matplotlib.figure.Figure at 0x10ad575f8>"
      ]
     },
     "metadata": {},
     "output_type": "display_data"
    },
    {
     "name": "stdout",
     "output_type": "stream",
     "text": [
      "5 fold, f1 score is 0.666666666667\n"
     ]
    },
    {
     "data": {
      "image/png": "[encoded data removed]",
      "text/plain": [
       "<matplotlib.figure.Figure at 0x109dfe7b8>"
      ]
     },
     "metadata": {},
     "output_type": "display_data"
    },
    {
     "name": "stdout",
     "output_type": "stream",
     "text": [
      "6 fold, f1 score is 0.823529411765\n"
     ]
    },
    {
     "data": {
      "image/png": "[encoded data removed]",
      "text/plain": [
       "<matplotlib.figure.Figure at 0x109c9cc50>"
      ]
     },
     "metadata": {},
     "output_type": "display_data"
    },
    {
     "name": "stdout",
     "output_type": "stream",
     "text": [
      "7 fold, f1 score is 0.777777777778\n"
     ]
    },
    {
     "data": {
      "image/png": "[encoded data removed]",
      "text/plain": [
       "<matplotlib.figure.Figure at 0x10ab2de10>"
      ]
     },
     "metadata": {},
     "output_type": "display_data"
    },
    {
     "data": {
      "text/plain": [
       "[0.5,\n",
       " 0.66666666666666663,\n",
       " 0.61538461538461531,\n",
       " 0.66666666666666663,\n",
       " 0.66666666666666674,\n",
       " 0.82352941176470584,\n",
       " 0.77777777777777779]"
      ]
     },
     "execution_count": 120,
     "metadata": {},
     "output_type": "execute_result"
    }
   ],
   "source": [
    "dataN = data.as_matrix()\n",
    "n = len(dataN[0])\n",
    "features = np.delete(dataN, n-1, 1)\n",
    "classes = np.array(data[n-1])\n",
    "classes = classes.reshape(len(classes), 1)\n",
    "\n",
    "transformed_data = np.array(list(map(transformations[2][0], features)))\n",
    "transformed_data = np.append(transformed_data, classes, 1)  \n",
    "transformed_data = pd.DataFrame(transformed_data)\n",
    "\n",
    "showVariant(data, cityblock, 7, 7, K = None, show_plot = True)"
   ]
  },
  {
   "cell_type": "code",
   "execution_count": null,
   "metadata": {
    "collapsed": false
   },
   "outputs": [],
   "source": [
    "knnWithTransformation(data, euclidean, fold = 7)"
   ]
  },
  {
   "cell_type": "code",
   "execution_count": null,
   "metadata": {
    "collapsed": false
   },
   "outputs": [],
   "source": [
    "knnWithTransformation(data, cityblock, fold = 7)"
   ]
  },
  {
   "cell_type": "code",
   "execution_count": null,
   "metadata": {
    "collapsed": false
   },
   "outputs": [],
   "source": [
    "# knnWithTransformation(data, correlation, fold = 7)"
   ]
  },
  {
   "cell_type": "code",
   "execution_count": null,
   "metadata": {
    "collapsed": false,
    "scrolled": false
   },
   "outputs": [],
   "source": [
    "# knnWithTransformation(data, cosine, fold = 7)"
   ]
  },
  {
   "cell_type": "code",
   "execution_count": null,
   "metadata": {
    "collapsed": false
   },
   "outputs": [],
   "source": [
    "knnWithTransformation(data, chebyshev, fold = 7)"
   ]
  },
  {
   "cell_type": "code",
   "execution_count": null,
   "metadata": {
    "collapsed": true
   },
   "outputs": [],
   "source": []
  }
 ],
 "metadata": {
  "kernelspec": {
   "display_name": "Python 3",
   "language": "python",
   "name": "python3"
  },
  "language_info": {
   "codemirror_mode": {
    "name": "ipython",
    "version": 3
   },
   "file_extension": ".py",
   "mimetype": "text/x-python",
   "name": "python",
   "nbconvert_exporter": "python",
   "pygments_lexer": "ipython3",
   "version": "3.6.2"
  }
 },
 "nbformat": 4,
 "nbformat_minor": 2
}
