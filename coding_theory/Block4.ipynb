{
 "cells": [
  {
   "cell_type": "markdown",
   "metadata": {},
   "source": [
    "# Глава 4"
   ]
  },
  {
   "cell_type": "code",
   "execution_count": 5,
   "metadata": {
    "collapsed": true
   },
   "outputs": [],
   "source": [
    "import numpy as np\n",
    "import math\n",
    "import matplotlib.pyplot as plt\n",
    "import scipy\n",
    "import scipy.stats\n",
    "import time\n",
    "\n",
    "from tqdm import tqdm\n",
    "from collections import defaultdict\n",
    "\n",
    "from typing import List, Set"
   ]
  },
  {
   "cell_type": "code",
   "execution_count": 6,
   "metadata": {
    "collapsed": true
   },
   "outputs": [],
   "source": [
    "BitWord = List[int]"
   ]
  },
  {
   "cell_type": "code",
   "execution_count": 7,
   "metadata": {
    "collapsed": true
   },
   "outputs": [],
   "source": [
    "# generate all sequences of length l\n",
    "def generate(l):\n",
    "    res = []\n",
    "    \n",
    "    for i in range(0, 2**l):\n",
    "        b = bin(i)[2:]\n",
    "        b = '0' * (l - len(b)) + b\n",
    "        b = np.array(list(map(lambda x: int(x), b)))\n",
    "        res.append(b)\n",
    "        \n",
    "    return np.array(res)"
   ]
  },
  {
   "cell_type": "markdown",
   "metadata": {},
   "source": [
    "# Задание 2"
   ]
  },
  {
   "cell_type": "code",
   "execution_count": 8,
   "metadata": {
    "collapsed": false
   },
   "outputs": [],
   "source": [
    "n = 10\n",
    "k = 6\n",
    "r = 4\n",
    "H = np.array([\n",
    "    [0, 0, 0, 1, 1, 1, 1, 0, 1, 0],\n",
    "    [1, 0, 0, 0, 0, 0, 1, 1, 1, 1],\n",
    "    [1, 1, 1, 0, 1, 1, 1, 0, 0, 1],\n",
    "    [1, 0, 1, 1, 0, 1, 1, 1, 0, 0]\n",
    "])\n",
    "\n",
    "G = np.array([\n",
    "        [0, 0, 0, 0, 0, 0, 1, 1, 1, 1],\n",
    "        [1, 1, 0, 0, 0, 0, 0, 1, 0, 0],\n",
    "        [0, 0, 1, 0, 0, 0, 1, 0, 1, 0], \n",
    "        [0, 0, 0, 1, 0, 0, 0, 1, 1, 0],\n",
    "        [0, 0, 0, 0, 1, 0, 1, 1, 0, 0],\n",
    "        [1, 0, 0, 0, 0, 1, 0, 0, 1, 0]\n",
    "])\n",
    "\n",
    "# Минимальная спэновая форма\n",
    "G = np.array([\n",
    "        [1, 0, 0, 1, 1, 1, 1, 0, 0, 0],\n",
    "        [0, 1, 0, 1, 0, 1, 0, 0, 0, 0],\n",
    "        [0, 0, 1, 1, 1, 0, 0, 0, 0, 0], \n",
    "        [0, 0, 0, 1, 0, 0, 0, 1, 1, 0],\n",
    "        [0, 0, 0, 0, 1, 0, 1, 1, 0, 0],\n",
    "        [0, 0, 0, 0, 0, 0, 1, 1, 1, 1]\n",
    "])\n",
    "\n",
    "\n",
    "p0 = 1e-5\n",
    "\n",
    "all_words = generate(n)\n",
    "\n",
    "code_words = []\n",
    "for word in all_words:\n",
    "    if np.all(np.dot(word, H.T) % 2 == 0):\n",
    "        code_words.append(word)"
   ]
  },
  {
   "cell_type": "code",
   "execution_count": 9,
   "metadata": {
    "collapsed": false
   },
   "outputs": [
    {
     "data": {
      "text/plain": [
       "array([[0, 0, 0, 0],\n",
       "       [0, 0, 0, 0],\n",
       "       [0, 0, 0, 0],\n",
       "       [0, 0, 0, 0],\n",
       "       [0, 0, 0, 0],\n",
       "       [0, 0, 0, 0]])"
      ]
     },
     "execution_count": 9,
     "metadata": {},
     "output_type": "execute_result"
    }
   ],
   "source": [
    "np.dot(G, H.T) % 2"
   ]
  },
  {
   "cell_type": "code",
   "execution_count": 10,
   "metadata": {
    "collapsed": false
   },
   "outputs": [],
   "source": [
    "def L(y):\n",
    "    if y == 1:\n",
    "        return math.log2((1 - p0) / p0)\n",
    "    else:\n",
    "        return math.log2(p0 / (1 - p0))\n",
    "    \n",
    "L = np.vectorize(L)"
   ]
  },
  {
   "cell_type": "code",
   "execution_count": 11,
   "metadata": {
    "collapsed": true
   },
   "outputs": [],
   "source": [
    "# Множитель 4 * sqrt(E) / N0 не влияет, поэтому просто возвращаем y\n",
    "def L_noisy(y):\n",
    "    return y\n",
    "    \n",
    "L_noisy = np.vectorize(L_noisy)"
   ]
  },
  {
   "cell_type": "code",
   "execution_count": 12,
   "metadata": {
    "collapsed": false
   },
   "outputs": [],
   "source": [
    "def mp_decode(L, y: BitWord) -> BitWord:\n",
    "    y = L(y)\n",
    "    mx = np.sum(-L(np.ones(n)))\n",
    "    c = np.zeros(n)\n",
    "    \n",
    "    for cur in code_words:\n",
    "        if np.dot(2 * cur - 1, y) > mx:\n",
    "            mx = np.dot(2 * cur - 1, y)\n",
    "            c = cur\n",
    "            \n",
    "    return c"
   ]
  },
  {
   "cell_type": "code",
   "execution_count": 13,
   "metadata": {
    "collapsed": true
   },
   "outputs": [],
   "source": [
    "def mav_decode(L, y: BitWord) -> BitWord:\n",
    "    mx = np.sum(-L(np.ones(n)))\n",
    "    c = np.zeros(n)\n",
    "    \n",
    "    for cur in code_words:\n",
    "        if np.dot(2 * y - 1, L(cur)) > mx:\n",
    "            mx = np.dot(2 * y - 1, L(cur))\n",
    "            c = cur\n",
    "            \n",
    "    return c"
   ]
  },
  {
   "cell_type": "code",
   "execution_count": 14,
   "metadata": {
    "collapsed": false
   },
   "outputs": [
    {
     "name": "stdout",
     "output_type": "stream",
     "text": [
      "[1 1 1 1 1 0 0 1 0 0]\n",
      "[1 1 1 1 1 0 0 1 0 0]\n",
      "[1 1 1 1 1 0 0 1 0 0]\n",
      "[1 1 1 1 1 0 0 1 0 0]\n"
     ]
    }
   ],
   "source": [
    "print(mp_decode(L, np.array([1,1,1,1,1,0,0,0,0,0])))\n",
    "print(mp_decode(L_noisy, np.array([1,1,1,1,1,0,0,0,0,0])))\n",
    "\n",
    "print(mav_decode(L, np.array([1,1,1,1,1,0,0,0,0,0])))\n",
    "print(mav_decode(L_noisy, np.array([1,1,1,1,1,0,0,0,0,0])))"
   ]
  },
  {
   "cell_type": "code",
   "execution_count": 15,
   "metadata": {
    "collapsed": false
   },
   "outputs": [],
   "source": [
    "def get_prob_of_error(decode_algo, p0):\n",
    "    prob_of_error = 0\n",
    "    for c in code_words:\n",
    "        for e in all_words:\n",
    "            current_prob = (p0 ** np.sum(e)) * ((1 - p0) ** (n - np.sum(e)))\n",
    "            if (prob_of_error / current_prob >= (1 / p0)): # will not affect error\n",
    "                continue\n",
    "                \n",
    "            if not np.all(np.equal(decode_algo((c + e) % 2), c)):\n",
    "                prob_of_error += current_prob\n",
    "            \n",
    "    return prob_of_error / len(code_words)"
   ]
  },
  {
   "cell_type": "code",
   "execution_count": 16,
   "metadata": {
    "collapsed": true
   },
   "outputs": [],
   "source": [
    "def get_prob_of_error(decode_algo, p0):\n",
    "    prob_of_error = 0\n",
    "    for c in code_words:\n",
    "        for e in all_words:\n",
    "            current_prob = (p0 ** np.sum(e)) * ((1 - p0) ** (n - np.sum(e)))\n",
    "            if (prob_of_error / current_prob >= (1 / p0)): # will not affect error\n",
    "                continue\n",
    "                \n",
    "            if not np.all(np.equal(decode_algo((c + e) % 2), c)):\n",
    "                prob_of_error += current_prob\n",
    "            \n",
    "    return prob_of_error / len(code_words)"
   ]
  },
  {
   "cell_type": "code",
   "execution_count": 17,
   "metadata": {
    "collapsed": false
   },
   "outputs": [],
   "source": [
    "no_decode_l = lambda y : y\n",
    "\n",
    "mp_decode_l = lambda y : mp_decode(L, y) \n",
    "mp_decode_l_noisy = lambda y : mp_decode(L_noisy, y)\n",
    "\n",
    "mav_decode_l = lambda y : mav_decode(L, y)\n",
    "mav_decode_l_noisy = lambda y : mav_decode(L_noisy, y)"
   ]
  },
  {
   "cell_type": "code",
   "execution_count": 18,
   "metadata": {
    "collapsed": false
   },
   "outputs": [
    {
     "data": {
      "text/plain": [
       "3.9996800111998311e-09"
      ]
     },
     "execution_count": 18,
     "metadata": {},
     "output_type": "execute_result"
    }
   ],
   "source": [
    "get_prob_of_error(mp_decode_l, 1e-5)"
   ]
  },
  {
   "cell_type": "code",
   "execution_count": 19,
   "metadata": {
    "collapsed": false
   },
   "outputs": [],
   "source": [
    "p0s = 1 / np.power(10, np.arange(2,6))\n",
    "\n",
    "def get_errors(decode):\n",
    "    errors = []\n",
    "    for p in tqdm(p0s):\n",
    "        errors.append(get_prob_of_error(decode, p))\n",
    "    return errors "
   ]
  },
  {
   "cell_type": "markdown",
   "metadata": {},
   "source": [
    "# Зависимость log вероятности ошибки от p0 для различных методов (ДСК)"
   ]
  },
  {
   "cell_type": "code",
   "execution_count": 233,
   "metadata": {
    "collapsed": false
   },
   "outputs": [
    {
     "name": "stderr",
     "output_type": "stream",
     "text": [
      "100%|██████████| 4/4 [00:02<00:00,  1.67it/s]\n",
      "100%|██████████| 4/4 [00:11<00:00,  2.72s/it]\n",
      "100%|██████████| 4/4 [01:08<00:00, 16.71s/it]\n"
     ]
    },
    {
     "data": {
      "image/png": "[encoded data removed]",
      "text/plain": [
       "<matplotlib.figure.Figure at 0x11173d828>"
      ]
     },
     "metadata": {},
     "output_type": "display_data"
    }
   ],
   "source": [
    "plt.plot(p0s, np.log10(get_errors(no_decode_l)), color='r')\n",
    "plt.plot(p0s, np.log10(get_errors(mp_decode_l)), color='b')\n",
    "plt.plot(p0s, np.log10(get_errors(mav_decode_l)), color='g')\n",
    "plt.show()"
   ]
  },
  {
   "cell_type": "markdown",
   "metadata": {},
   "source": [
    "# Зависимость log вероятности ошибки от p0 для различных методов (АБГШ)"
   ]
  },
  {
   "cell_type": "code",
   "execution_count": 234,
   "metadata": {
    "collapsed": false
   },
   "outputs": [
    {
     "name": "stderr",
     "output_type": "stream",
     "text": [
      "100%|██████████| 4/4 [00:02<00:00,  1.60it/s]\n",
      "100%|██████████| 4/4 [00:08<00:00,  2.18s/it]\n",
      "100%|██████████| 4/4 [01:13<00:00, 17.73s/it]\n"
     ]
    },
    {
     "data": {
      "image/png": "[encoded data removed]",
      "text/plain": [
       "<matplotlib.figure.Figure at 0x111b15ac8>"
      ]
     },
     "metadata": {},
     "output_type": "display_data"
    }
   ],
   "source": [
    "plt.plot(p0s, np.log(get_errors(no_decode_l)), color='r')\n",
    "plt.plot(p0s, np.log(get_errors(mp_decode_l_noisy)), color='b')\n",
    "plt.plot(p0s, np.log(get_errors(mav_decode_l_noisy)), color='g')\n",
    "plt.show()"
   ]
  },
  {
   "cell_type": "markdown",
   "metadata": {},
   "source": [
    "# Энергетический выигрыш кодирования"
   ]
  },
  {
   "cell_type": "markdown",
   "metadata": {},
   "source": [
    "Рассмотрим для примера выигрыш кодирования при декодировании по максимуму правдоподбия и $p_0 = 10^{-5}$:"
   ]
  },
  {
   "cell_type": "code",
   "execution_count": 240,
   "metadata": {
    "collapsed": false
   },
   "outputs": [
    {
     "data": {
      "text/plain": [
       "9.9991000359993067e-05"
      ]
     },
     "execution_count": 240,
     "metadata": {},
     "output_type": "execute_result"
    }
   ],
   "source": [
    "get_prob_of_error(no_decode_l, 1e-5)"
   ]
  },
  {
   "cell_type": "markdown",
   "metadata": {},
   "source": [
    "Тоесть при ошибке на бит $p_0 = 10^{-5}$ вероятность ошибки декодера составит $10^{-4}$. Посчитаем, какая $p_0$ нужна, чтобы добится такой ошибки с помощью алгоритма декодирования по максимуму правдоподбия:"
   ]
  },
  {
   "cell_type": "code",
   "execution_count": 241,
   "metadata": {
    "collapsed": false
   },
   "outputs": [
    {
     "name": "stdout",
     "output_type": "stream",
     "text": [
      "0.000672605015625\n",
      "0.000145620647089\n",
      "1.55159370627e-05\n"
     ]
    }
   ],
   "source": [
    "for p in range(1, 4):\n",
    "    print(get_prob_of_error(mp_decode_l, 10**(-p)))"
   ]
  },
  {
   "cell_type": "markdown",
   "metadata": {},
   "source": [
    "Видим, что достаточно $p_0 \\approx 10^{-2}$"
   ]
  },
  {
   "cell_type": "markdown",
   "metadata": {},
   "source": [
    "Тогда выигрыш кодирования составит:\n",
    "\n",
    "Без кодирования:\n",
    "$p = 1 * 10^{-5} \\frac{E_b}{N_0} \\approx 9.5дБ$\n",
    "\n",
    "С кодированием:\n",
    "$p = 1 * 10^{-2} \\frac{E_b}{N_0} = 4.3дБ$\n",
    "\n",
    "Выигрыш кодирования = $9.5 - \\frac{4.3}{R} = 9.5 - 7.2 = 2.3дБ$"
   ]
  },
  {
   "cell_type": "markdown",
   "metadata": {},
   "source": [
    "# Задание 3"
   ]
  },
  {
   "cell_type": "code",
   "execution_count": 28,
   "metadata": {
    "collapsed": false
   },
   "outputs": [],
   "source": [
    "n = 5\n",
    "\n",
    "G = np.array([\n",
    "    [1, 1, 0, 1, 0],\n",
    "    [1, 0, 1, 1, 1]\n",
    "]) \n",
    "\n",
    "# Преобразовали в систематический вид\n",
    "# G = np.array([\n",
    "#     [1, 0, 1, 1, 1],\n",
    "#     [0, 1, 1, 0, 1]\n",
    "# ])\n",
    "\n",
    "H = np.array([\n",
    "    [1, 1, 1, 0, 0],\n",
    "    [1, 0, 0, 1, 0],\n",
    "    [1, 1, 0, 0, 1],\n",
    "])\n",
    "\n",
    "p0 = 0.1\n",
    "y = np.array([0, 1, 1, 1, 1])\n",
    "\n",
    "all_words = generate(n)\n",
    "\n",
    "code_words = []\n",
    "for word in all_words:\n",
    "    if np.all(np.dot(word, H.T) % 2 == 0):\n",
    "        code_words.append(word)"
   ]
  },
  {
   "cell_type": "code",
   "execution_count": 29,
   "metadata": {
    "collapsed": false
   },
   "outputs": [
    {
     "data": {
      "text/plain": [
       "array([[0, 0, 0],\n",
       "       [0, 0, 0]])"
      ]
     },
     "execution_count": 29,
     "metadata": {},
     "output_type": "execute_result"
    }
   ],
   "source": [
    "np.dot(G, H.T) % 2"
   ]
  },
  {
   "cell_type": "markdown",
   "metadata": {},
   "source": [
    "Апостериорая вероятность кодового слова записывается в виде: $p(c_m\\ | \\ y)$. При $p_0 = 0.1$ получаем, что:\n",
    "\n",
    "$p(0|y_i = 1) = 0.1 \\, \\, p(1|y_i = 1) = 0.9$ \n",
    "\n",
    "\n",
    "$p(0|y_i = 0) = 0.9 \\, \\, p(1|y_i = 0) = 0.1$\n",
    "\n",
    "Апостериорная вероятность для кодового слова запишется в виде: $\\prod_{i=1}^{n}\\ p(c_{mi}|y_i)$. Посчитаем ее:"
   ]
  },
  {
   "cell_type": "code",
   "execution_count": 27,
   "metadata": {
    "collapsed": false
   },
   "outputs": [
    {
     "name": "stdout",
     "output_type": "stream",
     "text": [
      "МП декодирование: [0 1 1 0 1]\n",
      "МАВ декодирование: [0 1 1 0 1]\n"
     ]
    }
   ],
   "source": [
    "print('МП декодирование:', mp_decode(L, y))\n",
    "print('МАВ декодирование:', mav_decode(L, y))"
   ]
  },
  {
   "cell_type": "markdown",
   "metadata": {},
   "source": [
    "# Задание 4"
   ]
  },
  {
   "cell_type": "markdown",
   "metadata": {},
   "source": [
    "## Построение по проверочной матрице (полная решетка в отдельном файле)"
   ]
  },
  {
   "cell_type": "code",
   "execution_count": 33,
   "metadata": {
    "collapsed": false
   },
   "outputs": [
    {
     "name": "stdout",
     "output_type": "stream",
     "text": [
      "Level  0\n",
      "Node [0, 0, 0, 0] -> Node [0 0 0 0]. Current sequence: [0]\n",
      "Node [0, 0, 0, 0] -> Node [0 1 1 1]. Current sequence: [1]\n",
      "Level  1\n",
      "Node [0 0 0 0] -> Node [0 0 0 0]. Current sequence: [0, 0]\n",
      "Node [0 0 0 0] -> Node [0 0 1 0]. Current sequence: [0, 1]\n",
      "Node [0 1 1 1] -> Node [0 1 1 1]. Current sequence: [1, 0]\n",
      "Node [0 1 1 1] -> Node [0 1 0 1]. Current sequence: [1, 1]\n",
      "Level  2\n",
      "Node [0 0 0 0] -> Node [0 0 0 0]. Current sequence: [0, 0, 0]\n",
      "Node [0 0 0 0] -> Node [0 0 1 1]. Current sequence: [0, 0, 1]\n",
      "Node [0 0 1 0] -> Node [0 0 1 0]. Current sequence: [0, 1, 0]\n",
      "Node [0 0 1 0] -> Node [0 0 0 1]. Current sequence: [0, 1, 1]\n",
      "Node [0 1 1 1] -> Node [0 1 1 1]. Current sequence: [1, 0, 0]\n",
      "Node [0 1 1 1] -> Node [0 1 0 0]. Current sequence: [1, 0, 1]\n",
      "Node [0 1 0 1] -> Node [0 1 0 1]. Current sequence: [1, 1, 0]\n",
      "Node [0 1 0 1] -> Node [0 1 1 0]. Current sequence: [1, 1, 1]\n",
      "Level  3\n",
      "Node [0 0 0 0] -> Node [0 0 0 0]. Current sequence: [0, 0, 0, 0]\n",
      "Node [0 0 0 0] -> Node [1 0 0 1]. Current sequence: [0, 0, 0, 1]\n",
      "Node [0 0 1 1] -> Node [0 0 1 1]. Current sequence: [0, 0, 1, 0]\n",
      "Node [0 0 1 1] -> Node [1 0 1 0]. Current sequence: [0, 0, 1, 1]\n",
      "Node [0 0 1 0] -> Node [0 0 1 0]. Current sequence: [0, 1, 0, 0]\n",
      "Node [0 0 1 0] -> Node [1 0 1 1]. Current sequence: [0, 1, 0, 1]\n",
      "Node [0 0 0 1] -> Node [0 0 0 1]. Current sequence: [0, 1, 1, 0]\n",
      "Node [0 0 0 1] -> Node [1 0 0 0]. Current sequence: [0, 1, 1, 1]\n",
      "Node [0 1 1 1] -> Node [0 1 1 1]. Current sequence: [1, 0, 0, 0]\n",
      "Node [0 1 1 1] -> Node [1 1 1 0]. Current sequence: [1, 0, 0, 1]\n",
      "Node [0 1 0 0] -> Node [0 1 0 0]. Current sequence: [1, 0, 1, 0]\n",
      "Node [0 1 0 0] -> Node [1 1 0 1]. Current sequence: [1, 0, 1, 1]\n",
      "Node [0 1 0 1] -> Node [0 1 0 1]. Current sequence: [1, 1, 0, 0]\n",
      "Node [0 1 0 1] -> Node [1 1 0 0]. Current sequence: [1, 1, 0, 1]\n",
      "Node [0 1 1 0] -> Node [0 1 1 0]. Current sequence: [1, 1, 1, 0]\n",
      "Node [0 1 1 0] -> Node [1 1 1 1]. Current sequence: [1, 1, 1, 1]\n",
      "Level  4\n",
      "Node [0 0 0 0] -> Node [0 0 0 0]. Current sequence: [0, 0, 0, 0, 0]\n",
      "Node [0 0 0 0] -> Node [1 0 1 0]. Current sequence: [0, 0, 0, 0, 1]\n",
      "Node [1 0 0 1] -> Node [1 0 0 1]. Current sequence: [0, 0, 0, 1, 0]\n",
      "Node [1 0 0 1] -> Node [0 0 1 1]. Current sequence: [0, 0, 0, 1, 1]\n",
      "Node [0 0 1 1] -> Node [0 0 1 1]. Current sequence: [0, 0, 1, 0, 0]\n",
      "Node [0 0 1 1] -> Node [1 0 0 1]. Current sequence: [0, 0, 1, 0, 1]\n",
      "Node [1 0 1 0] -> Node [1 0 1 0]. Current sequence: [0, 0, 1, 1, 0]\n",
      "Node [1 0 1 0] -> Node [0 0 0 0]. Current sequence: [0, 0, 1, 1, 1]\n",
      "Node [0 0 1 0] -> Node [0 0 1 0]. Current sequence: [0, 1, 0, 0, 0]\n",
      "Node [0 0 1 0] -> Node [1 0 0 0]. Current sequence: [0, 1, 0, 0, 1]\n",
      "Node [1 0 1 1] -> Node [1 0 1 1]. Current sequence: [0, 1, 0, 1, 0]\n",
      "Node [1 0 1 1] -> Node [0 0 0 1]. Current sequence: [0, 1, 0, 1, 1]\n",
      "Node [0 0 0 1] -> Node [0 0 0 1]. Current sequence: [0, 1, 1, 0, 0]\n",
      "Node [0 0 0 1] -> Node [1 0 1 1]. Current sequence: [0, 1, 1, 0, 1]\n",
      "Node [1 0 0 0] -> Node [1 0 0 0]. Current sequence: [0, 1, 1, 1, 0]\n",
      "Node [1 0 0 0] -> Node [0 0 1 0]. Current sequence: [0, 1, 1, 1, 1]\n",
      "Node [0 1 1 1] -> Node [0 1 1 1]. Current sequence: [1, 0, 0, 0, 0]\n",
      "Node [0 1 1 1] -> Node [1 1 0 1]. Current sequence: [1, 0, 0, 0, 1]\n",
      "Node [1 1 1 0] -> Node [1 1 1 0]. Current sequence: [1, 0, 0, 1, 0]\n",
      "Node [1 1 1 0] -> Node [0 1 0 0]. Current sequence: [1, 0, 0, 1, 1]\n",
      "Node [0 1 0 0] -> Node [0 1 0 0]. Current sequence: [1, 0, 1, 0, 0]\n",
      "Node [0 1 0 0] -> Node [1 1 1 0]. Current sequence: [1, 0, 1, 0, 1]\n",
      "Node [1 1 0 1] -> Node [1 1 0 1]. Current sequence: [1, 0, 1, 1, 0]\n",
      "Node [1 1 0 1] -> Node [0 1 1 1]. Current sequence: [1, 0, 1, 1, 1]\n",
      "Node [0 1 0 1] -> Node [0 1 0 1]. Current sequence: [1, 1, 0, 0, 0]\n",
      "Node [0 1 0 1] -> Node [1 1 1 1]. Current sequence: [1, 1, 0, 0, 1]\n",
      "Node [1 1 0 0] -> Node [1 1 0 0]. Current sequence: [1, 1, 0, 1, 0]\n",
      "Node [1 1 0 0] -> Node [0 1 1 0]. Current sequence: [1, 1, 0, 1, 1]\n",
      "Node [0 1 1 0] -> Node [0 1 1 0]. Current sequence: [1, 1, 1, 0, 0]\n",
      "Node [0 1 1 0] -> Node [1 1 0 0]. Current sequence: [1, 1, 1, 0, 1]\n",
      "Node [1 1 1 1] -> Node [1 1 1 1]. Current sequence: [1, 1, 1, 1, 0]\n",
      "Node [1 1 1 1] -> Node [0 1 0 1]. Current sequence: [1, 1, 1, 1, 1]\n",
      "Level  5\n",
      "Node [0 0 0 0] -> Node [0 0 0 0]. Current sequence: [0, 0, 0, 0, 0, 0]\n",
      "Node [1 0 1 0] -> Node [1 0 1 0]. Current sequence: [0, 0, 0, 0, 1, 0]\n",
      "Node [1 0 0 1] -> Node [1 0 0 1]. Current sequence: [0, 0, 0, 1, 0, 0]\n",
      "Node [0 0 1 1] -> Node [0 0 1 1]. Current sequence: [0, 0, 0, 1, 1, 0]\n",
      "Node [0 0 1 1] -> Node [0 0 1 1]. Current sequence: [0, 0, 1, 0, 0, 0]\n",
      "Node [1 0 0 1] -> Node [1 0 0 1]. Current sequence: [0, 0, 1, 0, 1, 0]\n",
      "Node [1 0 1 0] -> Node [1 0 1 0]. Current sequence: [0, 0, 1, 1, 0, 0]\n",
      "Node [0 0 0 0] -> Node [0 0 0 0]. Current sequence: [0, 0, 1, 1, 1, 0]\n",
      "Node [0 0 1 0] -> Node [1 0 0 1]. Current sequence: [0, 1, 0, 0, 0, 1]\n",
      "Node [1 0 0 0] -> Node [0 0 1 1]. Current sequence: [0, 1, 0, 0, 1, 1]\n",
      "Node [1 0 1 1] -> Node [0 0 0 0]. Current sequence: [0, 1, 0, 1, 0, 1]\n",
      "Node [0 0 0 1] -> Node [1 0 1 0]. Current sequence: [0, 1, 0, 1, 1, 1]\n",
      "Node [0 0 0 1] -> Node [1 0 1 0]. Current sequence: [0, 1, 1, 0, 0, 1]\n",
      "Node [1 0 1 1] -> Node [0 0 0 0]. Current sequence: [0, 1, 1, 0, 1, 1]\n",
      "Node [1 0 0 0] -> Node [0 0 1 1]. Current sequence: [0, 1, 1, 1, 0, 1]\n",
      "Node [0 0 1 0] -> Node [1 0 0 1]. Current sequence: [0, 1, 1, 1, 1, 1]\n",
      "Node [0 1 1 1] -> Node [1 1 0 0]. Current sequence: [1, 0, 0, 0, 0, 1]\n",
      "Node [1 1 0 1] -> Node [0 1 1 0]. Current sequence: [1, 0, 0, 0, 1, 1]\n",
      "Node [1 1 1 0] -> Node [0 1 0 1]. Current sequence: [1, 0, 0, 1, 0, 1]\n",
      "Node [0 1 0 0] -> Node [1 1 1 1]. Current sequence: [1, 0, 0, 1, 1, 1]\n",
      "Node [0 1 0 0] -> Node [1 1 1 1]. Current sequence: [1, 0, 1, 0, 0, 1]\n",
      "Node [1 1 1 0] -> Node [0 1 0 1]. Current sequence: [1, 0, 1, 0, 1, 1]\n",
      "Node [1 1 0 1] -> Node [0 1 1 0]. Current sequence: [1, 0, 1, 1, 0, 1]\n",
      "Node [0 1 1 1] -> Node [1 1 0 0]. Current sequence: [1, 0, 1, 1, 1, 1]\n",
      "Node [0 1 0 1] -> Node [0 1 0 1]. Current sequence: [1, 1, 0, 0, 0, 0]\n",
      "Node [1 1 1 1] -> Node [1 1 1 1]. Current sequence: [1, 1, 0, 0, 1, 0]\n",
      "Node [1 1 0 0] -> Node [1 1 0 0]. Current sequence: [1, 1, 0, 1, 0, 0]\n",
      "Node [0 1 1 0] -> Node [0 1 1 0]. Current sequence: [1, 1, 0, 1, 1, 0]\n",
      "Node [0 1 1 0] -> Node [0 1 1 0]. Current sequence: [1, 1, 1, 0, 0, 0]\n",
      "Node [1 1 0 0] -> Node [1 1 0 0]. Current sequence: [1, 1, 1, 0, 1, 0]\n",
      "Node [1 1 1 1] -> Node [1 1 1 1]. Current sequence: [1, 1, 1, 1, 0, 0]\n",
      "Node [0 1 0 1] -> Node [0 1 0 1]. Current sequence: [1, 1, 1, 1, 1, 0]\n",
      "Level  6\n",
      "Node [0 0 0 0] -> Node [0 0 0 0]. Current sequence: [0, 0, 0, 0, 0, 0, 0]\n",
      "Node [0 0 0 0] -> Node [1 1 1 1]. Current sequence: [0, 0, 0, 0, 0, 0, 1]\n",
      "Node [1 0 1 0] -> Node [1 0 1 0]. Current sequence: [0, 0, 0, 0, 1, 0, 0]\n",
      "Node [1 0 1 0] -> Node [0 1 0 1]. Current sequence: [0, 0, 0, 0, 1, 0, 1]\n",
      "Node [1 0 0 1] -> Node [1 0 0 1]. Current sequence: [0, 0, 0, 1, 0, 0, 0]\n",
      "Node [1 0 0 1] -> Node [0 1 1 0]. Current sequence: [0, 0, 0, 1, 0, 0, 1]\n",
      "Node [0 0 1 1] -> Node [0 0 1 1]. Current sequence: [0, 0, 0, 1, 1, 0, 0]\n",
      "Node [0 0 1 1] -> Node [1 1 0 0]. Current sequence: [0, 0, 0, 1, 1, 0, 1]\n",
      "Node [0 0 1 1] -> Node [0 0 1 1]. Current sequence: [0, 0, 1, 0, 0, 0, 0]\n",
      "Node [0 0 1 1] -> Node [1 1 0 0]. Current sequence: [0, 0, 1, 0, 0, 0, 1]\n",
      "Node [1 0 0 1] -> Node [1 0 0 1]. Current sequence: [0, 0, 1, 0, 1, 0, 0]\n",
      "Node [1 0 0 1] -> Node [0 1 1 0]. Current sequence: [0, 0, 1, 0, 1, 0, 1]\n",
      "Node [1 0 1 0] -> Node [1 0 1 0]. Current sequence: [0, 0, 1, 1, 0, 0, 0]\n",
      "Node [1 0 1 0] -> Node [0 1 0 1]. Current sequence: [0, 0, 1, 1, 0, 0, 1]\n",
      "Node [0 0 0 0] -> Node [0 0 0 0]. Current sequence: [0, 0, 1, 1, 1, 0, 0]\n",
      "Node [0 0 0 0] -> Node [1 1 1 1]. Current sequence: [0, 0, 1, 1, 1, 0, 1]\n",
      "Node [1 0 0 1] -> Node [1 0 0 1]. Current sequence: [0, 1, 0, 0, 0, 1, 0]\n",
      "Node [1 0 0 1] -> Node [0 1 1 0]. Current sequence: [0, 1, 0, 0, 0, 1, 1]\n",
      "Node [0 0 1 1] -> Node [0 0 1 1]. Current sequence: [0, 1, 0, 0, 1, 1, 0]\n",
      "Node [0 0 1 1] -> Node [1 1 0 0]. Current sequence: [0, 1, 0, 0, 1, 1, 1]\n",
      "Node [0 0 0 0] -> Node [0 0 0 0]. Current sequence: [0, 1, 0, 1, 0, 1, 0]\n",
      "Node [0 0 0 0] -> Node [1 1 1 1]. Current sequence: [0, 1, 0, 1, 0, 1, 1]\n",
      "Node [1 0 1 0] -> Node [1 0 1 0]. Current sequence: [0, 1, 0, 1, 1, 1, 0]\n",
      "Node [1 0 1 0] -> Node [0 1 0 1]. Current sequence: [0, 1, 0, 1, 1, 1, 1]\n",
      "Node [1 0 1 0] -> Node [1 0 1 0]. Current sequence: [0, 1, 1, 0, 0, 1, 0]\n",
      "Node [1 0 1 0] -> Node [0 1 0 1]. Current sequence: [0, 1, 1, 0, 0, 1, 1]\n",
      "Node [0 0 0 0] -> Node [0 0 0 0]. Current sequence: [0, 1, 1, 0, 1, 1, 0]\n",
      "Node [0 0 0 0] -> Node [1 1 1 1]. Current sequence: [0, 1, 1, 0, 1, 1, 1]\n",
      "Node [0 0 1 1] -> Node [0 0 1 1]. Current sequence: [0, 1, 1, 1, 0, 1, 0]\n",
      "Node [0 0 1 1] -> Node [1 1 0 0]. Current sequence: [0, 1, 1, 1, 0, 1, 1]\n",
      "Node [1 0 0 1] -> Node [1 0 0 1]. Current sequence: [0, 1, 1, 1, 1, 1, 0]\n",
      "Node [1 0 0 1] -> Node [0 1 1 0]. Current sequence: [0, 1, 1, 1, 1, 1, 1]\n",
      "Node [1 1 0 0] -> Node [1 1 0 0]. Current sequence: [1, 0, 0, 0, 0, 1, 0]\n",
      "Node [1 1 0 0] -> Node [0 0 1 1]. Current sequence: [1, 0, 0, 0, 0, 1, 1]\n",
      "Node [0 1 1 0] -> Node [0 1 1 0]. Current sequence: [1, 0, 0, 0, 1, 1, 0]\n",
      "Node [0 1 1 0] -> Node [1 0 0 1]. Current sequence: [1, 0, 0, 0, 1, 1, 1]\n",
      "Node [0 1 0 1] -> Node [0 1 0 1]. Current sequence: [1, 0, 0, 1, 0, 1, 0]\n",
      "Node [0 1 0 1] -> Node [1 0 1 0]. Current sequence: [1, 0, 0, 1, 0, 1, 1]\n",
      "Node [1 1 1 1] -> Node [1 1 1 1]. Current sequence: [1, 0, 0, 1, 1, 1, 0]\n",
      "Node [1 1 1 1] -> Node [0 0 0 0]. Current sequence: [1, 0, 0, 1, 1, 1, 1]\n",
      "Node [1 1 1 1] -> Node [1 1 1 1]. Current sequence: [1, 0, 1, 0, 0, 1, 0]\n",
      "Node [1 1 1 1] -> Node [0 0 0 0]. Current sequence: [1, 0, 1, 0, 0, 1, 1]\n",
      "Node [0 1 0 1] -> Node [0 1 0 1]. Current sequence: [1, 0, 1, 0, 1, 1, 0]\n",
      "Node [0 1 0 1] -> Node [1 0 1 0]. Current sequence: [1, 0, 1, 0, 1, 1, 1]\n",
      "Node [0 1 1 0] -> Node [0 1 1 0]. Current sequence: [1, 0, 1, 1, 0, 1, 0]\n",
      "Node [0 1 1 0] -> Node [1 0 0 1]. Current sequence: [1, 0, 1, 1, 0, 1, 1]\n",
      "Node [1 1 0 0] -> Node [1 1 0 0]. Current sequence: [1, 0, 1, 1, 1, 1, 0]\n",
      "Node [1 1 0 0] -> Node [0 0 1 1]. Current sequence: [1, 0, 1, 1, 1, 1, 1]\n",
      "Node [0 1 0 1] -> Node [0 1 0 1]. Current sequence: [1, 1, 0, 0, 0, 0, 0]\n",
      "Node [0 1 0 1] -> Node [1 0 1 0]. Current sequence: [1, 1, 0, 0, 0, 0, 1]\n",
      "Node [1 1 1 1] -> Node [1 1 1 1]. Current sequence: [1, 1, 0, 0, 1, 0, 0]\n",
      "Node [1 1 1 1] -> Node [0 0 0 0]. Current sequence: [1, 1, 0, 0, 1, 0, 1]\n",
      "Node [1 1 0 0] -> Node [1 1 0 0]. Current sequence: [1, 1, 0, 1, 0, 0, 0]\n",
      "Node [1 1 0 0] -> Node [0 0 1 1]. Current sequence: [1, 1, 0, 1, 0, 0, 1]\n",
      "Node [0 1 1 0] -> Node [0 1 1 0]. Current sequence: [1, 1, 0, 1, 1, 0, 0]\n",
      "Node [0 1 1 0] -> Node [1 0 0 1]. Current sequence: [1, 1, 0, 1, 1, 0, 1]\n",
      "Node [0 1 1 0] -> Node [0 1 1 0]. Current sequence: [1, 1, 1, 0, 0, 0, 0]\n",
      "Node [0 1 1 0] -> Node [1 0 0 1]. Current sequence: [1, 1, 1, 0, 0, 0, 1]\n",
      "Node [1 1 0 0] -> Node [1 1 0 0]. Current sequence: [1, 1, 1, 0, 1, 0, 0]\n",
      "Node [1 1 0 0] -> Node [0 0 1 1]. Current sequence: [1, 1, 1, 0, 1, 0, 1]\n",
      "Node [1 1 1 1] -> Node [1 1 1 1]. Current sequence: [1, 1, 1, 1, 0, 0, 0]\n",
      "Node [1 1 1 1] -> Node [0 0 0 0]. Current sequence: [1, 1, 1, 1, 0, 0, 1]\n",
      "Node [0 1 0 1] -> Node [0 1 0 1]. Current sequence: [1, 1, 1, 1, 1, 0, 0]\n",
      "Node [0 1 0 1] -> Node [1 0 1 0]. Current sequence: [1, 1, 1, 1, 1, 0, 1]\n",
      "Level  7\n",
      "Node [0 0 0 0] -> Node [0 0 0 0]. Current sequence: [0, 0, 0, 0, 0, 0, 0, 0]\n",
      "Node [1 1 1 1] -> Node [1 0 1 0]. Current sequence: [0, 0, 0, 0, 0, 0, 1, 1]\n",
      "Node [1 0 1 0] -> Node [1 0 1 0]. Current sequence: [0, 0, 0, 0, 1, 0, 0, 0]\n",
      "Node [0 1 0 1] -> Node [0 0 0 0]. Current sequence: [0, 0, 0, 0, 1, 0, 1, 1]\n",
      "Node [1 0 0 1] -> Node [1 1 0 0]. Current sequence: [0, 0, 0, 1, 0, 0, 0, 1]\n",
      "Node [0 1 1 0] -> Node [0 1 1 0]. Current sequence: [0, 0, 0, 1, 0, 0, 1, 0]\n",
      "Node [0 0 1 1] -> Node [0 1 1 0]. Current sequence: [0, 0, 0, 1, 1, 0, 0, 1]\n",
      "Node [1 1 0 0] -> Node [1 1 0 0]. Current sequence: [0, 0, 0, 1, 1, 0, 1, 0]\n",
      "Node [0 0 1 1] -> Node [0 1 1 0]. Current sequence: [0, 0, 1, 0, 0, 0, 0, 1]\n",
      "Node [1 1 0 0] -> Node [1 1 0 0]. Current sequence: [0, 0, 1, 0, 0, 0, 1, 0]\n",
      "Node [1 0 0 1] -> Node [1 1 0 0]. Current sequence: [0, 0, 1, 0, 1, 0, 0, 1]\n",
      "Node [0 1 1 0] -> Node [0 1 1 0]. Current sequence: [0, 0, 1, 0, 1, 0, 1, 0]\n",
      "Node [1 0 1 0] -> Node [1 0 1 0]. Current sequence: [0, 0, 1, 1, 0, 0, 0, 0]\n",
      "Node [0 1 0 1] -> Node [0 0 0 0]. Current sequence: [0, 0, 1, 1, 0, 0, 1, 1]\n",
      "Node [0 0 0 0] -> Node [0 0 0 0]. Current sequence: [0, 0, 1, 1, 1, 0, 0, 0]\n",
      "Node [1 1 1 1] -> Node [1 0 1 0]. Current sequence: [0, 0, 1, 1, 1, 0, 1, 1]\n",
      "Node [1 0 0 1] -> Node [1 1 0 0]. Current sequence: [0, 1, 0, 0, 0, 1, 0, 1]\n",
      "Node [0 1 1 0] -> Node [0 1 1 0]. Current sequence: [0, 1, 0, 0, 0, 1, 1, 0]\n",
      "Node [0 0 1 1] -> Node [0 1 1 0]. Current sequence: [0, 1, 0, 0, 1, 1, 0, 1]\n",
      "Node [1 1 0 0] -> Node [1 1 0 0]. Current sequence: [0, 1, 0, 0, 1, 1, 1, 0]\n",
      "Node [0 0 0 0] -> Node [0 0 0 0]. Current sequence: [0, 1, 0, 1, 0, 1, 0, 0]\n",
      "Node [1 1 1 1] -> Node [1 0 1 0]. Current sequence: [0, 1, 0, 1, 0, 1, 1, 1]\n",
      "Node [1 0 1 0] -> Node [1 0 1 0]. Current sequence: [0, 1, 0, 1, 1, 1, 0, 0]\n",
      "Node [0 1 0 1] -> Node [0 0 0 0]. Current sequence: [0, 1, 0, 1, 1, 1, 1, 1]\n",
      "Node [1 0 1 0] -> Node [1 0 1 0]. Current sequence: [0, 1, 1, 0, 0, 1, 0, 0]\n",
      "Node [0 1 0 1] -> Node [0 0 0 0]. Current sequence: [0, 1, 1, 0, 0, 1, 1, 1]\n",
      "Node [0 0 0 0] -> Node [0 0 0 0]. Current sequence: [0, 1, 1, 0, 1, 1, 0, 0]\n",
      "Node [1 1 1 1] -> Node [1 0 1 0]. Current sequence: [0, 1, 1, 0, 1, 1, 1, 1]\n",
      "Node [0 0 1 1] -> Node [0 1 1 0]. Current sequence: [0, 1, 1, 1, 0, 1, 0, 1]\n",
      "Node [1 1 0 0] -> Node [1 1 0 0]. Current sequence: [0, 1, 1, 1, 0, 1, 1, 0]\n",
      "Node [1 0 0 1] -> Node [1 1 0 0]. Current sequence: [0, 1, 1, 1, 1, 1, 0, 1]\n",
      "Node [0 1 1 0] -> Node [0 1 1 0]. Current sequence: [0, 1, 1, 1, 1, 1, 1, 0]\n",
      "Node [1 1 0 0] -> Node [1 1 0 0]. Current sequence: [1, 0, 0, 0, 0, 1, 0, 0]\n",
      "Node [0 0 1 1] -> Node [0 1 1 0]. Current sequence: [1, 0, 0, 0, 0, 1, 1, 1]\n",
      "Node [0 1 1 0] -> Node [0 1 1 0]. Current sequence: [1, 0, 0, 0, 1, 1, 0, 0]\n",
      "Node [1 0 0 1] -> Node [1 1 0 0]. Current sequence: [1, 0, 0, 0, 1, 1, 1, 1]\n",
      "Node [0 1 0 1] -> Node [0 0 0 0]. Current sequence: [1, 0, 0, 1, 0, 1, 0, 1]\n",
      "Node [1 0 1 0] -> Node [1 0 1 0]. Current sequence: [1, 0, 0, 1, 0, 1, 1, 0]\n",
      "Node [1 1 1 1] -> Node [1 0 1 0]. Current sequence: [1, 0, 0, 1, 1, 1, 0, 1]\n",
      "Node [0 0 0 0] -> Node [0 0 0 0]. Current sequence: [1, 0, 0, 1, 1, 1, 1, 0]\n",
      "Node [1 1 1 1] -> Node [1 0 1 0]. Current sequence: [1, 0, 1, 0, 0, 1, 0, 1]\n",
      "Node [0 0 0 0] -> Node [0 0 0 0]. Current sequence: [1, 0, 1, 0, 0, 1, 1, 0]\n",
      "Node [0 1 0 1] -> Node [0 0 0 0]. Current sequence: [1, 0, 1, 0, 1, 1, 0, 1]\n",
      "Node [1 0 1 0] -> Node [1 0 1 0]. Current sequence: [1, 0, 1, 0, 1, 1, 1, 0]\n",
      "Node [0 1 1 0] -> Node [0 1 1 0]. Current sequence: [1, 0, 1, 1, 0, 1, 0, 0]\n",
      "Node [1 0 0 1] -> Node [1 1 0 0]. Current sequence: [1, 0, 1, 1, 0, 1, 1, 1]\n",
      "Node [1 1 0 0] -> Node [1 1 0 0]. Current sequence: [1, 0, 1, 1, 1, 1, 0, 0]\n",
      "Node [0 0 1 1] -> Node [0 1 1 0]. Current sequence: [1, 0, 1, 1, 1, 1, 1, 1]\n",
      "Node [0 1 0 1] -> Node [0 0 0 0]. Current sequence: [1, 1, 0, 0, 0, 0, 0, 1]\n",
      "Node [1 0 1 0] -> Node [1 0 1 0]. Current sequence: [1, 1, 0, 0, 0, 0, 1, 0]\n",
      "Node [1 1 1 1] -> Node [1 0 1 0]. Current sequence: [1, 1, 0, 0, 1, 0, 0, 1]\n",
      "Node [0 0 0 0] -> Node [0 0 0 0]. Current sequence: [1, 1, 0, 0, 1, 0, 1, 0]\n",
      "Node [1 1 0 0] -> Node [1 1 0 0]. Current sequence: [1, 1, 0, 1, 0, 0, 0, 0]\n",
      "Node [0 0 1 1] -> Node [0 1 1 0]. Current sequence: [1, 1, 0, 1, 0, 0, 1, 1]\n",
      "Node [0 1 1 0] -> Node [0 1 1 0]. Current sequence: [1, 1, 0, 1, 1, 0, 0, 0]\n",
      "Node [1 0 0 1] -> Node [1 1 0 0]. Current sequence: [1, 1, 0, 1, 1, 0, 1, 1]\n",
      "Node [0 1 1 0] -> Node [0 1 1 0]. Current sequence: [1, 1, 1, 0, 0, 0, 0, 0]\n",
      "Node [1 0 0 1] -> Node [1 1 0 0]. Current sequence: [1, 1, 1, 0, 0, 0, 1, 1]\n",
      "Node [1 1 0 0] -> Node [1 1 0 0]. Current sequence: [1, 1, 1, 0, 1, 0, 0, 0]\n",
      "Node [0 0 1 1] -> Node [0 1 1 0]. Current sequence: [1, 1, 1, 0, 1, 0, 1, 1]\n",
      "Node [1 1 1 1] -> Node [1 0 1 0]. Current sequence: [1, 1, 1, 1, 0, 0, 0, 1]\n",
      "Node [0 0 0 0] -> Node [0 0 0 0]. Current sequence: [1, 1, 1, 1, 0, 0, 1, 0]\n",
      "Node [0 1 0 1] -> Node [0 0 0 0]. Current sequence: [1, 1, 1, 1, 1, 0, 0, 1]\n",
      "Node [1 0 1 0] -> Node [1 0 1 0]. Current sequence: [1, 1, 1, 1, 1, 0, 1, 0]\n",
      "Level  8\n",
      "Node [0 0 0 0] -> Node [0 0 0 0]. Current sequence: [0, 0, 0, 0, 0, 0, 0, 0, 0]\n",
      "Node [1 0 1 0] -> Node [0 1 1 0]. Current sequence: [0, 0, 0, 0, 0, 0, 1, 1, 1]\n",
      "Node [1 0 1 0] -> Node [0 1 1 0]. Current sequence: [0, 0, 0, 0, 1, 0, 0, 0, 1]\n",
      "Node [0 0 0 0] -> Node [0 0 0 0]. Current sequence: [0, 0, 0, 0, 1, 0, 1, 1, 0]\n",
      "Node [1 1 0 0] -> Node [0 0 0 0]. Current sequence: [0, 0, 0, 1, 0, 0, 0, 1, 1]\n",
      "Node [0 1 1 0] -> Node [0 1 1 0]. Current sequence: [0, 0, 0, 1, 0, 0, 1, 0, 0]\n",
      "Node [0 1 1 0] -> Node [0 1 1 0]. Current sequence: [0, 0, 0, 1, 1, 0, 0, 1, 0]\n",
      "Node [1 1 0 0] -> Node [0 0 0 0]. Current sequence: [0, 0, 0, 1, 1, 0, 1, 0, 1]\n",
      "Node [0 1 1 0] -> Node [0 1 1 0]. Current sequence: [0, 0, 1, 0, 0, 0, 0, 1, 0]\n",
      "Node [1 1 0 0] -> Node [0 0 0 0]. Current sequence: [0, 0, 1, 0, 0, 0, 1, 0, 1]\n",
      "Node [1 1 0 0] -> Node [0 0 0 0]. Current sequence: [0, 0, 1, 0, 1, 0, 0, 1, 1]\n",
      "Node [0 1 1 0] -> Node [0 1 1 0]. Current sequence: [0, 0, 1, 0, 1, 0, 1, 0, 0]\n",
      "Node [1 0 1 0] -> Node [0 1 1 0]. Current sequence: [0, 0, 1, 1, 0, 0, 0, 0, 1]\n",
      "Node [0 0 0 0] -> Node [0 0 0 0]. Current sequence: [0, 0, 1, 1, 0, 0, 1, 1, 0]\n",
      "Node [0 0 0 0] -> Node [0 0 0 0]. Current sequence: [0, 0, 1, 1, 1, 0, 0, 0, 0]\n",
      "Node [1 0 1 0] -> Node [0 1 1 0]. Current sequence: [0, 0, 1, 1, 1, 0, 1, 1, 1]\n",
      "Node [1 1 0 0] -> Node [0 0 0 0]. Current sequence: [0, 1, 0, 0, 0, 1, 0, 1, 1]\n",
      "Node [0 1 1 0] -> Node [0 1 1 0]. Current sequence: [0, 1, 0, 0, 0, 1, 1, 0, 0]\n",
      "Node [0 1 1 0] -> Node [0 1 1 0]. Current sequence: [0, 1, 0, 0, 1, 1, 0, 1, 0]\n",
      "Node [1 1 0 0] -> Node [0 0 0 0]. Current sequence: [0, 1, 0, 0, 1, 1, 1, 0, 1]\n",
      "Node [0 0 0 0] -> Node [0 0 0 0]. Current sequence: [0, 1, 0, 1, 0, 1, 0, 0, 0]\n",
      "Node [1 0 1 0] -> Node [0 1 1 0]. Current sequence: [0, 1, 0, 1, 0, 1, 1, 1, 1]\n",
      "Node [1 0 1 0] -> Node [0 1 1 0]. Current sequence: [0, 1, 0, 1, 1, 1, 0, 0, 1]\n",
      "Node [0 0 0 0] -> Node [0 0 0 0]. Current sequence: [0, 1, 0, 1, 1, 1, 1, 1, 0]\n",
      "Node [1 0 1 0] -> Node [0 1 1 0]. Current sequence: [0, 1, 1, 0, 0, 1, 0, 0, 1]\n",
      "Node [0 0 0 0] -> Node [0 0 0 0]. Current sequence: [0, 1, 1, 0, 0, 1, 1, 1, 0]\n",
      "Node [0 0 0 0] -> Node [0 0 0 0]. Current sequence: [0, 1, 1, 0, 1, 1, 0, 0, 0]\n",
      "Node [1 0 1 0] -> Node [0 1 1 0]. Current sequence: [0, 1, 1, 0, 1, 1, 1, 1, 1]\n",
      "Node [0 1 1 0] -> Node [0 1 1 0]. Current sequence: [0, 1, 1, 1, 0, 1, 0, 1, 0]\n",
      "Node [1 1 0 0] -> Node [0 0 0 0]. Current sequence: [0, 1, 1, 1, 0, 1, 1, 0, 1]\n",
      "Node [1 1 0 0] -> Node [0 0 0 0]. Current sequence: [0, 1, 1, 1, 1, 1, 0, 1, 1]\n",
      "Node [0 1 1 0] -> Node [0 1 1 0]. Current sequence: [0, 1, 1, 1, 1, 1, 1, 0, 0]\n",
      "Node [1 1 0 0] -> Node [0 0 0 0]. Current sequence: [1, 0, 0, 0, 0, 1, 0, 0, 1]\n",
      "Node [0 1 1 0] -> Node [0 1 1 0]. Current sequence: [1, 0, 0, 0, 0, 1, 1, 1, 0]\n",
      "Node [0 1 1 0] -> Node [0 1 1 0]. Current sequence: [1, 0, 0, 0, 1, 1, 0, 0, 0]\n",
      "Node [1 1 0 0] -> Node [0 0 0 0]. Current sequence: [1, 0, 0, 0, 1, 1, 1, 1, 1]\n",
      "Node [0 0 0 0] -> Node [0 0 0 0]. Current sequence: [1, 0, 0, 1, 0, 1, 0, 1, 0]\n",
      "Node [1 0 1 0] -> Node [0 1 1 0]. Current sequence: [1, 0, 0, 1, 0, 1, 1, 0, 1]\n",
      "Node [1 0 1 0] -> Node [0 1 1 0]. Current sequence: [1, 0, 0, 1, 1, 1, 0, 1, 1]\n",
      "Node [0 0 0 0] -> Node [0 0 0 0]. Current sequence: [1, 0, 0, 1, 1, 1, 1, 0, 0]\n",
      "Node [1 0 1 0] -> Node [0 1 1 0]. Current sequence: [1, 0, 1, 0, 0, 1, 0, 1, 1]\n",
      "Node [0 0 0 0] -> Node [0 0 0 0]. Current sequence: [1, 0, 1, 0, 0, 1, 1, 0, 0]\n",
      "Node [0 0 0 0] -> Node [0 0 0 0]. Current sequence: [1, 0, 1, 0, 1, 1, 0, 1, 0]\n",
      "Node [1 0 1 0] -> Node [0 1 1 0]. Current sequence: [1, 0, 1, 0, 1, 1, 1, 0, 1]\n",
      "Node [0 1 1 0] -> Node [0 1 1 0]. Current sequence: [1, 0, 1, 1, 0, 1, 0, 0, 0]\n",
      "Node [1 1 0 0] -> Node [0 0 0 0]. Current sequence: [1, 0, 1, 1, 0, 1, 1, 1, 1]\n",
      "Node [1 1 0 0] -> Node [0 0 0 0]. Current sequence: [1, 0, 1, 1, 1, 1, 0, 0, 1]\n",
      "Node [0 1 1 0] -> Node [0 1 1 0]. Current sequence: [1, 0, 1, 1, 1, 1, 1, 1, 0]\n",
      "Node [0 0 0 0] -> Node [0 0 0 0]. Current sequence: [1, 1, 0, 0, 0, 0, 0, 1, 0]\n",
      "Node [1 0 1 0] -> Node [0 1 1 0]. Current sequence: [1, 1, 0, 0, 0, 0, 1, 0, 1]\n",
      "Node [1 0 1 0] -> Node [0 1 1 0]. Current sequence: [1, 1, 0, 0, 1, 0, 0, 1, 1]\n",
      "Node [0 0 0 0] -> Node [0 0 0 0]. Current sequence: [1, 1, 0, 0, 1, 0, 1, 0, 0]\n",
      "Node [1 1 0 0] -> Node [0 0 0 0]. Current sequence: [1, 1, 0, 1, 0, 0, 0, 0, 1]\n",
      "Node [0 1 1 0] -> Node [0 1 1 0]. Current sequence: [1, 1, 0, 1, 0, 0, 1, 1, 0]\n",
      "Node [0 1 1 0] -> Node [0 1 1 0]. Current sequence: [1, 1, 0, 1, 1, 0, 0, 0, 0]\n",
      "Node [1 1 0 0] -> Node [0 0 0 0]. Current sequence: [1, 1, 0, 1, 1, 0, 1, 1, 1]\n",
      "Node [0 1 1 0] -> Node [0 1 1 0]. Current sequence: [1, 1, 1, 0, 0, 0, 0, 0, 0]\n",
      "Node [1 1 0 0] -> Node [0 0 0 0]. Current sequence: [1, 1, 1, 0, 0, 0, 1, 1, 1]\n",
      "Node [1 1 0 0] -> Node [0 0 0 0]. Current sequence: [1, 1, 1, 0, 1, 0, 0, 0, 1]\n",
      "Node [0 1 1 0] -> Node [0 1 1 0]. Current sequence: [1, 1, 1, 0, 1, 0, 1, 1, 0]\n",
      "Node [1 0 1 0] -> Node [0 1 1 0]. Current sequence: [1, 1, 1, 1, 0, 0, 0, 1, 1]\n",
      "Node [0 0 0 0] -> Node [0 0 0 0]. Current sequence: [1, 1, 1, 1, 0, 0, 1, 0, 0]\n",
      "Node [0 0 0 0] -> Node [0 0 0 0]. Current sequence: [1, 1, 1, 1, 1, 0, 0, 1, 0]\n",
      "Node [1 0 1 0] -> Node [0 1 1 0]. Current sequence: [1, 1, 1, 1, 1, 0, 1, 0, 1]\n",
      "Level  9\n",
      "Node [0 0 0 0] -> Node [0 0 0 0]. Current sequence: [0, 0, 0, 0, 0, 0, 0, 0, 0, 0]\n",
      "Node [0 1 1 0] -> Node [0 0 0 0]. Current sequence: [0, 0, 0, 0, 0, 0, 1, 1, 1, 1]\n",
      "Node [0 1 1 0] -> Node [0 0 0 0]. Current sequence: [0, 0, 0, 0, 1, 0, 0, 0, 1, 1]\n",
      "Node [0 0 0 0] -> Node [0 0 0 0]. Current sequence: [0, 0, 0, 0, 1, 0, 1, 1, 0, 0]\n",
      "Node [0 0 0 0] -> Node [0 0 0 0]. Current sequence: [0, 0, 0, 1, 0, 0, 0, 1, 1, 0]\n",
      "Node [0 1 1 0] -> Node [0 0 0 0]. Current sequence: [0, 0, 0, 1, 0, 0, 1, 0, 0, 1]\n",
      "Node [0 1 1 0] -> Node [0 0 0 0]. Current sequence: [0, 0, 0, 1, 1, 0, 0, 1, 0, 1]\n",
      "Node [0 0 0 0] -> Node [0 0 0 0]. Current sequence: [0, 0, 0, 1, 1, 0, 1, 0, 1, 0]\n",
      "Node [0 1 1 0] -> Node [0 0 0 0]. Current sequence: [0, 0, 1, 0, 0, 0, 0, 1, 0, 1]\n",
      "Node [0 0 0 0] -> Node [0 0 0 0]. Current sequence: [0, 0, 1, 0, 0, 0, 1, 0, 1, 0]\n",
      "Node [0 0 0 0] -> Node [0 0 0 0]. Current sequence: [0, 0, 1, 0, 1, 0, 0, 1, 1, 0]\n",
      "Node [0 1 1 0] -> Node [0 0 0 0]. Current sequence: [0, 0, 1, 0, 1, 0, 1, 0, 0, 1]\n",
      "Node [0 1 1 0] -> Node [0 0 0 0]. Current sequence: [0, 0, 1, 1, 0, 0, 0, 0, 1, 1]\n",
      "Node [0 0 0 0] -> Node [0 0 0 0]. Current sequence: [0, 0, 1, 1, 0, 0, 1, 1, 0, 0]\n",
      "Node [0 0 0 0] -> Node [0 0 0 0]. Current sequence: [0, 0, 1, 1, 1, 0, 0, 0, 0, 0]\n",
      "Node [0 1 1 0] -> Node [0 0 0 0]. Current sequence: [0, 0, 1, 1, 1, 0, 1, 1, 1, 1]\n",
      "Node [0 0 0 0] -> Node [0 0 0 0]. Current sequence: [0, 1, 0, 0, 0, 1, 0, 1, 1, 0]\n",
      "Node [0 1 1 0] -> Node [0 0 0 0]. Current sequence: [0, 1, 0, 0, 0, 1, 1, 0, 0, 1]\n",
      "Node [0 1 1 0] -> Node [0 0 0 0]. Current sequence: [0, 1, 0, 0, 1, 1, 0, 1, 0, 1]\n",
      "Node [0 0 0 0] -> Node [0 0 0 0]. Current sequence: [0, 1, 0, 0, 1, 1, 1, 0, 1, 0]\n",
      "Node [0 0 0 0] -> Node [0 0 0 0]. Current sequence: [0, 1, 0, 1, 0, 1, 0, 0, 0, 0]\n",
      "Node [0 1 1 0] -> Node [0 0 0 0]. Current sequence: [0, 1, 0, 1, 0, 1, 1, 1, 1, 1]\n",
      "Node [0 1 1 0] -> Node [0 0 0 0]. Current sequence: [0, 1, 0, 1, 1, 1, 0, 0, 1, 1]\n",
      "Node [0 0 0 0] -> Node [0 0 0 0]. Current sequence: [0, 1, 0, 1, 1, 1, 1, 1, 0, 0]\n",
      "Node [0 1 1 0] -> Node [0 0 0 0]. Current sequence: [0, 1, 1, 0, 0, 1, 0, 0, 1, 1]\n",
      "Node [0 0 0 0] -> Node [0 0 0 0]. Current sequence: [0, 1, 1, 0, 0, 1, 1, 1, 0, 0]\n",
      "Node [0 0 0 0] -> Node [0 0 0 0]. Current sequence: [0, 1, 1, 0, 1, 1, 0, 0, 0, 0]\n",
      "Node [0 1 1 0] -> Node [0 0 0 0]. Current sequence: [0, 1, 1, 0, 1, 1, 1, 1, 1, 1]\n",
      "Node [0 1 1 0] -> Node [0 0 0 0]. Current sequence: [0, 1, 1, 1, 0, 1, 0, 1, 0, 1]\n",
      "Node [0 0 0 0] -> Node [0 0 0 0]. Current sequence: [0, 1, 1, 1, 0, 1, 1, 0, 1, 0]\n",
      "Node [0 0 0 0] -> Node [0 0 0 0]. Current sequence: [0, 1, 1, 1, 1, 1, 0, 1, 1, 0]\n",
      "Node [0 1 1 0] -> Node [0 0 0 0]. Current sequence: [0, 1, 1, 1, 1, 1, 1, 0, 0, 1]\n",
      "Node [0 0 0 0] -> Node [0 0 0 0]. Current sequence: [1, 0, 0, 0, 0, 1, 0, 0, 1, 0]\n",
      "Node [0 1 1 0] -> Node [0 0 0 0]. Current sequence: [1, 0, 0, 0, 0, 1, 1, 1, 0, 1]\n",
      "Node [0 1 1 0] -> Node [0 0 0 0]. Current sequence: [1, 0, 0, 0, 1, 1, 0, 0, 0, 1]\n",
      "Node [0 0 0 0] -> Node [0 0 0 0]. Current sequence: [1, 0, 0, 0, 1, 1, 1, 1, 1, 0]\n",
      "Node [0 0 0 0] -> Node [0 0 0 0]. Current sequence: [1, 0, 0, 1, 0, 1, 0, 1, 0, 0]\n",
      "Node [0 1 1 0] -> Node [0 0 0 0]. Current sequence: [1, 0, 0, 1, 0, 1, 1, 0, 1, 1]\n",
      "Node [0 1 1 0] -> Node [0 0 0 0]. Current sequence: [1, 0, 0, 1, 1, 1, 0, 1, 1, 1]\n",
      "Node [0 0 0 0] -> Node [0 0 0 0]. Current sequence: [1, 0, 0, 1, 1, 1, 1, 0, 0, 0]\n",
      "Node [0 1 1 0] -> Node [0 0 0 0]. Current sequence: [1, 0, 1, 0, 0, 1, 0, 1, 1, 1]\n",
      "Node [0 0 0 0] -> Node [0 0 0 0]. Current sequence: [1, 0, 1, 0, 0, 1, 1, 0, 0, 0]\n",
      "Node [0 0 0 0] -> Node [0 0 0 0]. Current sequence: [1, 0, 1, 0, 1, 1, 0, 1, 0, 0]\n",
      "Node [0 1 1 0] -> Node [0 0 0 0]. Current sequence: [1, 0, 1, 0, 1, 1, 1, 0, 1, 1]\n",
      "Node [0 1 1 0] -> Node [0 0 0 0]. Current sequence: [1, 0, 1, 1, 0, 1, 0, 0, 0, 1]\n",
      "Node [0 0 0 0] -> Node [0 0 0 0]. Current sequence: [1, 0, 1, 1, 0, 1, 1, 1, 1, 0]\n",
      "Node [0 0 0 0] -> Node [0 0 0 0]. Current sequence: [1, 0, 1, 1, 1, 1, 0, 0, 1, 0]\n",
      "Node [0 1 1 0] -> Node [0 0 0 0]. Current sequence: [1, 0, 1, 1, 1, 1, 1, 1, 0, 1]\n",
      "Node [0 0 0 0] -> Node [0 0 0 0]. Current sequence: [1, 1, 0, 0, 0, 0, 0, 1, 0, 0]\n",
      "Node [0 1 1 0] -> Node [0 0 0 0]. Current sequence: [1, 1, 0, 0, 0, 0, 1, 0, 1, 1]\n",
      "Node [0 1 1 0] -> Node [0 0 0 0]. Current sequence: [1, 1, 0, 0, 1, 0, 0, 1, 1, 1]\n",
      "Node [0 0 0 0] -> Node [0 0 0 0]. Current sequence: [1, 1, 0, 0, 1, 0, 1, 0, 0, 0]\n",
      "Node [0 0 0 0] -> Node [0 0 0 0]. Current sequence: [1, 1, 0, 1, 0, 0, 0, 0, 1, 0]\n",
      "Node [0 1 1 0] -> Node [0 0 0 0]. Current sequence: [1, 1, 0, 1, 0, 0, 1, 1, 0, 1]\n",
      "Node [0 1 1 0] -> Node [0 0 0 0]. Current sequence: [1, 1, 0, 1, 1, 0, 0, 0, 0, 1]\n",
      "Node [0 0 0 0] -> Node [0 0 0 0]. Current sequence: [1, 1, 0, 1, 1, 0, 1, 1, 1, 0]\n",
      "Node [0 1 1 0] -> Node [0 0 0 0]. Current sequence: [1, 1, 1, 0, 0, 0, 0, 0, 0, 1]\n",
      "Node [0 0 0 0] -> Node [0 0 0 0]. Current sequence: [1, 1, 1, 0, 0, 0, 1, 1, 1, 0]\n",
      "Node [0 0 0 0] -> Node [0 0 0 0]. Current sequence: [1, 1, 1, 0, 1, 0, 0, 0, 1, 0]\n",
      "Node [0 1 1 0] -> Node [0 0 0 0]. Current sequence: [1, 1, 1, 0, 1, 0, 1, 1, 0, 1]\n",
      "Node [0 1 1 0] -> Node [0 0 0 0]. Current sequence: [1, 1, 1, 1, 0, 0, 0, 1, 1, 1]\n",
      "Node [0 0 0 0] -> Node [0 0 0 0]. Current sequence: [1, 1, 1, 1, 0, 0, 1, 0, 0, 0]\n",
      "Node [0 0 0 0] -> Node [0 0 0 0]. Current sequence: [1, 1, 1, 1, 1, 0, 0, 1, 0, 0]\n",
      "Node [0 1 1 0] -> Node [0 0 0 0]. Current sequence: [1, 1, 1, 1, 1, 0, 1, 0, 1, 1]\n"
     ]
    }
   ],
   "source": [
    "nodes = {() : [0,0,0,0]}\n",
    "\n",
    "def is_code_word_prefix(code_words, check_word):\n",
    "    size = len(check_word)\n",
    "    for word in code_words:\n",
    "        if (np.all(np.array(word[:size]) == np.array(check_word))):\n",
    "            return True\n",
    "    return False\n",
    "\n",
    "def process_word(word_p, word_c, next_line):\n",
    "    pref = np.dot(word_c, H[:, :i+1].T) % 2\n",
    "    if is_code_word_prefix(code_words, word_c):\n",
    "        next_line.append(word_c)\n",
    "        if not (tuple(pref) in profile[len(word_c)]):\n",
    "            profile[len(word_c)].add(tuple(pref))\n",
    "        nodes[tuple(word_c)] = pref\n",
    "        print('Node {} -> Node {}. Current sequence: {}'.format(nodes[tuple(word_p)], pref, word_c))\n",
    "\n",
    "prev_line = [[]]\n",
    "profile = []\n",
    "for i in range(0, n + 1):\n",
    "    profile.append(set())\n",
    "\n",
    "for i in range(0, n):\n",
    "    print('Level ', i)\n",
    "    next_line = []\n",
    "    for word in prev_line:\n",
    "        process_word(word, [*word, 0], next_line)\n",
    "        process_word(word, [*word, 1], next_line)\n",
    "    prev_line = next_line\n",
    "\n",
    "num_profile = []\n",
    "for p in profile:\n",
    "    num_profile.append(len(p))\n",
    "num_profile[0] = 1"
   ]
  },
  {
   "cell_type": "code",
   "execution_count": 34,
   "metadata": {
    "collapsed": false
   },
   "outputs": [
    {
     "name": "stdout",
     "output_type": "stream",
     "text": [
      "Профиль: [1, 2, 4, 8, 16, 16, 8, 8, 4, 2, 1]\n"
     ]
    }
   ],
   "source": [
    "print('Профиль:', num_profile)"
   ]
  },
  {
   "cell_type": "markdown",
   "metadata": {},
   "source": [
    "## Построение по порождающей матрице"
   ]
  },
  {
   "cell_type": "markdown",
   "metadata": {},
   "source": [
    "Профиль: (1 2 4 8 16 16 8 8 4 2 1)"
   ]
  }
 ],
 "metadata": {
  "kernelspec": {
   "display_name": "Python 3",
   "language": "python",
   "name": "python3"
  },
  "language_info": {
   "codemirror_mode": {
    "name": "ipython",
    "version": 3
   },
   "file_extension": ".py",
   "mimetype": "text/x-python",
   "name": "python",
   "nbconvert_exporter": "python",
   "pygments_lexer": "ipython3",
   "version": "3.6.3"
  }
 },
 "nbformat": 4,
 "nbformat_minor": 2
}
