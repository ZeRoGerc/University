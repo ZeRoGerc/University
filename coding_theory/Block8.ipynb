{
 "cells": [
  {
   "cell_type": "markdown",
   "metadata": {},
   "source": [
    "# Глава 8 (Сазанович Владислав М3339)"
   ]
  },
  {
   "cell_type": "code",
   "execution_count": 559,
   "metadata": {
    "collapsed": false
   },
   "outputs": [],
   "source": [
    "%matplotlib inline\n",
    "import numpy as np\n",
    "import pandas as pd\n",
    "import math\n",
    "import matplotlib.pyplot as plt\n",
    "import scipy\n",
    "import scipy.stats\n",
    "import hashlib\n",
    "import time\n",
    "import copy\n",
    "\n",
    "from numpy.linalg import matrix_rank\n",
    "from tqdm import tqdm\n",
    "\n",
    "from graphviz import Digraph\n",
    "from IPython.display import display\n",
    "\n",
    "import scipy.integrate as integrate"
   ]
  },
  {
   "cell_type": "code",
   "execution_count": 560,
   "metadata": {
    "collapsed": true
   },
   "outputs": [],
   "source": [
    "# generate all sequences of length l\n",
    "def generate(l):\n",
    "    res = []\n",
    "    \n",
    "    for i in range(0, 2**l):\n",
    "        b = bin(i)[2:]\n",
    "        b = '0' * (l - len(b)) + b\n",
    "        b = np.array(list(map(lambda x: int(x), b)))\n",
    "        res.append(b)\n",
    "        \n",
    "    return np.array(res)"
   ]
  },
  {
   "cell_type": "markdown",
   "metadata": {},
   "source": [
    "# Задание 6"
   ]
  },
  {
   "cell_type": "code",
   "execution_count": 561,
   "metadata": {
    "collapsed": true
   },
   "outputs": [],
   "source": [
    "# Преобразует массив в строку [1,0,0] -> 100\n",
    "def np_to_str(arr):\n",
    "    return ''.join(map(lambda x : str(x), arr))"
   ]
  },
  {
   "cell_type": "code",
   "execution_count": 562,
   "metadata": {
    "collapsed": true
   },
   "outputs": [],
   "source": [
    "# Преобразует массив в число [1,0,0] -> 8\n",
    "def np_to_num(arr):\n",
    "    return int(np_to_str(arr), 2)"
   ]
  },
  {
   "cell_type": "code",
   "execution_count": 563,
   "metadata": {
    "collapsed": true
   },
   "outputs": [],
   "source": [
    "# Преобразует вектор в D^{cумма элементов}\n",
    "def convert_to_D(arr):\n",
    "    pow = np.sum(arr)\n",
    "    if pow == 0:\n",
    "        return '1'\n",
    "    elif pow == 1:\n",
    "        return 'D'\n",
    "    else:\n",
    "        return 'D^{}'.format(pow)"
   ]
  },
  {
   "cell_type": "code",
   "execution_count": 564,
   "metadata": {
    "collapsed": true
   },
   "outputs": [],
   "source": [
    "# Для заданного состояния считает переходы\n",
    "def get_transitions(state, g):\n",
    "    zero = np.append([0], state)\n",
    "    one = np.append([1], state)\n",
    "    \n",
    "    # нужно перевернуть полиномы так как в numpy они представляются в другом порядке\n",
    "    g1_r = []\n",
    "    for i in range(len(g)):\n",
    "        g1_r.append(g[i][::-1])\n",
    "    \n",
    "    zero_code = [np.sum(x * zero) % 2 for x in g]\n",
    "    one_code = [np.sum(x * one) % 2 for x in g]\n",
    "    \n",
    "    return zero[:len(state)], zero_code, one[:len(state)], one_code"
   ]
  },
  {
   "cell_type": "code",
   "execution_count": 565,
   "metadata": {
    "collapsed": false
   },
   "outputs": [
    {
     "data": {
      "text/plain": [
       "(array([0, 0]), [0, 0], array([1, 0]), [1, 1])"
      ]
     },
     "execution_count": 565,
     "metadata": {},
     "output_type": "execute_result"
    }
   ],
   "source": [
    "# Пример из учебника\n",
    "g1 = [1, 0, 1] # 1 + D^2\n",
    "g2 = [1, 1, 1] # 1 + D + D^2\n",
    "get_transitions([0, 0], [g1, g2])"
   ]
  },
  {
   "cell_type": "code",
   "execution_count": 566,
   "metadata": {
    "collapsed": false
   },
   "outputs": [],
   "source": [
    "# Выводит граф для заданной длины состояний и порождающих полиномов\n",
    "def create_graph(power, g, d_labels=False, circo=False):\n",
    "    dot = Digraph(comment='Automata for coder')\n",
    "    for node in generate(power):\n",
    "        label = np_to_str(node)\n",
    "        if d_labels:\n",
    "            label = str(int(label, 2)) # convert to number\n",
    "        dot.node(np_to_str(node), label)\n",
    "        \n",
    "    for node in generate(power):\n",
    "        z_state, z_code, o_state, o_code = get_transitions(node, g)\n",
    "        \n",
    "        z_label = np_to_str(z_code) + ' (0)'\n",
    "        o_label = np_to_str(o_code) + ' (1)'\n",
    "        \n",
    "        if d_labels:\n",
    "            z_label = convert_to_D(z_code)\n",
    "            o_label = convert_to_D(o_code)\n",
    "        \n",
    "        dot.edge(np_to_str(node), np_to_str(z_state), label=z_label)\n",
    "        dot.edge(np_to_str(node), np_to_str(o_state), label=o_label)\n",
    "       \n",
    "    if circo:\n",
    "        dot.body = ['layout=\"circo\"', *dot.body]\n",
    "    return dot"
   ]
  },
  {
   "cell_type": "code",
   "execution_count": 567,
   "metadata": {
    "collapsed": false
   },
   "outputs": [
    {
     "data": {
      "image/svg+xml": [
       "<?xml version=\"1.0\" encoding=\"UTF-8\" standalone=\"no\"?>\n",
       "<!DOCTYPE svg PUBLIC \"-//W3C//DTD SVG 1.1//EN\"\n",
       " \"http://www.w3.org/Graphics/SVG/1.1/DTD/svg11.dtd\">\n",
       "<!-- Generated by graphviz version 2.40.1 (20161225.0304)\n",
       " -->\n",
       "<!-- Title: %3 Pages: 1 -->\n",
       "<svg width=\"254pt\" height=\"302pt\"\n",
       " viewBox=\"0.00 0.00 254.14 302.00\" xmlns=\"http://www.w3.org/2000/svg\" xmlns:xlink=\"http://www.w3.org/1999/xlink\">\n",
       "<g id=\"graph0\" class=\"graph\" transform=\"scale(1 1) rotate(0) translate(4 298)\">\n",
       "<title>%3</title>\n",
       "<polygon fill=\"#ffffff\" stroke=\"transparent\" points=\"-4,4 -4,-298 250.1403,-298 250.1403,4 -4,4\"/>\n",
       "<!-- 00 -->\n",
       "<g id=\"node1\" class=\"node\">\n",
       "<title>00</title>\n",
       "<ellipse fill=\"none\" stroke=\"#000000\" cx=\"165.8288\" cy=\"-276\" rx=\"27\" ry=\"18\"/>\n",
       "<text text-anchor=\"middle\" x=\"165.8288\" y=\"-271.8\" font-family=\"Times,serif\" font-size=\"14.00\" fill=\"#000000\">00</text>\n",
       "</g>\n",
       "<!-- 00&#45;&gt;00 -->\n",
       "<g id=\"edge1\" class=\"edge\">\n",
       "<title>00&#45;&gt;00</title>\n",
       "<path fill=\"none\" stroke=\"#000000\" d=\"M190.3612,-283.752C201.3366,-284.4902 210.8288,-281.9063 210.8288,-276 210.8288,-272.0317 206.5439,-269.5632 200.4031,-268.5944\"/>\n",
       "<polygon fill=\"#000000\" stroke=\"#000000\" points=\"200.476,-265.0949 190.3612,-268.248 200.2346,-272.0908 200.476,-265.0949\"/>\n",
       "<text text-anchor=\"middle\" x=\"227.7409\" y=\"-271.8\" font-family=\"Times,serif\" font-size=\"14.00\" fill=\"#000000\">00 (0)</text>\n",
       "</g>\n",
       "<!-- 10 -->\n",
       "<g id=\"node3\" class=\"node\">\n",
       "<title>10</title>\n",
       "<ellipse fill=\"none\" stroke=\"#000000\" cx=\"53.8288\" cy=\"-190\" rx=\"27\" ry=\"18\"/>\n",
       "<text text-anchor=\"middle\" x=\"53.8288\" y=\"-185.8\" font-family=\"Times,serif\" font-size=\"14.00\" fill=\"#000000\">10</text>\n",
       "</g>\n",
       "<!-- 00&#45;&gt;10 -->\n",
       "<g id=\"edge2\" class=\"edge\">\n",
       "<title>00&#45;&gt;10</title>\n",
       "<path fill=\"none\" stroke=\"#000000\" d=\"M147.834,-262.1826C129.4645,-248.0775 100.7647,-226.0401 79.9063,-210.0238\"/>\n",
       "<polygon fill=\"#000000\" stroke=\"#000000\" points=\"81.842,-207.0974 71.7789,-203.7831 77.5788,-212.6494 81.842,-207.0974\"/>\n",
       "<text text-anchor=\"middle\" x=\"132.4845\" y=\"-228.8\" font-family=\"Times,serif\" font-size=\"14.00\" fill=\"#000000\">11 (1)</text>\n",
       "</g>\n",
       "<!-- 01 -->\n",
       "<g id=\"node2\" class=\"node\">\n",
       "<title>01</title>\n",
       "<ellipse fill=\"none\" stroke=\"#000000\" cx=\"61.8288\" cy=\"-18\" rx=\"27\" ry=\"18\"/>\n",
       "<text text-anchor=\"middle\" x=\"61.8288\" y=\"-13.8\" font-family=\"Times,serif\" font-size=\"14.00\" fill=\"#000000\">01</text>\n",
       "</g>\n",
       "<!-- 01&#45;&gt;00 -->\n",
       "<g id=\"edge3\" class=\"edge\">\n",
       "<title>01&#45;&gt;00</title>\n",
       "<path fill=\"none\" stroke=\"#000000\" d=\"M88.2445,-22.4361C120.9809,-29.5043 175.4224,-46.7651 199.8288,-86 231.9738,-137.6752 201.3997,-211.6528 180.9164,-250.2832\"/>\n",
       "<polygon fill=\"#000000\" stroke=\"#000000\" points=\"177.7073,-248.8564 175.9705,-259.3079 183.8458,-252.2206 177.7073,-248.8564\"/>\n",
       "<text text-anchor=\"middle\" x=\"229.4845\" y=\"-142.8\" font-family=\"Times,serif\" font-size=\"14.00\" fill=\"#000000\">11 (0)</text>\n",
       "</g>\n",
       "<!-- 01&#45;&gt;10 -->\n",
       "<g id=\"edge4\" class=\"edge\">\n",
       "<title>01&#45;&gt;10</title>\n",
       "<path fill=\"none\" stroke=\"#000000\" d=\"M55.5358,-35.6216C51.0385,-49.1904 45.3792,-68.5212 43.0046,-86 39.5133,-111.698 43.2897,-141.1028 47.3094,-162.0739\"/>\n",
       "<polygon fill=\"#000000\" stroke=\"#000000\" points=\"43.892,-162.832 49.3338,-171.9224 50.7486,-161.4225 43.892,-162.832\"/>\n",
       "<text text-anchor=\"middle\" x=\"60.7409\" y=\"-99.8\" font-family=\"Times,serif\" font-size=\"14.00\" fill=\"#000000\">00 (1)</text>\n",
       "</g>\n",
       "<!-- 10&#45;&gt;01 -->\n",
       "<g id=\"edge5\" class=\"edge\">\n",
       "<title>10&#45;&gt;01</title>\n",
       "<path fill=\"none\" stroke=\"#000000\" d=\"M38.5459,-175.1544C26.551,-162.3612 10.7849,-142.7258 4.0046,-122 -.9703,-106.7931 -1.5171,-101.017 4.0046,-86 10.6478,-67.9327 24.4586,-51.3885 36.9171,-39.1433\"/>\n",
       "<polygon fill=\"#000000\" stroke=\"#000000\" points=\"39.5263,-41.4945 44.4233,-32.0992 34.7362,-36.3901 39.5263,-41.4945\"/>\n",
       "<text text-anchor=\"middle\" x=\"21.7409\" y=\"-99.8\" font-family=\"Times,serif\" font-size=\"14.00\" fill=\"#000000\">01 (0)</text>\n",
       "</g>\n",
       "<!-- 11 -->\n",
       "<g id=\"node4\" class=\"node\">\n",
       "<title>11</title>\n",
       "<ellipse fill=\"none\" stroke=\"#000000\" cx=\"112.8288\" cy=\"-104\" rx=\"27\" ry=\"18\"/>\n",
       "<text text-anchor=\"middle\" x=\"112.8288\" y=\"-99.8\" font-family=\"Times,serif\" font-size=\"14.00\" fill=\"#000000\">11</text>\n",
       "</g>\n",
       "<!-- 10&#45;&gt;11 -->\n",
       "<g id=\"edge6\" class=\"edge\">\n",
       "<title>10&#45;&gt;11</title>\n",
       "<path fill=\"none\" stroke=\"#000000\" d=\"M65.2046,-173.4183C73.8565,-160.8071 85.9042,-143.246 95.7171,-128.9424\"/>\n",
       "<polygon fill=\"#000000\" stroke=\"#000000\" points=\"98.7168,-130.7568 101.4879,-120.5308 92.9446,-126.7968 98.7168,-130.7568\"/>\n",
       "<text text-anchor=\"middle\" x=\"104.7409\" y=\"-142.8\" font-family=\"Times,serif\" font-size=\"14.00\" fill=\"#000000\">10 (1)</text>\n",
       "</g>\n",
       "<!-- 11&#45;&gt;01 -->\n",
       "<g id=\"edge7\" class=\"edge\">\n",
       "<title>11&#45;&gt;01</title>\n",
       "<path fill=\"none\" stroke=\"#000000\" d=\"M102.7528,-87.0092C95.4184,-74.6413 85.3571,-57.6752 77.0462,-43.6608\"/>\n",
       "<polygon fill=\"#000000\" stroke=\"#000000\" points=\"79.9951,-41.7716 71.8838,-34.9555 73.9742,-45.3421 79.9951,-41.7716\"/>\n",
       "<text text-anchor=\"middle\" x=\"107.7409\" y=\"-56.8\" font-family=\"Times,serif\" font-size=\"14.00\" fill=\"#000000\">10 (0)</text>\n",
       "</g>\n",
       "<!-- 11&#45;&gt;11 -->\n",
       "<g id=\"edge8\" class=\"edge\">\n",
       "<title>11&#45;&gt;11</title>\n",
       "<path fill=\"none\" stroke=\"#000000\" d=\"M137.3612,-111.752C148.3366,-112.4902 157.8288,-109.9063 157.8288,-104 157.8288,-100.0317 153.5439,-97.5632 147.4031,-96.5944\"/>\n",
       "<polygon fill=\"#000000\" stroke=\"#000000\" points=\"147.476,-93.0949 137.3612,-96.248 147.2346,-100.0908 147.476,-93.0949\"/>\n",
       "<text text-anchor=\"middle\" x=\"174.7409\" y=\"-99.8\" font-family=\"Times,serif\" font-size=\"14.00\" fill=\"#000000\">01 (1)</text>\n",
       "</g>\n",
       "</g>\n",
       "</svg>\n"
      ],
      "text/plain": [
       "<graphviz.dot.Digraph at 0x118472860>"
      ]
     },
     "execution_count": 567,
     "metadata": {},
     "output_type": "execute_result"
    }
   ],
   "source": [
    "# Пример из учебника\n",
    "create_graph(2, [g1, g2])"
   ]
  },
  {
   "cell_type": "code",
   "execution_count": 568,
   "metadata": {
    "collapsed": false
   },
   "outputs": [
    {
     "data": {
      "image/svg+xml": [
       "<?xml version=\"1.0\" encoding=\"UTF-8\" standalone=\"no\"?>\n",
       "<!DOCTYPE svg PUBLIC \"-//W3C//DTD SVG 1.1//EN\"\n",
       " \"http://www.w3.org/Graphics/SVG/1.1/DTD/svg11.dtd\">\n",
       "<!-- Generated by graphviz version 2.40.1 (20161225.0304)\n",
       " -->\n",
       "<!-- Title: %3 Pages: 1 -->\n",
       "<svg width=\"168pt\" height=\"302pt\"\n",
       " viewBox=\"0.00 0.00 168.10 302.00\" xmlns=\"http://www.w3.org/2000/svg\" xmlns:xlink=\"http://www.w3.org/1999/xlink\">\n",
       "<g id=\"graph0\" class=\"graph\" transform=\"scale(1 1) rotate(0) translate(4 298)\">\n",
       "<title>%3</title>\n",
       "<polygon fill=\"#ffffff\" stroke=\"transparent\" points=\"-4,4 -4,-298 164.1022,-298 164.1022,4 -4,4\"/>\n",
       "<!-- 00 -->\n",
       "<g id=\"node1\" class=\"node\">\n",
       "<title>00</title>\n",
       "<ellipse fill=\"none\" stroke=\"#000000\" cx=\"101.4225\" cy=\"-276\" rx=\"27\" ry=\"18\"/>\n",
       "<text text-anchor=\"middle\" x=\"101.4225\" y=\"-271.8\" font-family=\"Times,serif\" font-size=\"14.00\" fill=\"#000000\">0</text>\n",
       "</g>\n",
       "<!-- 00&#45;&gt;00 -->\n",
       "<g id=\"edge1\" class=\"edge\">\n",
       "<title>00&#45;&gt;00</title>\n",
       "<path fill=\"none\" stroke=\"#000000\" d=\"M125.955,-283.752C136.9303,-284.4902 146.4225,-281.9063 146.4225,-276 146.4225,-272.0317 142.1376,-269.5632 135.9968,-268.5944\"/>\n",
       "<polygon fill=\"#000000\" stroke=\"#000000\" points=\"136.0697,-265.0949 125.955,-268.248 135.8284,-272.0908 136.0697,-265.0949\"/>\n",
       "<text text-anchor=\"middle\" x=\"149.9225\" y=\"-271.8\" font-family=\"Times,serif\" font-size=\"14.00\" fill=\"#000000\">1</text>\n",
       "</g>\n",
       "<!-- 10 -->\n",
       "<g id=\"node3\" class=\"node\">\n",
       "<title>10</title>\n",
       "<ellipse fill=\"none\" stroke=\"#000000\" cx=\"30.4225\" cy=\"-190\" rx=\"27\" ry=\"18\"/>\n",
       "<text text-anchor=\"middle\" x=\"30.4225\" y=\"-185.8\" font-family=\"Times,serif\" font-size=\"14.00\" fill=\"#000000\">2</text>\n",
       "</g>\n",
       "<!-- 00&#45;&gt;10 -->\n",
       "<g id=\"edge2\" class=\"edge\">\n",
       "<title>00&#45;&gt;10</title>\n",
       "<path fill=\"none\" stroke=\"#000000\" d=\"M88.4,-260.2263C77.6585,-247.2155 62.253,-228.5553 50.0217,-213.7399\"/>\n",
       "<polygon fill=\"#000000\" stroke=\"#000000\" points=\"52.6685,-211.4482 43.6029,-205.965 47.2704,-215.9048 52.6685,-211.4482\"/>\n",
       "<text text-anchor=\"middle\" x=\"81.2623\" y=\"-228.8\" font-family=\"Times,serif\" font-size=\"14.00\" fill=\"#000000\">D^2</text>\n",
       "</g>\n",
       "<!-- 01 -->\n",
       "<g id=\"node2\" class=\"node\">\n",
       "<title>01</title>\n",
       "<ellipse fill=\"none\" stroke=\"#000000\" cx=\"29.4225\" cy=\"-18\" rx=\"27\" ry=\"18\"/>\n",
       "<text text-anchor=\"middle\" x=\"29.4225\" y=\"-13.8\" font-family=\"Times,serif\" font-size=\"14.00\" fill=\"#000000\">1</text>\n",
       "</g>\n",
       "<!-- 01&#45;&gt;00 -->\n",
       "<g id=\"edge3\" class=\"edge\">\n",
       "<title>01&#45;&gt;00</title>\n",
       "<path fill=\"none\" stroke=\"#000000\" d=\"M52.7931,-27.1441C75.7684,-37.5487 109.4945,-56.9565 124.4225,-86 151.612,-138.899 129.5325,-210.7168 113.7914,-249.1322\"/>\n",
       "<polygon fill=\"#000000\" stroke=\"#000000\" points=\"110.4604,-248.0214 109.763,-258.5933 116.9009,-250.7638 110.4604,-248.0214\"/>\n",
       "<text text-anchor=\"middle\" x=\"148.2623\" y=\"-142.8\" font-family=\"Times,serif\" font-size=\"14.00\" fill=\"#000000\">D^2</text>\n",
       "</g>\n",
       "<!-- 01&#45;&gt;10 -->\n",
       "<g id=\"edge4\" class=\"edge\">\n",
       "<title>01&#45;&gt;10</title>\n",
       "<path fill=\"none\" stroke=\"#000000\" d=\"M25.3464,-36.0687C22.4869,-49.706 18.9178,-68.9225 17.4225,-86 16.0269,-101.939 15.9136,-106.0713 17.4225,-122 18.6762,-135.2343 21.2731,-149.7259 23.8187,-161.918\"/>\n",
       "<polygon fill=\"#000000\" stroke=\"#000000\" points=\"20.4563,-162.9267 26.0073,-171.9509 27.2955,-161.4347 20.4563,-162.9267\"/>\n",
       "<text text-anchor=\"middle\" x=\"20.9225\" y=\"-99.8\" font-family=\"Times,serif\" font-size=\"14.00\" fill=\"#000000\">1</text>\n",
       "</g>\n",
       "<!-- 10&#45;&gt;01 -->\n",
       "<g id=\"edge5\" class=\"edge\">\n",
       "<title>10&#45;&gt;01</title>\n",
       "<path fill=\"none\" stroke=\"#000000\" d=\"M21.1855,-172.9808C14.4586,-159.5709 5.9194,-140.1684 2.3122,-122 -.8038,-106.3063 -.7046,-101.713 2.3122,-86 5.0539,-71.7197 10.7601,-56.6212 16.2333,-44.2884\"/>\n",
       "<polygon fill=\"#000000\" stroke=\"#000000\" points=\"19.4813,-45.6037 20.5116,-35.059 13.1305,-42.6596 19.4813,-45.6037\"/>\n",
       "<text text-anchor=\"middle\" x=\"7.4777\" y=\"-99.8\" font-family=\"Times,serif\" font-size=\"14.00\" fill=\"#000000\">D</text>\n",
       "</g>\n",
       "<!-- 11 -->\n",
       "<g id=\"node4\" class=\"node\">\n",
       "<title>11</title>\n",
       "<ellipse fill=\"none\" stroke=\"#000000\" cx=\"60.4225\" cy=\"-104\" rx=\"27\" ry=\"18\"/>\n",
       "<text text-anchor=\"middle\" x=\"60.4225\" y=\"-99.8\" font-family=\"Times,serif\" font-size=\"14.00\" fill=\"#000000\">3</text>\n",
       "</g>\n",
       "<!-- 10&#45;&gt;11 -->\n",
       "<g id=\"edge6\" class=\"edge\">\n",
       "<title>10&#45;&gt;11</title>\n",
       "<path fill=\"none\" stroke=\"#000000\" d=\"M36.6385,-172.1807C40.7414,-160.4191 46.1981,-144.7766 50.8499,-131.4416\"/>\n",
       "<polygon fill=\"#000000\" stroke=\"#000000\" points=\"54.2254,-132.3913 54.2144,-121.7964 47.616,-130.0856 54.2254,-132.3913\"/>\n",
       "<text text-anchor=\"middle\" x=\"52.4777\" y=\"-142.8\" font-family=\"Times,serif\" font-size=\"14.00\" fill=\"#000000\">D</text>\n",
       "</g>\n",
       "<!-- 11&#45;&gt;01 -->\n",
       "<g id=\"edge7\" class=\"edge\">\n",
       "<title>11&#45;&gt;01</title>\n",
       "<path fill=\"none\" stroke=\"#000000\" d=\"M53.9993,-86.1807C49.7314,-74.3407 44.0458,-58.5679 39.2182,-45.1752\"/>\n",
       "<polygon fill=\"#000000\" stroke=\"#000000\" points=\"42.4152,-43.7228 35.7314,-35.5022 35.8299,-46.0966 42.4152,-43.7228\"/>\n",
       "<text text-anchor=\"middle\" x=\"52.4777\" y=\"-56.8\" font-family=\"Times,serif\" font-size=\"14.00\" fill=\"#000000\">D</text>\n",
       "</g>\n",
       "<!-- 11&#45;&gt;11 -->\n",
       "<g id=\"edge8\" class=\"edge\">\n",
       "<title>11&#45;&gt;11</title>\n",
       "<path fill=\"none\" stroke=\"#000000\" d=\"M84.955,-111.752C95.9303,-112.4902 105.4225,-109.9063 105.4225,-104 105.4225,-100.0317 101.1376,-97.5632 94.9968,-96.5944\"/>\n",
       "<polygon fill=\"#000000\" stroke=\"#000000\" points=\"95.0697,-93.0949 84.955,-96.248 94.8284,-100.0908 95.0697,-93.0949\"/>\n",
       "<text text-anchor=\"middle\" x=\"110.4777\" y=\"-99.8\" font-family=\"Times,serif\" font-size=\"14.00\" fill=\"#000000\">D</text>\n",
       "</g>\n",
       "</g>\n",
       "</svg>\n"
      ],
      "text/plain": [
       "<graphviz.dot.Digraph at 0x11a30b358>"
      ]
     },
     "execution_count": 568,
     "metadata": {},
     "output_type": "execute_result"
    }
   ],
   "source": [
    "create_graph(2, [g1, g2], d_labels=True)"
   ]
  },
  {
   "cell_type": "code",
   "execution_count": 569,
   "metadata": {
    "collapsed": false
   },
   "outputs": [],
   "source": [
    "def to_D_for_sys(pow):\n",
    "    if pow == 0:\n",
    "        return ''\n",
    "    elif pow == 1:\n",
    "        return 'D'\n",
    "    else:\n",
    "        return 'D^{}'.format(pow)\n",
    "\n",
    "# Напишем систему уравнений для вычисления g0(D) для этого посчитаем переходы\n",
    "def get_system(power, g, with_I=False, pr=False):\n",
    "    eq_sys = []\n",
    "    for i in range(2**power):\n",
    "        eq_sys.append([])\n",
    "        \n",
    "    for node in generate(power):\n",
    "        num = np_to_num(node)\n",
    "        \n",
    "        z_state, z_code, o_state, o_code = get_transitions(node, g)\n",
    "        z_state = np_to_num(z_state)\n",
    "        z_code = np.sum(z_code)\n",
    "        o_state = np_to_num(o_state)\n",
    "        o_code = np.sum(o_code)\n",
    "        \n",
    "        if num != 0:\n",
    "            eq_sys[z_state].append((num, z_code, 0))\n",
    "        eq_sys[o_state].append((num, o_code, 1))\n",
    "        \n",
    "        \n",
    "    if pr:\n",
    "        for i in range(len(eq_sys)):\n",
    "            ans = 'g{}(D) = '.format(i)\n",
    "            \n",
    "            for s in eq_sys[i]:\n",
    "                I = ''\n",
    "                aI = ''\n",
    "                if with_I:\n",
    "                    I = 'I'\n",
    "                    aI = ', I'\n",
    "                if s[2] == 0:\n",
    "                    I = ''\n",
    "                    \n",
    "                if (s[0] == 0):\n",
    "                    ans = ans + '{}{} + '.format(to_D_for_sys(s[1]), I)\n",
    "                else:\n",
    "                    ans = ans + '{}{}g{}(D{}) + '.format(to_D_for_sys(s[1]), I, s[0], aI)\n",
    "            print(ans[:-3])\n",
    "    return eq_sys"
   ]
  },
  {
   "cell_type": "code",
   "execution_count": 570,
   "metadata": {
    "collapsed": false
   },
   "outputs": [
    {
     "name": "stdout",
     "output_type": "stream",
     "text": [
      "g0(D) = D^2g1(D, I)\n",
      "g1(D) = Dg2(D, I) + Dg3(D, I)\n",
      "g2(D) = D^2I + Ig1(D, I)\n",
      "g3(D) = DIg2(D, I) + DIg3(D, I)\n"
     ]
    }
   ],
   "source": [
    "# Пример из учебника\n",
    "sys = get_system(2, [g1, g2], True, True)"
   ]
  },
  {
   "cell_type": "markdown",
   "metadata": {},
   "source": [
    "# Данные из задания"
   ]
  },
  {
   "cell_type": "code",
   "execution_count": 571,
   "metadata": {
    "collapsed": false
   },
   "outputs": [],
   "source": [
    "# 4 7 3\n",
    "g1 = np.array([0, 0, 1]) # 1 (4)\n",
    "g2 = np.array([1, 1, 1]) # 1 + D + D^2 (7)\n",
    "g3 = np.array([1, 1, 0]) # D + D^2 (3)"
   ]
  },
  {
   "cell_type": "code",
   "execution_count": 572,
   "metadata": {
    "collapsed": false
   },
   "outputs": [
    {
     "data": {
      "image/svg+xml": [
       "<?xml version=\"1.0\" encoding=\"UTF-8\" standalone=\"no\"?>\n",
       "<!DOCTYPE svg PUBLIC \"-//W3C//DTD SVG 1.1//EN\"\n",
       " \"http://www.w3.org/Graphics/SVG/1.1/DTD/svg11.dtd\">\n",
       "<!-- Generated by graphviz version 2.40.1 (20161225.0304)\n",
       " -->\n",
       "<!-- Title: %3 Pages: 1 -->\n",
       "<svg width=\"282pt\" height=\"302pt\"\n",
       " viewBox=\"0.00 0.00 282.03 302.00\" xmlns=\"http://www.w3.org/2000/svg\" xmlns:xlink=\"http://www.w3.org/1999/xlink\">\n",
       "<g id=\"graph0\" class=\"graph\" transform=\"scale(1 1) rotate(0) translate(4 298)\">\n",
       "<title>%3</title>\n",
       "<polygon fill=\"#ffffff\" stroke=\"transparent\" points=\"-4,4 -4,-298 278.0262,-298 278.0262,4 -4,4\"/>\n",
       "<!-- 00 -->\n",
       "<g id=\"node1\" class=\"node\">\n",
       "<title>00</title>\n",
       "<ellipse fill=\"none\" stroke=\"#000000\" cx=\"182.7147\" cy=\"-276\" rx=\"27\" ry=\"18\"/>\n",
       "<text text-anchor=\"middle\" x=\"182.7147\" y=\"-271.8\" font-family=\"Times,serif\" font-size=\"14.00\" fill=\"#000000\">00</text>\n",
       "</g>\n",
       "<!-- 00&#45;&gt;00 -->\n",
       "<g id=\"edge1\" class=\"edge\">\n",
       "<title>00&#45;&gt;00</title>\n",
       "<path fill=\"none\" stroke=\"#000000\" d=\"M207.2471,-283.752C218.2225,-284.4902 227.7147,-281.9063 227.7147,-276 227.7147,-272.0317 223.4297,-269.5632 217.289,-268.5944\"/>\n",
       "<polygon fill=\"#000000\" stroke=\"#000000\" points=\"217.3619,-265.0949 207.2471,-268.248 217.1205,-272.0908 217.3619,-265.0949\"/>\n",
       "<text text-anchor=\"middle\" x=\"248.1268\" y=\"-271.8\" font-family=\"Times,serif\" font-size=\"14.00\" fill=\"#000000\">000 (0)</text>\n",
       "</g>\n",
       "<!-- 10 -->\n",
       "<g id=\"node3\" class=\"node\">\n",
       "<title>10</title>\n",
       "<ellipse fill=\"none\" stroke=\"#000000\" cx=\"62.7147\" cy=\"-190\" rx=\"27\" ry=\"18\"/>\n",
       "<text text-anchor=\"middle\" x=\"62.7147\" y=\"-185.8\" font-family=\"Times,serif\" font-size=\"14.00\" fill=\"#000000\">10</text>\n",
       "</g>\n",
       "<!-- 00&#45;&gt;10 -->\n",
       "<g id=\"edge2\" class=\"edge\">\n",
       "<title>00&#45;&gt;10</title>\n",
       "<path fill=\"none\" stroke=\"#000000\" d=\"M164.2277,-262.751C144.2903,-248.4625 112.358,-225.5777 89.6344,-209.2924\"/>\n",
       "<polygon fill=\"#000000\" stroke=\"#000000\" points=\"91.5874,-206.3861 81.4204,-203.4058 87.5098,-212.0759 91.5874,-206.3861\"/>\n",
       "<text text-anchor=\"middle\" x=\"149.8704\" y=\"-228.8\" font-family=\"Times,serif\" font-size=\"14.00\" fill=\"#000000\">011 (1)</text>\n",
       "</g>\n",
       "<!-- 01 -->\n",
       "<g id=\"node2\" class=\"node\">\n",
       "<title>01</title>\n",
       "<ellipse fill=\"none\" stroke=\"#000000\" cx=\"70.7147\" cy=\"-18\" rx=\"27\" ry=\"18\"/>\n",
       "<text text-anchor=\"middle\" x=\"70.7147\" y=\"-13.8\" font-family=\"Times,serif\" font-size=\"14.00\" fill=\"#000000\">01</text>\n",
       "</g>\n",
       "<!-- 01&#45;&gt;00 -->\n",
       "<g id=\"edge3\" class=\"edge\">\n",
       "<title>01&#45;&gt;00</title>\n",
       "<path fill=\"none\" stroke=\"#000000\" d=\"M97.5168,-21.3799C132.7753,-27.424 193.4492,-43.7034 220.7147,-86 253.8149,-137.3482 220.8277,-211.4627 198.8613,-250.2004\"/>\n",
       "<polygon fill=\"#000000\" stroke=\"#000000\" points=\"195.5941,-248.8534 193.561,-259.2514 201.6346,-252.3908 195.5941,-248.8534\"/>\n",
       "<text text-anchor=\"middle\" x=\"253.8704\" y=\"-142.8\" font-family=\"Times,serif\" font-size=\"14.00\" fill=\"#000000\">110 (0)</text>\n",
       "</g>\n",
       "<!-- 01&#45;&gt;10 -->\n",
       "<g id=\"edge4\" class=\"edge\">\n",
       "<title>01&#45;&gt;10</title>\n",
       "<path fill=\"none\" stroke=\"#000000\" d=\"M63.756,-35.5615C58.7824,-49.0989 52.5225,-68.4166 49.8905,-86 46.0199,-111.8577 50.537,-141.4601 55.244,-162.4531\"/>\n",
       "<polygon fill=\"#000000\" stroke=\"#000000\" points=\"51.8693,-163.3895 57.6065,-172.2965 58.676,-161.7558 51.8693,-163.3895\"/>\n",
       "<text text-anchor=\"middle\" x=\"71.1268\" y=\"-99.8\" font-family=\"Times,serif\" font-size=\"14.00\" fill=\"#000000\">101 (1)</text>\n",
       "</g>\n",
       "<!-- 10&#45;&gt;01 -->\n",
       "<g id=\"edge5\" class=\"edge\">\n",
       "<title>10&#45;&gt;01</title>\n",
       "<path fill=\"none\" stroke=\"#000000\" d=\"M45.1656,-175.932C31.1272,-163.4635 12.499,-143.8777 4.4031,-122 -1.1496,-106.9944 -1.6268,-100.8203 4.4031,-86 12.3731,-66.4114 29.0003,-49.3832 43.6102,-37.2663\"/>\n",
       "<polygon fill=\"#000000\" stroke=\"#000000\" points=\"45.7861,-40.0077 51.4515,-31.0549 41.4396,-34.5207 45.7861,-40.0077\"/>\n",
       "<text text-anchor=\"middle\" x=\"24.8704\" y=\"-99.8\" font-family=\"Times,serif\" font-size=\"14.00\" fill=\"#000000\">011 (0)</text>\n",
       "</g>\n",
       "<!-- 11 -->\n",
       "<g id=\"node4\" class=\"node\">\n",
       "<title>11</title>\n",
       "<ellipse fill=\"none\" stroke=\"#000000\" cx=\"126.7147\" cy=\"-104\" rx=\"27\" ry=\"18\"/>\n",
       "<text text-anchor=\"middle\" x=\"126.7147\" y=\"-99.8\" font-family=\"Times,serif\" font-size=\"14.00\" fill=\"#000000\">11</text>\n",
       "</g>\n",
       "<!-- 10&#45;&gt;11 -->\n",
       "<g id=\"edge6\" class=\"edge\">\n",
       "<title>10&#45;&gt;11</title>\n",
       "<path fill=\"none\" stroke=\"#000000\" d=\"M74.7526,-173.8241C84.257,-161.0525 97.6732,-143.0245 108.4923,-128.4863\"/>\n",
       "<polygon fill=\"#000000\" stroke=\"#000000\" points=\"111.3508,-130.5077 114.5131,-120.3958 105.7352,-126.3286 111.3508,-130.5077\"/>\n",
       "<text text-anchor=\"middle\" x=\"119.1268\" y=\"-142.8\" font-family=\"Times,serif\" font-size=\"14.00\" fill=\"#000000\">000 (1)</text>\n",
       "</g>\n",
       "<!-- 11&#45;&gt;01 -->\n",
       "<g id=\"edge7\" class=\"edge\">\n",
       "<title>11&#45;&gt;01</title>\n",
       "<path fill=\"none\" stroke=\"#000000\" d=\"M115.9173,-87.4183C107.7053,-74.8071 96.2702,-57.246 86.9563,-42.9424\"/>\n",
       "<polygon fill=\"#000000\" stroke=\"#000000\" points=\"89.8687,-41.0009 81.4789,-34.5308 84.0027,-44.8206 89.8687,-41.0009\"/>\n",
       "<text text-anchor=\"middle\" x=\"123.1268\" y=\"-56.8\" font-family=\"Times,serif\" font-size=\"14.00\" fill=\"#000000\">101 (0)</text>\n",
       "</g>\n",
       "<!-- 11&#45;&gt;11 -->\n",
       "<g id=\"edge8\" class=\"edge\">\n",
       "<title>11&#45;&gt;11</title>\n",
       "<path fill=\"none\" stroke=\"#000000\" d=\"M151.2471,-111.752C162.2225,-112.4902 171.7147,-109.9063 171.7147,-104 171.7147,-100.0317 167.4297,-97.5632 161.289,-96.5944\"/>\n",
       "<polygon fill=\"#000000\" stroke=\"#000000\" points=\"161.3619,-93.0949 151.2471,-96.248 161.1205,-100.0908 161.3619,-93.0949\"/>\n",
       "<text text-anchor=\"middle\" x=\"191.8704\" y=\"-99.8\" font-family=\"Times,serif\" font-size=\"14.00\" fill=\"#000000\">110 (1)</text>\n",
       "</g>\n",
       "</g>\n",
       "</svg>\n"
      ],
      "text/plain": [
       "<graphviz.dot.Digraph at 0x11a30f9e8>"
      ]
     },
     "execution_count": 572,
     "metadata": {},
     "output_type": "execute_result"
    }
   ],
   "source": [
    "create_graph(2, [g1, g2, g3])"
   ]
  },
  {
   "cell_type": "code",
   "execution_count": 573,
   "metadata": {
    "collapsed": false
   },
   "outputs": [
    {
     "data": {
      "image/svg+xml": [
       "<?xml version=\"1.0\" encoding=\"UTF-8\" standalone=\"no\"?>\n",
       "<!DOCTYPE svg PUBLIC \"-//W3C//DTD SVG 1.1//EN\"\n",
       " \"http://www.w3.org/Graphics/SVG/1.1/DTD/svg11.dtd\">\n",
       "<!-- Generated by graphviz version 2.40.1 (20161225.0304)\n",
       " -->\n",
       "<!-- Title: %3 Pages: 1 -->\n",
       "<svg width=\"214pt\" height=\"302pt\"\n",
       " viewBox=\"0.00 0.00 213.84 302.00\" xmlns=\"http://www.w3.org/2000/svg\" xmlns:xlink=\"http://www.w3.org/1999/xlink\">\n",
       "<g id=\"graph0\" class=\"graph\" transform=\"scale(1 1) rotate(0) translate(4 298)\">\n",
       "<title>%3</title>\n",
       "<polygon fill=\"#ffffff\" stroke=\"transparent\" points=\"-4,4 -4,-298 209.8374,-298 209.8374,4 -4,4\"/>\n",
       "<!-- 00 -->\n",
       "<g id=\"node1\" class=\"node\">\n",
       "<title>00</title>\n",
       "<ellipse fill=\"none\" stroke=\"#000000\" cx=\"140.1578\" cy=\"-276\" rx=\"27\" ry=\"18\"/>\n",
       "<text text-anchor=\"middle\" x=\"140.1578\" y=\"-271.8\" font-family=\"Times,serif\" font-size=\"14.00\" fill=\"#000000\">0</text>\n",
       "</g>\n",
       "<!-- 00&#45;&gt;00 -->\n",
       "<g id=\"edge1\" class=\"edge\">\n",
       "<title>00&#45;&gt;00</title>\n",
       "<path fill=\"none\" stroke=\"#000000\" d=\"M164.6902,-283.752C175.6656,-284.4902 185.1578,-281.9063 185.1578,-276 185.1578,-272.0317 180.8728,-269.5632 174.7321,-268.5944\"/>\n",
       "<polygon fill=\"#000000\" stroke=\"#000000\" points=\"174.805,-265.0949 164.6902,-268.248 174.5636,-272.0908 174.805,-265.0949\"/>\n",
       "<text text-anchor=\"middle\" x=\"188.6578\" y=\"-271.8\" font-family=\"Times,serif\" font-size=\"14.00\" fill=\"#000000\">1</text>\n",
       "</g>\n",
       "<!-- 10 -->\n",
       "<g id=\"node3\" class=\"node\">\n",
       "<title>10</title>\n",
       "<ellipse fill=\"none\" stroke=\"#000000\" cx=\"49.1578\" cy=\"-190\" rx=\"27\" ry=\"18\"/>\n",
       "<text text-anchor=\"middle\" x=\"49.1578\" y=\"-185.8\" font-family=\"Times,serif\" font-size=\"14.00\" fill=\"#000000\">2</text>\n",
       "</g>\n",
       "<!-- 00&#45;&gt;10 -->\n",
       "<g id=\"edge2\" class=\"edge\">\n",
       "<title>00&#45;&gt;10</title>\n",
       "<path fill=\"none\" stroke=\"#000000\" d=\"M124.3068,-261.0199C109.9531,-247.4549 88.6269,-227.3005 72.3559,-211.9235\"/>\n",
       "<polygon fill=\"#000000\" stroke=\"#000000\" points=\"74.4991,-209.1332 64.8271,-204.8084 69.691,-214.2208 74.4991,-209.1332\"/>\n",
       "<text text-anchor=\"middle\" x=\"110.9976\" y=\"-228.8\" font-family=\"Times,serif\" font-size=\"14.00\" fill=\"#000000\">D^2</text>\n",
       "</g>\n",
       "<!-- 01 -->\n",
       "<g id=\"node2\" class=\"node\">\n",
       "<title>01</title>\n",
       "<ellipse fill=\"none\" stroke=\"#000000\" cx=\"48.1578\" cy=\"-18\" rx=\"27\" ry=\"18\"/>\n",
       "<text text-anchor=\"middle\" x=\"48.1578\" y=\"-13.8\" font-family=\"Times,serif\" font-size=\"14.00\" fill=\"#000000\">1</text>\n",
       "</g>\n",
       "<!-- 01&#45;&gt;00 -->\n",
       "<g id=\"edge3\" class=\"edge\">\n",
       "<title>01&#45;&gt;00</title>\n",
       "<path fill=\"none\" stroke=\"#000000\" d=\"M73.7155,-24.1193C102.7195,-32.5836 148.6524,-50.9548 169.1578,-86 199.6062,-138.0387 172.6261,-211.2705 154.1163,-249.8547\"/>\n",
       "<polygon fill=\"#000000\" stroke=\"#000000\" points=\"150.9456,-248.3705 149.6331,-258.8838 157.2152,-251.4837 150.9456,-248.3705\"/>\n",
       "<text text-anchor=\"middle\" x=\"193.9976\" y=\"-142.8\" font-family=\"Times,serif\" font-size=\"14.00\" fill=\"#000000\">D^2</text>\n",
       "</g>\n",
       "<!-- 01&#45;&gt;10 -->\n",
       "<g id=\"edge4\" class=\"edge\">\n",
       "<title>01&#45;&gt;10</title>\n",
       "<path fill=\"none\" stroke=\"#000000\" d=\"M42.9129,-35.7046C39.1653,-49.3169 34.4507,-68.6658 32.4781,-86 30.669,-101.8974 30.5584,-106.1156 32.4781,-122 34.1188,-135.5762 37.5386,-150.3523 40.8571,-162.6518\"/>\n",
       "<polygon fill=\"#000000\" stroke=\"#000000\" points=\"37.5,-163.6432 43.5794,-172.3203 44.238,-161.7459 37.5,-163.6432\"/>\n",
       "<text text-anchor=\"middle\" x=\"44.9976\" y=\"-99.8\" font-family=\"Times,serif\" font-size=\"14.00\" fill=\"#000000\">D^2</text>\n",
       "</g>\n",
       "<!-- 10&#45;&gt;01 -->\n",
       "<g id=\"edge5\" class=\"edge\">\n",
       "<title>10&#45;&gt;01</title>\n",
       "<path fill=\"none\" stroke=\"#000000\" d=\"M34.9031,-174.6545C23.9219,-161.7161 9.613,-142.1346 3.4781,-122 -1.1854,-106.6947 -1.1073,-101.3289 3.4781,-86 8.3132,-69.8361 18.3621,-53.9531 27.7074,-41.6074\"/>\n",
       "<polygon fill=\"#000000\" stroke=\"#000000\" points=\"30.5312,-43.6792 33.992,-33.6655 25.042,-39.3354 30.5312,-43.6792\"/>\n",
       "<text text-anchor=\"middle\" x=\"15.9976\" y=\"-99.8\" font-family=\"Times,serif\" font-size=\"14.00\" fill=\"#000000\">D^2</text>\n",
       "</g>\n",
       "<!-- 11 -->\n",
       "<g id=\"node4\" class=\"node\">\n",
       "<title>11</title>\n",
       "<ellipse fill=\"none\" stroke=\"#000000\" cx=\"92.1578\" cy=\"-104\" rx=\"27\" ry=\"18\"/>\n",
       "<text text-anchor=\"middle\" x=\"92.1578\" y=\"-99.8\" font-family=\"Times,serif\" font-size=\"14.00\" fill=\"#000000\">3</text>\n",
       "</g>\n",
       "<!-- 10&#45;&gt;11 -->\n",
       "<g id=\"edge6\" class=\"edge\">\n",
       "<title>10&#45;&gt;11</title>\n",
       "<path fill=\"none\" stroke=\"#000000\" d=\"M57.8595,-172.5966C63.9608,-160.3939 72.2243,-143.867 79.1112,-130.093\"/>\n",
       "<polygon fill=\"#000000\" stroke=\"#000000\" points=\"82.2741,-131.5936 83.6158,-121.084 76.0131,-128.463 82.2741,-131.5936\"/>\n",
       "<text text-anchor=\"middle\" x=\"76.6578\" y=\"-142.8\" font-family=\"Times,serif\" font-size=\"14.00\" fill=\"#000000\">1</text>\n",
       "</g>\n",
       "<!-- 11&#45;&gt;01 -->\n",
       "<g id=\"edge7\" class=\"edge\">\n",
       "<title>11&#45;&gt;01</title>\n",
       "<path fill=\"none\" stroke=\"#000000\" d=\"M83.2537,-86.5966C77.0104,-74.3939 68.5548,-57.867 61.5077,-44.093\"/>\n",
       "<polygon fill=\"#000000\" stroke=\"#000000\" points=\"64.5691,-42.3923 56.8984,-35.084 58.3374,-45.5807 64.5691,-42.3923\"/>\n",
       "<text text-anchor=\"middle\" x=\"84.9976\" y=\"-56.8\" font-family=\"Times,serif\" font-size=\"14.00\" fill=\"#000000\">D^2</text>\n",
       "</g>\n",
       "<!-- 11&#45;&gt;11 -->\n",
       "<g id=\"edge8\" class=\"edge\">\n",
       "<title>11&#45;&gt;11</title>\n",
       "<path fill=\"none\" stroke=\"#000000\" d=\"M116.6902,-111.752C127.6656,-112.4902 137.1578,-109.9063 137.1578,-104 137.1578,-100.0317 132.8728,-97.5632 126.7321,-96.5944\"/>\n",
       "<polygon fill=\"#000000\" stroke=\"#000000\" points=\"126.805,-93.0949 116.6902,-96.248 126.5636,-100.0908 126.805,-93.0949\"/>\n",
       "<text text-anchor=\"middle\" x=\"148.9976\" y=\"-99.8\" font-family=\"Times,serif\" font-size=\"14.00\" fill=\"#000000\">D^2</text>\n",
       "</g>\n",
       "</g>\n",
       "</svg>\n"
      ],
      "text/plain": [
       "<graphviz.dot.Digraph at 0x119a0b978>"
      ]
     },
     "execution_count": 573,
     "metadata": {},
     "output_type": "execute_result"
    }
   ],
   "source": [
    "create_graph(2, [g1, g2, g3], d_labels=True)"
   ]
  },
  {
   "cell_type": "markdown",
   "metadata": {},
   "source": [
    "Теперь решим систему:"
   ]
  },
  {
   "cell_type": "code",
   "execution_count": 574,
   "metadata": {
    "collapsed": false
   },
   "outputs": [
    {
     "name": "stdout",
     "output_type": "stream",
     "text": [
      "g0(D) = D^2g1(D, I)\n",
      "g1(D) = D^2g2(D, I) + D^2g3(D, I)\n",
      "g2(D) = D^2I + D^2Ig1(D, I)\n",
      "g3(D) = Ig2(D, I) + D^2Ig3(D, I)\n"
     ]
    }
   ],
   "source": [
    "sys = get_system(2, [g1, g2, g3], True, True)"
   ]
  },
  {
   "cell_type": "code",
   "execution_count": 575,
   "metadata": {
    "collapsed": true
   },
   "outputs": [],
   "source": [
    "# g1 = (I * D^4 * (1 + I - I*D^2)) / (1 - I*D^2 - I*D^4 - I^2*D^4 + I^2*D^6)\n",
    "# g0 = (I * D^6 * (1 + I - I*D^2)) / (1 - (I*D^2 + I*D^4 + I^2*D^4 - I^2*D^6))"
   ]
  },
  {
   "cell_type": "markdown",
   "metadata": {},
   "source": [
    "Производящая функция равна:\n",
    "\n",
    "$T(D, I) = (ID^6(1 + I - ID^2))\\ (1 + (ID^2 + ID^4 + I^2D^4 - I^2D^6) + (ID^2 + ID^4 + I^2D^4 - I^2D^6)^2 +\\ ... )$\n",
    "\n",
    "$T(D, I) =\\ ... \\ + D^{20} (-I^6) + 3 D^{18} I^6 + 3 D^{18} I^5 - 3 D^{16} I^6 - 4 D^{16} I^5 - 3 D^{16} I^4 + D^{14} I^6 - D^{14} I^5 + D^{14} I^3 + 2 D^{12} I^5 + D^{12} I^4 + 2 D^{10} I^4 + 2 D^{10} I^3 + D^{10} I^2 + D^8 I^3 + D^6 I^2 + D^6 I $\n",
    "\n",
    "$ F(D) = 3D^6 + 3D^8 + 16D^{10} + 14D^{12} + 4D^{14} - 40D^{16} + 33D^{18} - 6D^{20} +\\ ...\\ $\n",
    "\n",
    "Видим, что среди кодовых слов первого неправильного поддерева есть слово веса 6. Это действительно так: 0 -> 2 -> 1 -> 0"
   ]
  },
  {
   "cell_type": "code",
   "execution_count": 576,
   "metadata": {
    "collapsed": true
   },
   "outputs": [],
   "source": [
    "f = np.zeros(30)\n",
    "f[6] = 3\n",
    "f[8] = 3\n",
    "f[10] = 16\n",
    "f[12] = 14\n",
    "f[14] = 3\n",
    "f[16] = - 40\n",
    "f[18] = 33\n",
    "f[20] = -1"
   ]
  },
  {
   "cell_type": "markdown",
   "metadata": {},
   "source": [
    "Посчитаем энергетический выигрыш кодирования"
   ]
  },
  {
   "cell_type": "code",
   "execution_count": 577,
   "metadata": {
    "collapsed": true
   },
   "outputs": [],
   "source": [
    "# Считает Peb при заданном В и D\n",
    "def get_peb(B, D0):\n",
    "    ans = 0\n",
    "    for pow in range(len(f)):\n",
    "        ans += (1 / 3) * B * f[pow] * math.pow(D0, pow)\n",
    "    return ans"
   ]
  },
  {
   "cell_type": "code",
   "execution_count": 578,
   "metadata": {
    "collapsed": true
   },
   "outputs": [],
   "source": [
    "# Выдает B и D0 для дск\n",
    "def get_dsk_b_d0(E, N0, df):\n",
    "    p0 = math.exp(-E/N0)\n",
    "    B = math.sqrt(2 / (math.pi * df)) * (1 - p0) / (1 - 2*p0)\n",
    "    D0 = 2 * math.sqrt(p0 * (1 - p0))\n",
    "    return B, D0"
   ]
  },
  {
   "cell_type": "code",
   "execution_count": 603,
   "metadata": {
    "collapsed": false
   },
   "outputs": [],
   "source": [
    "# Выдает B и D0 для канала с гаусовским шумом\n",
    "def get_gaussian_b_d0(E, N0, df):\n",
    "    q_arg = math.sqrt(2 * df * E / N0)\n",
    "    Q = integrate.quad(lambda t: math.exp(-t**2 / 2), -100, q_arg)[0]\n",
    "    Q = 1 - Q / math.sqrt(2 * math.pi)\n",
    "    \n",
    "    B = Q * math.exp(df * E / N0)\n",
    "    D0 = 2 * math.sqrt(math.exp(-E/N0))\n",
    "    return B, D0"
   ]
  },
  {
   "cell_type": "code",
   "execution_count": 604,
   "metadata": {
    "collapsed": true
   },
   "outputs": [],
   "source": [
    "# верояность ошибки на бит без кодированя\n",
    "def get_p_non_coded(E, N0):\n",
    "    return np.exp(-E/N0)\n",
    "\n",
    "# вероятность ошиби при использовании сверточного кода в ДСК\n",
    "def get_p_coded_dsk(df, E, N0):\n",
    "    B, D0 = get_dsk_b_d0(E, N0, df)\n",
    "    return get_peb(B, D0)\n",
    "\n",
    "# вероятность ошиби при использовании сверточного кода в канале с АБГШ\n",
    "def get_p_gaussian(df, E, N0):\n",
    "    B, D0 = get_gaussian_b_d0(E, N0, df)\n",
    "    return get_peb(B, D0)"
   ]
  },
  {
   "cell_type": "code",
   "execution_count": 605,
   "metadata": {
    "collapsed": true
   },
   "outputs": [],
   "source": [
    "# Мы посчитали что у нашего кода df = 6\n",
    "df = 6"
   ]
  },
  {
   "cell_type": "code",
   "execution_count": 616,
   "metadata": {
    "collapsed": true
   },
   "outputs": [],
   "source": [
    "def compare_methods():\n",
    "    points = np.linspace(2, 5., 200)\n",
    "    c = 0.5\n",
    "    dsk_coded = []\n",
    "    for en0 in points:\n",
    "        dsk_coded.append(get_p_coded_dsk(df, c * en0, c))\n",
    "        \n",
    "    gaussian_coded = []\n",
    "    for en0 in points:\n",
    "        gaussian_coded.append(get_p_gaussian(df, c * en0, c))\n",
    "        \n",
    "    dsk_coded = np.array(dsk_coded)\n",
    "    gaussian_coded = np.array(gaussian_coded)\n",
    "        \n",
    "    plt.title('Вероятность ошибки на бит от отношения сигнал/шум')\n",
    "    plt.xlabel('Eb/N0')\n",
    "    plt.ylabel('Peb')\n",
    "    plt.plot(points, np.log(dsk_coded.clip(1e-6)), label='Сверточный код в ДСК')\n",
    "    plt.plot(points, np.log(gaussian_coded.clip(1e-6)), label='Сверточный код в АБГШ')\n",
    "    \n",
    "    plt.legend()\n",
    "    plt.show()"
   ]
  },
  {
   "cell_type": "code",
   "execution_count": 617,
   "metadata": {
    "collapsed": false
   },
   "outputs": [
    {
     "data": {
      "image/png": "[encoded data removed]",
      "text/plain": [
       "<matplotlib.figure.Figure at 0x11ebee860>"
      ]
     },
     "metadata": {},
     "output_type": "display_data"
    }
   ],
   "source": [
    "compare_methods()"
   ]
  },
  {
   "cell_type": "markdown",
   "metadata": {},
   "source": [
    "# Задание 7"
   ]
  },
  {
   "cell_type": "markdown",
   "metadata": {},
   "source": [
    "Коэффициенты были найдены в предыдущем задании поэтому просто построим графики для усеченного варианта полинома F."
   ]
  },
  {
   "cell_type": "code",
   "execution_count": 618,
   "metadata": {
    "collapsed": false
   },
   "outputs": [],
   "source": [
    "f[14] = 0\n",
    "f[16] = 0\n",
    "f[18] = 0\n",
    "f[20] = 0"
   ]
  },
  {
   "cell_type": "code",
   "execution_count": 619,
   "metadata": {
    "collapsed": false
   },
   "outputs": [
    {
     "data": {
      "image/png": "[encoded data removed]",
      "text/plain": [
       "<matplotlib.figure.Figure at 0x11e46b438>"
      ]
     },
     "metadata": {},
     "output_type": "display_data"
    }
   ],
   "source": [
    "compare_methods()"
   ]
  },
  {
   "cell_type": "markdown",
   "metadata": {},
   "source": [
    "Графики практически не различаются => Усечение дает хорошее приближение"
   ]
  }
 ],
 "metadata": {
  "kernelspec": {
   "display_name": "Python 3",
   "language": "python",
   "name": "python3"
  },
  "language_info": {
   "codemirror_mode": {
    "name": "ipython",
    "version": 3
   },
   "file_extension": ".py",
   "mimetype": "text/x-python",
   "name": "python",
   "nbconvert_exporter": "python",
   "pygments_lexer": "ipython3",
   "version": "3.6.3"
  }
 },
 "nbformat": 4,
 "nbformat_minor": 2
}
