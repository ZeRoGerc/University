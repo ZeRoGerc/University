{
 "cells": [
  {
   "cell_type": "code",
   "execution_count": 1,
   "metadata": {
    "collapsed": true
   },
   "outputs": [],
   "source": [
    "# g7 = D*I*g6 + D*I*g7\n",
    "# g7 = g6 * D*I / (1 - D*I)\n",
    "\n",
    "# g7 = g3 * I\n",
    "# g6 = g2 * I\n",
    "\n",
    "# g3 = D * g6 + g6 * D^2*I / (1 - D*I)\n",
    "# g3 = g6 * (D - D^2*I + D^2*I) / (1 - D*I)\n",
    "# g3 = g6 * D / (1 - D*I)\n",
    "# g3 = (g2 * I * D) / (1 - D*I)\n",
    "\n",
    "\n",
    "# g1 = D^2 * g2 + (g2 * I * D) / (1 - D*I)\n",
    "# g1 = g2 * (D^2 + (I*D/(1 - D*I)))\n",
    "# g1 = g2 * (D^2 - D^3*I + I*D) / (1 - D*I)\n",
    "\n",
    "# g4 = D^2 * I + g2 * (D^2*I + (I^2*D/(1 - D*I)))\n",
    "# g4 = D^2 * I + g2 * (D^2*I - D^3*I^2 + I^2*D)/(1 - D*I)\n",
    "\n",
    "# g5 = I * g2 + (g2 * I^2 * D^3) / (1 - D*I)\n",
    "# g5 = g2 * (I - D*I^2 + I^2 + D^3) / (1 - D*I)\n",
    "\n",
    "# g2 = D * (g4 + g5)\n",
    "# g2 = D^2 * I + g2 * ((D^2*I - D^3*I^2 + I + I^2 + D^3)/(1 - D*I))\n",
    "# g2 = (I*D^2 - I^2*D^3) / ((1 - I - I^2 - D + I^2*D) (1 + D + D^2))\n",
    "\n",
    "# g1 = ((I*D^2 - I^2*D^3) / ((1 - I - I^2 - D + I^2*D) (1 + D + D^2))) * (D^2 - D^3*I + I*D) / (1 - D*I)\n",
    "\n",
    "# g1 = -(I * D^3 (-I - D + I * D^2))/((1 - I - I^2 - D + I^2 * D) (1 + D + D^2))\n",
    "\n",
    "# g0 = -(I * D^5 (-I - D + I * D^2))/((1 - I - I^2 - D + I^2 * D) * (1 + D + D^2))"
   ]
  },
  {
   "cell_type": "code",
   "execution_count": null,
   "metadata": {
    "collapsed": true
   },
   "outputs": [],
   "source": []
  }
 ],
 "metadata": {
  "kernelspec": {
   "display_name": "Python 3",
   "language": "python",
   "name": "python3"
  },
  "language_info": {
   "codemirror_mode": {
    "name": "ipython",
    "version": 3
   },
   "file_extension": ".py",
   "mimetype": "text/x-python",
   "name": "python",
   "nbconvert_exporter": "python",
   "pygments_lexer": "ipython3",
   "version": "3.6.3"
  }
 },
 "nbformat": 4,
 "nbformat_minor": 2
}
