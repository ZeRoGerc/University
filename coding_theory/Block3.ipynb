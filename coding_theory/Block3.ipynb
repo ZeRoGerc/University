{
 "cells": [
  {
   "cell_type": "markdown",
   "metadata": {},
   "source": [
    "# Глава 3 (Сазанович Владислав М3339)"
   ]
  },
  {
   "cell_type": "code",
   "execution_count": 64,
   "metadata": {
    "collapsed": false
   },
   "outputs": [],
   "source": [
    "import numpy as np\n",
    "import math\n",
    "import matplotlib.pyplot as plt\n",
    "import scipy\n",
    "import scipy.stats\n",
    "import hashlib\n",
    "import time\n",
    "import copy\n",
    "\n",
    "from numpy.linalg import matrix_rank\n",
    "from tqdm import tqdm"
   ]
  },
  {
   "cell_type": "code",
   "execution_count": 37,
   "metadata": {
    "collapsed": true
   },
   "outputs": [],
   "source": [
    "n = 25\n",
    "k = 10\n",
    "d = 15"
   ]
  },
  {
   "cell_type": "code",
   "execution_count": 38,
   "metadata": {
    "collapsed": true
   },
   "outputs": [],
   "source": [
    "# Вспомогательны фунции: факториал и сочетания\n",
    "def fact(n):\n",
    "    cur = 1\n",
    "    for i in range(1, n + 1):\n",
    "        cur *= i\n",
    "    return cur\n",
    "\n",
    "def comb(n, k):\n",
    "    return fact(n) / (fact(k) * fact(n - k))"
   ]
  },
  {
   "cell_type": "markdown",
   "metadata": {},
   "source": [
    "# Границы"
   ]
  },
  {
   "cell_type": "code",
   "execution_count": 39,
   "metadata": {
    "collapsed": true
   },
   "outputs": [],
   "source": [
    "def satisfyHemming(n, k, d):\n",
    "    return 2**k <= 2**n / (np.sum([comb(n, i) for i in range(0, (d - 1) // 2 + 1)]))\n",
    "\n",
    "def satisfyVHilbert(n, k, d):\n",
    "    return 2**(n-k) > np.sum([comb(n - 1, i) for i in range(0, d - 1)])\n",
    "\n",
    "def satisfyGraismer(n, k, d):\n",
    "    return n >= np.sum([np.ceil(d / (2**i)) for i in range(0, k)])"
   ]
  },
  {
   "cell_type": "markdown",
   "metadata": {},
   "source": [
    "# Функции для поиска $k$ или $d$ удовлетворяющих границе"
   ]
  },
  {
   "cell_type": "code",
   "execution_count": 40,
   "metadata": {
    "collapsed": true
   },
   "outputs": [],
   "source": [
    "# given n and d, find min k : (n, k, d) satisfy border\n",
    "def findK(n, d, border, name=None, ret=True):\n",
    "    for k in range(0, n):\n",
    "        if not border(n, k, d):\n",
    "            if not (name is None):\n",
    "                print(\"{} n = {} d = {}: k = {}\".format(name, n, d, k - 1))\n",
    "            if ret:\n",
    "                return k - 1\n",
    "            else:\n",
    "                return\n",
    "    return 0"
   ]
  },
  {
   "cell_type": "code",
   "execution_count": 41,
   "metadata": {
    "collapsed": true
   },
   "outputs": [],
   "source": [
    "# given n and k, find min d : (n, k, d) satisfy border\n",
    "def findD(n, k, border, name=None, ret=True):\n",
    "    for d in range(1, n):\n",
    "        if not border(n, k, d):\n",
    "            if not (name is None):\n",
    "                print(\"{} n = {} k = {}: d = {}\".format(name, n, k, d - 1))\n",
    "            if ret:\n",
    "                return d - 1\n",
    "            else:\n",
    "                return\n",
    "    return 0"
   ]
  },
  {
   "cell_type": "markdown",
   "metadata": {},
   "source": [
    "# Задание 1"
   ]
  },
  {
   "cell_type": "markdown",
   "metadata": {},
   "source": [
    "### Коды Хемминга\n",
    "$n = 2^r - 1, k = 2^r - r - 1, d = 3$\n",
    "\n",
    "Граница Хемминга: \n",
    "\n",
    "$2^k <= \\frac{2^n}{\\sum_{i=0}^{t}C_n^i}$\n",
    "\n",
    "${\\sum_{i=0}^{t}C_n^i} <= 2^{r}$\n",
    "\n",
    "$C_n^0 + C_n^1 <= 2^{r}$\n",
    "\n",
    "$2^r = 2^r$\n",
    "\n",
    "Проверим:"
   ]
  },
  {
   "cell_type": "code",
   "execution_count": 42,
   "metadata": {
    "collapsed": false
   },
   "outputs": [
    {
     "name": "stdout",
     "output_type": "stream",
     "text": [
      "True\n",
      "True\n",
      "True\n",
      "True\n",
      "True\n",
      "True\n",
      "True\n",
      "True\n",
      "True\n"
     ]
    }
   ],
   "source": [
    "def satisfyHemmingWithEq(n, k, d):\n",
    "    t = (d - 1) // 2\n",
    "    return 2**k == 2**n / (np.sum([comb(n, i) for i in range(0, t + 1)]))\n",
    "\n",
    "for r in range(1, 10):\n",
    "    print(satisfyHemmingWithEq(2**r - 1, 2**r - r - 1, 3))"
   ]
  },
  {
   "cell_type": "markdown",
   "metadata": {},
   "source": [
    "### Код Голея\n",
    "$n = 23, k = 12, d = 7$\n",
    "\n",
    "Достаточно просто проверить:"
   ]
  },
  {
   "cell_type": "code",
   "execution_count": 43,
   "metadata": {
    "collapsed": false
   },
   "outputs": [
    {
     "data": {
      "text/plain": [
       "True"
      ]
     },
     "execution_count": 43,
     "metadata": {},
     "output_type": "execute_result"
    }
   ],
   "source": [
    "satisfyHemmingWithEq(23, 12, 7)"
   ]
  },
  {
   "cell_type": "markdown",
   "metadata": {},
   "source": [
    "# Задание 2"
   ]
  },
  {
   "cell_type": "markdown",
   "metadata": {},
   "source": [
    "### Коды к дуальным кодам Хемминга\n",
    "$n = 2^r - 1, k = r, d = 2^{r - 1}$\n",
    "\n",
    "$\\delta = \\frac{d}{n} = \\frac{2^{r-1}}{2^r - 1} \\rightarrow_{n \\rightarrow \\infty} 1/2$"
   ]
  },
  {
   "cell_type": "markdown",
   "metadata": {},
   "source": [
    "#### Граница Хемминга\n",
    "\n",
    "$R \\le 1 - h(\\frac{\\delta}{2}) ,\\, h(x) = x\\ log_2(x) - (1-x)\\ log_2(1-x)$\n",
    "\n",
    "$R \\le 1 - h(\\frac{1}{4}) = \\frac{1}{4} * (-2) - \\frac{3}{4} * (log_2(3) - 2) = 1 + \\frac{log_2(3)}{4}$\n",
    "\n",
    "$R \\le 1.4$\n",
    "\n",
    "$\\frac{r}{2^r - 1} \\le 1.4$\n",
    "\n",
    "При больших $r$ код не лежит на границе Хемминга\n",
    "\n",
    "#### Граница Варшамова-Гилберта\n",
    "\n",
    "$R_{VG} = 1 - h(\\delta) = 1 - h(\\frac{1}{2}) = 1 - (\\frac{1}{2} + \\frac{1}{2}) = 0$\n",
    "\n",
    "При больших r:\n",
    "\n",
    "$R = \\frac{r}{2^r - 1} \\rightarrow 0$ => При больших $r$ код лежит на границе Варшамова-Гилберта\n",
    "\n",
    "\n",
    "\n",
    "#### Граница Плоткина\n",
    "$k \\le n - 2d$\n",
    "\n",
    "$d \\le \\frac{n - k}{2}$\n",
    "\n",
    "$2^{r - 1} \\le \\frac{2^r-r-1}{2}$\n",
    "\n",
    "При больших  $r$ коды дуальные к кодам Хемминга будут лежать на границе Плоткина."
   ]
  },
  {
   "cell_type": "markdown",
   "metadata": {},
   "source": [
    "# Заданиe 3"
   ]
  },
  {
   "cell_type": "code",
   "execution_count": 44,
   "metadata": {
    "collapsed": false
   },
   "outputs": [
    {
     "name": "stdout",
     "output_type": "stream",
     "text": [
      "Граница Хемминга n = 25 d = 15: k = 5\n"
     ]
    }
   ],
   "source": [
    "findK(n, d, satisfyHemming, \"Граница Хемминга\", ret=False)"
   ]
  },
  {
   "cell_type": "code",
   "execution_count": 45,
   "metadata": {
    "collapsed": false
   },
   "outputs": [
    {
     "name": "stdout",
     "output_type": "stream",
     "text": [
      "Граница Варшамова-Гилберта n = 25 d = 15: k = 1\n"
     ]
    }
   ],
   "source": [
    "findK(n, d, satisfyVHilbert, \"Граница Варшамова-Гилберта\", ret=False)"
   ]
  },
  {
   "cell_type": "code",
   "execution_count": 46,
   "metadata": {
    "collapsed": false
   },
   "outputs": [
    {
     "name": "stdout",
     "output_type": "stream",
     "text": [
      "Граница Грайсмера n = 25 d = 15: k = 2\n"
     ]
    }
   ],
   "source": [
    "findK(n, d, satisfyGraismer, \"Граница Грайсмера\", ret=False)"
   ]
  },
  {
   "cell_type": "markdown",
   "metadata": {},
   "source": [
    "Для $n = 25, d = 15$ возможно построить коды с $1 < k <= 2$."
   ]
  },
  {
   "cell_type": "markdown",
   "metadata": {},
   "source": [
    "# Задание 4"
   ]
  },
  {
   "cell_type": "code",
   "execution_count": 47,
   "metadata": {
    "collapsed": false
   },
   "outputs": [
    {
     "name": "stdout",
     "output_type": "stream",
     "text": [
      "Граница Хемминга n = 25 k = 10: d = 10\n"
     ]
    }
   ],
   "source": [
    "findD(n, k, satisfyHemming, \"Граница Хемминга\", ret=False)"
   ]
  },
  {
   "cell_type": "code",
   "execution_count": 48,
   "metadata": {
    "collapsed": false
   },
   "outputs": [
    {
     "name": "stdout",
     "output_type": "stream",
     "text": [
      "Граница Варшамова-Гилберта n = 25 k = 10: d = 6\n"
     ]
    }
   ],
   "source": [
    "findD(n, k, satisfyVHilbert, \"Граница Варшамова-Гилберта\", ret=False)"
   ]
  },
  {
   "cell_type": "code",
   "execution_count": 49,
   "metadata": {
    "collapsed": false
   },
   "outputs": [
    {
     "name": "stdout",
     "output_type": "stream",
     "text": [
      "Граница Грайсмера n = 25 k = 10: d = 9\n"
     ]
    }
   ],
   "source": [
    "findD(n, k, satisfyGraismer, \"Граница Грайсмера\", ret=False)"
   ]
  },
  {
   "cell_type": "markdown",
   "metadata": {},
   "source": [
    "Для $n = 25, k = 10$ возможно построить коды с $6 < d <= 9$."
   ]
  },
  {
   "cell_type": "markdown",
   "metadata": {
    "collapsed": true
   },
   "source": [
    "# Задание 5"
   ]
  },
  {
   "cell_type": "markdown",
   "metadata": {},
   "source": [
    "Данные из таблицы для $\\frac{k}{n} = \\frac{1}{2}$"
   ]
  },
  {
   "cell_type": "code",
   "execution_count": 50,
   "metadata": {
    "collapsed": true
   },
   "outputs": [],
   "source": [
    "code_n = np.array([8, 10, 12, 14, 16, 18, 20, 22, 24, 26, 28, 30, 32, 34, 36, 38, 40])\n",
    "code_d = np.array([4, 4 , 4 , 4 , 5 , 6 , 6 , 7 , 8 , 7 , 8 , 8 , 8 , 8 , 8 , 9 , 10])"
   ]
  },
  {
   "cell_type": "code",
   "execution_count": 51,
   "metadata": {
    "collapsed": false
   },
   "outputs": [
    {
     "data": {
      "image/png": "[encoded data removed]",
      "text/plain": [
       "<matplotlib.figure.Figure at 0x10aa8a710>"
      ]
     },
     "metadata": {},
     "output_type": "display_data"
    }
   ],
   "source": [
    "def getHemmingD(n):\n",
    "    res_d = []\n",
    "    for i in range(0, len(n)):\n",
    "        res_d.append(findD(n[i], n[i] // 2, satisfyHemming))\n",
    "    return np.array(res_d)\n",
    "\n",
    "def getVHilbertD(n):\n",
    "    res_d = []\n",
    "    for i in range(0, len(n)):\n",
    "        res_d.append(findD(n[i], n[i] // 2, satisfyVHilbert))\n",
    "    return np.array(res_d)\n",
    "\n",
    "plt.plot(code_n, code_d, 'r')\n",
    "plt.plot(code_n, getHemmingD(code_n), 'b')\n",
    "plt.plot(code_n, getVHilbertD(code_n), 'g')\n",
    "\n",
    "plt.xlabel('n')\n",
    "plt.ylabel('d')\n",
    "plt.title('Red:Best codes, Blue: Hemming, Green: VH')\n",
    "\n",
    "plt.show()"
   ]
  },
  {
   "cell_type": "markdown",
   "metadata": {},
   "source": [
    "# Задание 7"
   ]
  },
  {
   "cell_type": "code",
   "execution_count": 52,
   "metadata": {
    "collapsed": false
   },
   "outputs": [
    {
     "name": "stdout",
     "output_type": "stream",
     "text": [
      "[ 3  4  5  5  6  7  8  9 10 11 12 12 12 13 14 14 15]\n",
      "[ 3  4  5  6  7  8  9 10 11 12 13 14 15 16 17 18 19]\n"
     ]
    },
    {
     "data": {
      "image/png": "[encoded data removed]",
      "text/plain": [
       "<matplotlib.figure.Figure at 0x10ac1c470>"
      ]
     },
     "metadata": {},
     "output_type": "display_data"
    }
   ],
   "source": [
    "best_n = np.array([14, 15, 16, 17, 18, 19, 20, 21, 22, 23, 24, 25, 26, 27, 28, 29, 30])\n",
    "best_k = np.array([3 , 4 , 5 , 5 , 6 , 7 , 8 , 9 , 10, 11, 12, 12, 12, 13, 14, 14, 15])\n",
    "\n",
    "def getGraismerK(n):\n",
    "    res_k = []\n",
    "    for i in range(0, len(n)):\n",
    "        res_k.append(findK(n[i], 8, satisfyGraismer))\n",
    "    return np.array(res_k)\n",
    "\n",
    "print(best_k)\n",
    "print(getGraismerK(best_n))\n",
    "\n",
    "plt.plot(best_n, best_k, 'r')\n",
    "plt.plot(best_n, getGraismerK(best_n), 'b')\n",
    "\n",
    "plt.xlabel('n')\n",
    "plt.ylabel('k')\n",
    "plt.title('Red: Best Codes, Blue: Graismer')\n",
    "\n",
    "plt.show()"
   ]
  },
  {
   "cell_type": "markdown",
   "metadata": {
    "collapsed": true
   },
   "source": [
    "# Задание 8"
   ]
  },
  {
   "cell_type": "markdown",
   "metadata": {},
   "source": [
    "Напишем простой алгоритм по построению таких кодом. Будем постепенно пытаться добавлить новый случайный вектор и проверять ЛНЗ ли он со всеми возможными комбинациями из $d - 1$ вектора."
   ]
  },
  {
   "cell_type": "code",
   "execution_count": 53,
   "metadata": {
    "collapsed": true
   },
   "outputs": [],
   "source": [
    "# Helpers for lists\n",
    "def first_or_default(arr, default):\n",
    "    if len(arr) == 0:\n",
    "        return default\n",
    "    return arr[0]\n",
    "\n",
    "def first_not_zero(row):\n",
    "    return first_or_default(np.where(row > 0)[0], len(row))\n",
    "\n",
    "def last_or_default(arr, default):\n",
    "    if len(arr) == 0:\n",
    "        return default\n",
    "    return arr[-1]\n",
    "\n",
    "def last_not_zero(row):\n",
    "    return last_or_default(np.where(row > 0)[0], len(row))"
   ]
  },
  {
   "cell_type": "code",
   "execution_count": 54,
   "metadata": {
    "collapsed": true
   },
   "outputs": [],
   "source": [
    "# Hashing of x\n",
    "def get_hash(x): # x is np array\n",
    "    return hashlib.sha1(x).hexdigest()"
   ]
  },
  {
   "cell_type": "markdown",
   "metadata": {},
   "source": [
    "Напишем функцию которая будет смотреть ЛНЗ ли набор векторов. (Преобразуем Гауссом -> Считаем ранг)"
   ]
  },
  {
   "cell_type": "code",
   "execution_count": 55,
   "metadata": {
    "collapsed": true
   },
   "outputs": [],
   "source": [
    "# Sort by first non zero\n",
    "def sort(H):\n",
    "    return sorted(H, key=lambda row: first_not_zero(row))"
   ]
  },
  {
   "cell_type": "code",
   "execution_count": 56,
   "metadata": {
    "collapsed": false
   },
   "outputs": [],
   "source": [
    "# Applies Gaussian transformation and calculates rank for binary matrix\n",
    "def rank(H):\n",
    "    for i in range(len(H)):\n",
    "        H = sort(H)\n",
    "        col_i = first_not_zero(H[i])\n",
    "        if col_i == -1:\n",
    "            break\n",
    "        \n",
    "        for j in range(i + 1, len(H)):\n",
    "            col_j = first_not_zero(H[j])\n",
    "            if col_j == -1:\n",
    "                break\n",
    "            if col_i == col_j:\n",
    "                H[j] = (H[j] - H[i] + 2) % 2\n",
    "                \n",
    "    for i in range(len(H) - 1, 0, -1):\n",
    "        col_i = first_not_zero(H[i])\n",
    "        if col_i == -1:\n",
    "            continue\n",
    "            \n",
    "        for j in range(i + 1, len(H)):\n",
    "            col_j = first_not_zero(H[j])\n",
    "            if col_j == -1:\n",
    "                continue\n",
    "            if col_i == col_j:\n",
    "                H[j] = (H[j] - H[i] + 2) % 2\n",
    "            \n",
    "    rank = 0\n",
    "    for i in range(len(H)):\n",
    "        if first_or_default(np.where(H[i] > 0)[0], None) is not None:\n",
    "            rank += 1\n",
    "    return rank"
   ]
  },
  {
   "cell_type": "code",
   "execution_count": 57,
   "metadata": {
    "collapsed": true
   },
   "outputs": [],
   "source": [
    "def is_lineary_independent(H):\n",
    "    return rank(np.array(H)) == len(H)"
   ]
  },
  {
   "cell_type": "code",
   "execution_count": 58,
   "metadata": {
    "collapsed": false
   },
   "outputs": [
    {
     "name": "stdout",
     "output_type": "stream",
     "text": [
      "True\n",
      "False\n"
     ]
    }
   ],
   "source": [
    "# Check\n",
    "HH = np.array([\n",
    "    [0, 1, 0, 0, 0, 0],\n",
    "    [1, 0, 1, 0, 0, 0]\n",
    "])\n",
    "\n",
    "print(is_lineary_independent([*HH, [0, 1, 1, 0, 0, 0]]))\n",
    "print(is_lineary_independent([*HH, [1, 1, 1, 0, 0, 0]]))"
   ]
  },
  {
   "cell_type": "markdown",
   "metadata": {},
   "source": [
    "Рекурсивно генерируем все возможные упорядоченные комбинации из $d - 1$."
   ]
  },
  {
   "cell_type": "code",
   "execution_count": 59,
   "metadata": {
    "collapsed": true
   },
   "outputs": [],
   "source": [
    "def can_add_to_H(H, h_cand, d):\n",
    "    for i in range(len(H)):\n",
    "        if not recursive_check(H, h_cand, d, [], i):\n",
    "            return False\n",
    "    return True\n",
    "\n",
    "def recursive_check(H, h_cand, lim, CH, c_id):\n",
    "    if len(CH) >= lim - 1:\n",
    "        return True\n",
    "    \n",
    "    CH.append(H[c_id])\n",
    "    \n",
    "    nld = is_lineary_independent([*CH, h_cand])\n",
    "    \n",
    "    if not nld: # already not linear independent\n",
    "        return False\n",
    "    \n",
    "    for i in range(c_id + 1, len(H)):\n",
    "        nld = recursive_check(H, h_cand, lim, CH, i)\n",
    "        if not nld:\n",
    "            return False\n",
    "        \n",
    "    CH.pop()\n",
    "    return True"
   ]
  },
  {
   "cell_type": "code",
   "execution_count": 60,
   "metadata": {
    "collapsed": false
   },
   "outputs": [
    {
     "name": "stdout",
     "output_type": "stream",
     "text": [
      "True\n",
      "True\n",
      "False\n",
      "True\n"
     ]
    }
   ],
   "source": [
    "# Check\n",
    "H1 = np.array([\n",
    "    [0, 1, 0, 0, 0, 0],\n",
    "    [1, 0, 1, 0, 0, 0],\n",
    "    [1, 0, 0, 1, 0, 0],\n",
    "    [1, 0, 0, 0, 1, 0]\n",
    "])\n",
    "\n",
    "print(can_add_to_H(H1, [1, 1, 1, 0, 0, 0], 2))\n",
    "print(can_add_to_H(H1, [0, 1, 1, 0, 0, 0], 2))\n",
    "\n",
    "\n",
    "print(can_add_to_H(H1, [1, 1, 1, 0, 0, 0], 3))\n",
    "print(can_add_to_H(H1, [0, 1, 1, 0, 0, 0], 3))"
   ]
  },
  {
   "cell_type": "code",
   "execution_count": 61,
   "metadata": {
    "collapsed": true
   },
   "outputs": [],
   "source": [
    "# fast generator of first d vectors\n",
    "def generate_first_d(n, k, d):\n",
    "    r = n - k\n",
    "    H = []\n",
    "    lc_counting  = []\n",
    "    lc_unique = set()\n",
    "    \n",
    "    zero_v = np.zeros(r).astype(int)\n",
    "    lc_counting.append(zero_v)\n",
    "    lc_unique.add(get_hash(zero_v))\n",
    "    \n",
    "    for i in range(d):\n",
    "        it = 0\n",
    "        while (True):\n",
    "            it += 1\n",
    "            if it > 10:\n",
    "                break\n",
    "            \n",
    "            cur = np.random.randint(0, 2, size=r, dtype=int)\n",
    "            cur_h = get_hash(cur)\n",
    "            if cur_h in lc_unique:\n",
    "                continue\n",
    "                \n",
    "            H.append(cur)\n",
    "            lc_unique.add(cur_h)\n",
    "            lc_counting.append(cur)\n",
    "            \n",
    "            for v in lc_counting:\n",
    "                temp = (cur + v) % 2\n",
    "                temp_h = get_hash(temp)\n",
    "                \n",
    "                if temp_h not in lc_unique:\n",
    "                    lc_unique.add(temp_h)\n",
    "                    lc_counting.append(temp)\n",
    "            break\n",
    "    return H"
   ]
  },
  {
   "cell_type": "markdown",
   "metadata": {},
   "source": [
    "Сам алгоритм: \n",
    "    - Генерируем рандомный вектор\n",
    "    - Рекурисивно генерируем комбинации и проверяем ЛНЗ"
   ]
  },
  {
   "cell_type": "code",
   "execution_count": 62,
   "metadata": {
    "collapsed": true
   },
   "outputs": [],
   "source": [
    "def get_linear_code_vg(n, k, d):\n",
    "    r = n - k\n",
    "    \n",
    "    H = generate_first_d(n, k, d)\n",
    "            \n",
    "    it = 10e3\n",
    "    while len(H) < n:\n",
    "        it -= 1\n",
    "        if it == 0:\n",
    "            return None\n",
    "        c = np.random.randint(0, 2, size=r, dtype=int)\n",
    "        \n",
    "        if can_add_to_H(H, c, d / 4):\n",
    "            if can_add_to_H(H, c, d / 2):\n",
    "                if can_add_to_H(H, c, d):\n",
    "                    H.append(c)\n",
    "                else:\n",
    "                    continue\n",
    "            else:\n",
    "                continue\n",
    "        else:\n",
    "            continue\n",
    "            \n",
    "    return np.asarray(H).reshape(r, n)"
   ]
  },
  {
   "cell_type": "code",
   "execution_count": 63,
   "metadata": {
    "collapsed": false
   },
   "outputs": [
    {
     "data": {
      "text/plain": [
       "array([[0, 1, 1, 1, 1, 1, 0, 0, 0, 1, 1, 0, 0, 0, 0, 0, 0, 0, 1, 0],\n",
       "       [0, 0, 0, 1, 1, 0, 1, 0, 0, 0, 0, 1, 0, 1, 1, 0, 1, 1, 1, 1],\n",
       "       [0, 0, 0, 0, 1, 1, 1, 1, 0, 1, 0, 0, 0, 0, 0, 0, 0, 0, 1, 1],\n",
       "       [0, 0, 0, 1, 1, 1, 1, 1, 1, 1, 1, 1, 0, 1, 0, 1, 1, 0, 1, 1],\n",
       "       [0, 0, 0, 1, 0, 1, 0, 0, 1, 0, 1, 0, 1, 0, 0, 0, 1, 0, 0, 0],\n",
       "       [1, 0, 0, 1, 1, 1, 0, 0, 1, 0, 0, 1, 1, 1, 0, 0, 0, 1, 0, 1],\n",
       "       [0, 0, 0, 0, 0, 0, 1, 0, 1, 0, 1, 0, 1, 1, 1, 1, 1, 1, 1, 0],\n",
       "       [1, 1, 1, 0, 0, 0, 0, 1, 1, 0, 0, 0, 1, 0, 0, 0, 1, 0, 1, 1],\n",
       "       [0, 0, 1, 0, 0, 1, 0, 0, 1, 1, 0, 0, 0, 1, 1, 0, 1, 1, 0, 1],\n",
       "       [1, 0, 1, 1, 0, 0, 1, 1, 0, 1, 0, 0, 1, 0, 0, 0, 1, 1, 0, 1]])"
      ]
     },
     "execution_count": 63,
     "metadata": {},
     "output_type": "execute_result"
    }
   ],
   "source": [
    "get_linear_code_vg(20, 10, 4)"
   ]
  },
  {
   "cell_type": "code",
   "execution_count": 29,
   "metadata": {
    "collapsed": true
   },
   "outputs": [],
   "source": [
    "def test_algo(R):\n",
    "    algo_time = []\n",
    "    ns = np.arange(15, 25)\n",
    "    ks = np.floor(ns * R).astype(int)\n",
    "\n",
    "    for (n, k) in tqdm(zip(ns, ks)):\n",
    "        d = findD(n, k, satisfyVHilbert, name=None, ret=True)\n",
    "        start = time.time()\n",
    "        code = get_linear_code_vg(n, k, d)\n",
    "        end = time.time()\n",
    "        algo_time.append(end - start)\n",
    "    \n",
    "    plt.plot(ns, algo_time)\n",
    "    plt.ylabel('time (seconds)')\n",
    "    plt.xlabel('n')\n",
    "    plt.title('Working time of the algorithm with R={}'.format(R))\n",
    "    plt.show()"
   ]
  },
  {
   "cell_type": "code",
   "execution_count": 31,
   "metadata": {
    "collapsed": false
   },
   "outputs": [
    {
     "name": "stderr",
     "output_type": "stream",
     "text": [
      "\n",
      "0it [00:00, ?it/s]\u001b[A\n",
      "10it [00:57,  8.27s/it]\n"
     ]
    },
    {
     "data": {
      "image/png": "[encoded data removed]",
      "text/plain": [
       "<matplotlib.figure.Figure at 0x10a6377f0>"
      ]
     },
     "metadata": {},
     "output_type": "display_data"
    }
   ],
   "source": [
    "test_algo(0.8)"
   ]
  },
  {
   "cell_type": "markdown",
   "metadata": {},
   "source": [
    "Алгоритм работает для кодов небольшой длины $(10 - 30)$ за несколько секунд."
   ]
  },
  {
   "cell_type": "markdown",
   "metadata": {},
   "source": [
    "# Задание 9"
   ]
  },
  {
   "cell_type": "markdown",
   "metadata": {},
   "source": [
    "Вдоль диагоналей таблиц числа всегда убывают. Это можно обьяснить тем что скорость кода растет. Например: \n",
    "    \n",
    "$k=5, n=9,\\, R = 0.55$\n",
    "\n",
    "$k=6, n=10,\\, R = 0.6$\n",
    "\n",
    "$k=7, n=11,\\, R = 0.63$\n",
    "\n",
    "Можно заметить что во второй таблице, числа на диагоналях почти всегда одинаковы, т.к. скорости кодов растут медленней."
   ]
  },
  {
   "cell_type": "code",
   "execution_count": 33,
   "metadata": {
    "collapsed": true
   },
   "outputs": [],
   "source": [
    "def draw_R(n_start, k_start, steps):\n",
    "    n = np.arange(n_start, n_start + steps)\n",
    "    k = np.arange(k_start, k_start + steps)\n",
    "    plt.plot(n, k / n)\n",
    "    plt.xlabel('n')\n",
    "    plt.ylabel('R')\n",
    "    plt.title('Зависимость скорости кода от n на диагоналях')\n",
    "    plt.show()"
   ]
  },
  {
   "cell_type": "code",
   "execution_count": 35,
   "metadata": {
    "collapsed": false
   },
   "outputs": [
    {
     "data": {
      "image/png": "[encoded data removed]",
      "text/plain": [
       "<matplotlib.figure.Figure at 0x10a74a780>"
      ]
     },
     "metadata": {},
     "output_type": "display_data"
    }
   ],
   "source": [
    "draw_R(9, 5, 100)"
   ]
  },
  {
   "cell_type": "code",
   "execution_count": null,
   "metadata": {
    "collapsed": true
   },
   "outputs": [],
   "source": []
  }
 ],
 "metadata": {
  "kernelspec": {
   "display_name": "Python 3",
   "language": "python",
   "name": "python3"
  },
  "language_info": {
   "codemirror_mode": {
    "name": "ipython",
    "version": 3
   },
   "file_extension": ".py",
   "mimetype": "text/x-python",
   "name": "python",
   "nbconvert_exporter": "python",
   "pygments_lexer": "ipython3",
   "version": "3.6.3"
  }
 },
 "nbformat": 4,
 "nbformat_minor": 2
}
