{
 "cells": [
  {
   "cell_type": "markdown",
   "metadata": {},
   "source": [
    "# Глава 2"
   ]
  },
  {
   "cell_type": "code",
   "execution_count": 446,
   "metadata": {
    "collapsed": false
   },
   "outputs": [],
   "source": [
    "import numpy as np\n",
    "import math\n",
    "import matplotlib.pyplot as plt\n",
    "import scipy\n",
    "import scipy.stats\n",
    "import time\n",
    "\n",
    "from tqdm import tqdm\n",
    "\n",
    "from typing import List, Set"
   ]
  },
  {
   "cell_type": "code",
   "execution_count": 447,
   "metadata": {
    "collapsed": false
   },
   "outputs": [],
   "source": [
    "# generate all sequences of length l\n",
    "def generate(l):\n",
    "    res = []\n",
    "    \n",
    "    for i in range(1, 2**l):\n",
    "        b = bin(i)[2:]\n",
    "        b = '0' * (l - len(b)) + b\n",
    "        b = np.array(list(map(lambda x: int(x), b)))\n",
    "        res.append(b)\n",
    "        \n",
    "    return np.array(res)"
   ]
  },
  {
   "cell_type": "markdown",
   "metadata": {},
   "source": [
    "## Задание 14"
   ]
  },
  {
   "cell_type": "markdown",
   "metadata": {},
   "source": [
    "Будем пользоватся **Свойством 2.2**: $\\rho = max_{\\rho} \\rho(s)$"
   ]
  },
  {
   "cell_type": "code",
   "execution_count": 365,
   "metadata": {
    "collapsed": true
   },
   "outputs": [],
   "source": [
    "def findRadius(H, title):\n",
    "    r = 0\n",
    "    for e in generate(H.shape[1]):\n",
    "        r = max(r, np.sum(np.dot(e, H.T) % 2))\n",
    "    \n",
    "    print(\"{}: radius = {}\".format(title, r))"
   ]
  },
  {
   "cell_type": "code",
   "execution_count": 366,
   "metadata": {
    "collapsed": false
   },
   "outputs": [],
   "source": [
    "H1 = np.array([\n",
    "    [1, 1, 0, 0, 0, 0],\n",
    "    [1, 0, 1, 0, 0, 0],\n",
    "    [1, 0, 0, 1, 0, 0],\n",
    "    [1, 0, 0, 0, 1, 0],\n",
    "    [1, 0, 0, 0, 0, 1]\n",
    "])\n",
    "H2 = np.array([\n",
    "    [1, 1, 1, 0, 0, 0],\n",
    "    [1, 1, 0, 1, 0, 0],\n",
    "    [0, 1, 0, 0, 1, 0],\n",
    "    [1, 1, 1, 1, 1, 1]\n",
    "])\n",
    "H3 = np.array([\n",
    "    [0, 1, 1, 1, 0, 0], \n",
    "    [1, 0, 1, 0, 1, 0], \n",
    "    [1, 1, 0, 0, 0, 1]\n",
    "])\n",
    "H4 = np.array([\n",
    "    [1, 0, 1, 0, 1, 0],\n",
    "    [0, 1, 0, 1, 0, 1]\n",
    "])\n",
    "H5 = np.array([\n",
    "    [1, 1, 1, 1, 1, 1]\n",
    "])"
   ]
  },
  {
   "cell_type": "code",
   "execution_count": 367,
   "metadata": {
    "collapsed": false
   },
   "outputs": [
    {
     "name": "stdout",
     "output_type": "stream",
     "text": [
      "n = 6, k = 1, d = 6: radius = 5\n"
     ]
    }
   ],
   "source": [
    "findRadius(H1, \"n = 6, k = 1, d = 6\")"
   ]
  },
  {
   "cell_type": "code",
   "execution_count": 368,
   "metadata": {
    "collapsed": false
   },
   "outputs": [
    {
     "name": "stdout",
     "output_type": "stream",
     "text": [
      "n = 6, k = 2, d = 4: radius = 4\n"
     ]
    }
   ],
   "source": [
    "findRadius(H2, \"n = 6, k = 2, d = 4\")"
   ]
  },
  {
   "cell_type": "code",
   "execution_count": 369,
   "metadata": {
    "collapsed": false
   },
   "outputs": [
    {
     "name": "stdout",
     "output_type": "stream",
     "text": [
      "n = 6, k = 3, d = 3: radius = 3\n"
     ]
    }
   ],
   "source": [
    "findRadius(H3, \"n = 6, k = 3, d = 3\")"
   ]
  },
  {
   "cell_type": "code",
   "execution_count": 370,
   "metadata": {
    "collapsed": false
   },
   "outputs": [
    {
     "name": "stdout",
     "output_type": "stream",
     "text": [
      "n = 6, k = 4, d = 2: radius = 2\n"
     ]
    }
   ],
   "source": [
    "findRadius(H4, \"n = 6, k = 4, d = 2\")"
   ]
  },
  {
   "cell_type": "code",
   "execution_count": 371,
   "metadata": {
    "collapsed": false
   },
   "outputs": [
    {
     "name": "stdout",
     "output_type": "stream",
     "text": [
      "n = 6, k = 5, d = 2: radius = 1\n"
     ]
    }
   ],
   "source": [
    "findRadius(H5, \"n = 6, k = 5, d = 2\")"
   ]
  },
  {
   "cell_type": "markdown",
   "metadata": {},
   "source": [
    "Эти коды нельзя улучшить с точки зрения радиуса покрытия так как: $\\rho \\le n - k$. Для последнего кода (n = 6, k = 5, d = 2): $\\rho = 0$ и его тоже нельзя улучшить."
   ]
  },
  {
   "cell_type": "markdown",
   "metadata": {},
   "source": [
    "# Задание 15"
   ]
  },
  {
   "cell_type": "code",
   "execution_count": 372,
   "metadata": {
    "collapsed": true
   },
   "outputs": [],
   "source": [
    "BitWord = List[int]\n",
    "\n",
    "# computes difference of two arrays of bit-word\n",
    "def diff(X: List[BitWord], Y: List[BitWord]) -> List[BitWord]:\n",
    "    res = []\n",
    "    for x in X:\n",
    "        diff = False\n",
    "        for y in Y:\n",
    "            if np.all(np.equal(x, y)):\n",
    "                diff = True\n",
    "                break\n",
    "        if not diff:\n",
    "            res.append(x)\n",
    "    return np.array(res)"
   ]
  },
  {
   "cell_type": "code",
   "execution_count": 442,
   "metadata": {
    "collapsed": false
   },
   "outputs": [],
   "source": [
    "class Code:\n",
    "    def __init__(self, H: List[List[int]], d: int):\n",
    "        self.H = H\n",
    "        self.n = H.shape[1]\n",
    "        self.k = H.shape[1] - H.shape[0]\n",
    "        self.r = self.n - self.k\n",
    "        self.d = d\n",
    "        self.all_words = generate(self.n)\n",
    "        self.all_words_with_zero = np.vstack((self.all_words, np.zeros(self.n)))\n",
    "        self.syndrom_matrix = self.get_syndrom_matrix() \n",
    "        self.code_words = self.get_code_words()\n",
    "        self.Z = self.getZ()\n",
    "        self.indexes_stored = np.arange(self.n)\n",
    "    \n",
    "    def get_code_words(self):\n",
    "        res = []\n",
    "        for c in self.all_words_with_zero:\n",
    "            if np.all(np.dot(c, self.H.T) % 2 == 0):\n",
    "                res.append(c)\n",
    "        return res\n",
    "    \n",
    "    def brute_force_decode(self, y: BitWord) -> BitWord:\n",
    "        mn = self.n\n",
    "        c = np.zeros(self.n)\n",
    "        for cur in self.all_words_with_zero:\n",
    "            if (np.dot(cur, self.H.T) % 2 == 0) and (np.sum((2 + cur - y) % 2) < mn):\n",
    "                mn = np.sum((2 + cur - y) % 2)\n",
    "                c = cur\n",
    "        return c\n",
    "        \n",
    "    # returns e with minimal weigh such that s = e * H.T\n",
    "    def get_min_error_weight(self, s: List[int]) -> int:\n",
    "        res = self.n\n",
    "        for e in self.all_words:\n",
    "            if np.all(s == (np.dot(e, self.H.T) % 2)):\n",
    "                res = min(res, np.sum(e))\n",
    "        return res\n",
    "\n",
    "\n",
    "    # return \n",
    "    def get_syndrom_matrix(self):\n",
    "        res = []\n",
    "\n",
    "        a_s = generate(self.r)\n",
    "        \n",
    "        for s in a_s:\n",
    "            m = self.get_min_error_weight(s)\n",
    "\n",
    "            for e in self.all_words: # errors\n",
    "                if np.all(s == (np.dot(e, self.H.T) % 2)) and (np.sum(e) == m):\n",
    "                    res.append((s, e))\n",
    "                    break\n",
    "        return res\n",
    "                \n",
    "    \n",
    "    # decode y using syndrom matrix decoding\n",
    "    def syndrom_decode(self, y: BitWord) -> BitWord:\n",
    "        syndrom = np.dot(y, self.H.T) % 2\n",
    "        \n",
    "        for se in self.syndrom_matrix:\n",
    "            if (np.all(np.equal(syndrom, se[0]))):\n",
    "                return ((y + 2) - se[1]) % 2\n",
    "\n",
    "        return y # it's code word\n",
    "                \n",
    "    # get set of words such that word is decoding into c using syndrom decoding.\n",
    "    def getR(self, c: BitWord):\n",
    "        R = []\n",
    "        for w in self.all_words_with_zero:\n",
    "            if (np.all(np.equal(c, self.syndrom_decode(w)))):\n",
    "                R.append(w)\n",
    "        return R\n",
    "\n",
    "    # get set of words such that inversion of one symbol gives word from R(c)\n",
    "    def getD(self, c: BitWord) -> List[BitWord]:\n",
    "        R = self.getR(c)\n",
    "        D = []\n",
    "        for w in self.all_words_with_zero:\n",
    "            # inversion of one bit\n",
    "            if np.min(np.apply_along_axis(lambda x : np.sum((2 + x - w) % 2), 1, R)) == 1:                 \n",
    "                D.append(w)\n",
    "        return D\n",
    "            \n",
    "    def getZ(self):\n",
    "        D0 = self.getD(np.zeros(self.n))\n",
    "\n",
    "        intersected = [] # слова для которых R(c) пересекается с D(0)\n",
    "\n",
    "        for c in self.all_words_with_zero:\n",
    "            if np.sum(np.dot(c, self.H.T) % 2) != 0:\n",
    "                continue\n",
    "            # теперь с - кодовое слово\n",
    "\n",
    "            if len(diff(D0, self.getR(c))) != len(D0):\n",
    "                intersected.append(c)\n",
    "            \n",
    "        minimal_set = []\n",
    "        for i in range(len(intersected)):\n",
    "            current_intersection = []\n",
    "            for j in range(len(intersected)):\n",
    "                if i == j:\n",
    "                    continue\n",
    "                current_intersection.extend(self.getR(intersected[j]))\n",
    "                \n",
    "            if len(diff(D0, current_intersection)) != len(D0):\n",
    "                minimal_set.append(intersected[i]) # this item should be in Z\n",
    "\n",
    "        return minimal_set\n",
    "    \n",
    "    def zero_neighbor_decode(self, y):\n",
    "        c = np.zeros(self.n)\n",
    "        improved = True\n",
    "        while (improved):\n",
    "            current_weight = np.sum(y)\n",
    "            \n",
    "            improved = False\n",
    "            for z in self.Z:\n",
    "                if np.sum((y + z) % 2) < current_weight:\n",
    "                    y = (y + z) % 2\n",
    "                    c = (c + z) % 2\n",
    "                    improved = True\n",
    "                    break\n",
    "        return c\n",
    "    \n",
    "    def info_decode(self, y):\n",
    "        d_opt = np.sum(y)\n",
    "        c_hat = np.zeros(self.n)\n",
    "        indexes_stored = np.arange(self.n)\n",
    "        for i in range(20):\n",
    "            np.random.shuffle(self.indexes_stored)\n",
    "            indexes = self.indexes_stored[:self.k]\n",
    "            \n",
    "            for c in self.code_words:\n",
    "                if np.all(y[indexes] == c[indexes]): # совпадает на выбранных позициях\n",
    "                    if np.sum((2 + y - c) % 2) < d_opt:\n",
    "                        d_opt = np.sum((2 + y - c) % 2)\n",
    "                        c_hat = c\n",
    "        return c_hat"
   ]
  },
  {
   "cell_type": "code",
   "execution_count": 443,
   "metadata": {
    "collapsed": false
   },
   "outputs": [],
   "source": [
    "c1 = Code(H1, 6)\n",
    "c2 = Code(H2, 4)\n",
    "c3 = Code(H3, 3)\n",
    "c4 = Code(H4, 2)\n",
    "c5 = Code(H5, 2)"
   ]
  },
  {
   "cell_type": "markdown",
   "metadata": {},
   "source": [
    "Приведем множества соседей нулевого слова для кодов из задания 1:"
   ]
  },
  {
   "cell_type": "code",
   "execution_count": 375,
   "metadata": {
    "collapsed": false
   },
   "outputs": [
    {
     "data": {
      "text/plain": [
       "[array([ 0.,  1.,  1.,  1.,  1.,  0.]),\n",
       " array([ 1.,  0.,  1.,  1.,  0.,  1.]),\n",
       " array([ 1.,  1.,  0.,  0.,  1.,  1.])]"
      ]
     },
     "execution_count": 375,
     "metadata": {},
     "output_type": "execute_result"
    }
   ],
   "source": [
    "c2.Z"
   ]
  },
  {
   "cell_type": "code",
   "execution_count": 376,
   "metadata": {
    "collapsed": false
   },
   "outputs": [
    {
     "data": {
      "text/plain": [
       "[array([ 0.,  0.,  1.,  1.,  1.,  0.]),\n",
       " array([ 0.,  1.,  0.,  1.,  0.,  1.]),\n",
       " array([ 0.,  1.,  1.,  0.,  1.,  1.]),\n",
       " array([ 1.,  0.,  0.,  0.,  1.,  1.]),\n",
       " array([ 1.,  0.,  1.,  1.,  0.,  1.]),\n",
       " array([ 1.,  1.,  1.,  0.,  0.,  0.])]"
      ]
     },
     "execution_count": 376,
     "metadata": {},
     "output_type": "execute_result"
    }
   ],
   "source": [
    "c3.Z"
   ]
  },
  {
   "cell_type": "code",
   "execution_count": 377,
   "metadata": {
    "collapsed": false
   },
   "outputs": [
    {
     "data": {
      "text/plain": [
       "[array([ 0.,  0.,  0.,  1.,  0.,  1.]),\n",
       " array([ 0.,  0.,  1.,  0.,  1.,  0.]),\n",
       " array([ 0.,  1.,  0.,  0.,  0.,  1.]),\n",
       " array([ 1.,  0.,  0.,  0.,  1.,  0.])]"
      ]
     },
     "execution_count": 377,
     "metadata": {},
     "output_type": "execute_result"
    }
   ],
   "source": [
    "c4.Z"
   ]
  },
  {
   "cell_type": "code",
   "execution_count": 378,
   "metadata": {
    "collapsed": false
   },
   "outputs": [
    {
     "data": {
      "text/plain": [
       "[array([ 0.,  0.,  0.,  0.,  1.,  1.]),\n",
       " array([ 0.,  0.,  0.,  1.,  0.,  1.]),\n",
       " array([ 0.,  0.,  1.,  0.,  0.,  1.]),\n",
       " array([ 0.,  1.,  0.,  0.,  0.,  1.]),\n",
       " array([ 1.,  0.,  0.,  0.,  0.,  1.])]"
      ]
     },
     "execution_count": 378,
     "metadata": {},
     "output_type": "execute_result"
    }
   ],
   "source": [
    "c5.Z"
   ]
  },
  {
   "cell_type": "markdown",
   "metadata": {},
   "source": [
    "# Примеры работы алгоритмов"
   ]
  },
  {
   "cell_type": "code",
   "execution_count": 379,
   "metadata": {
    "collapsed": false
   },
   "outputs": [
    {
     "name": "stdout",
     "output_type": "stream",
     "text": [
      "[0 0 0 1 1 0]\n",
      "[ 0.  0.  0.  0.  1.  1.]\n",
      "[ 0.  0.  0.  0.  1.  1.]\n"
     ]
    }
   ],
   "source": [
    "print(c5.syndrom_decode(np.array([0,0,0,1,1,1])))\n",
    "print(c5.brute_force_decode(np.array([0,0,0,1,1,1])))\n",
    "print(c5.zero_neighbor_decode(np.array([0,0,0,1,1,1])))"
   ]
  },
  {
   "cell_type": "markdown",
   "metadata": {},
   "source": [
    "# Сравнение производительности"
   ]
  },
  {
   "cell_type": "code",
   "execution_count": 380,
   "metadata": {
    "collapsed": false
   },
   "outputs": [],
   "source": [
    "test_data = []\n",
    "while len(test_data) < 1e6:\n",
    "    test_data.extend(generate(c5.n))"
   ]
  },
  {
   "cell_type": "code",
   "execution_count": 381,
   "metadata": {
    "collapsed": true
   },
   "outputs": [],
   "source": [
    "def measure(decode, test_data: List[BitWord], iters: int) -> int:\n",
    "    start = time.time()\n",
    "    \n",
    "    for i in range(0, iters):\n",
    "        decode(test_data[i])\n",
    "    \n",
    "    return (time.time() - start)"
   ]
  },
  {
   "cell_type": "code",
   "execution_count": 382,
   "metadata": {
    "collapsed": false
   },
   "outputs": [],
   "source": [
    "brute_force_plt = np.array([measure(c5.brute_force_decode, test_data, 10**p) for p in range(1, 5)]) \n",
    "syndrom_plt = np.array([measure(c5.syndrom_decode, test_data, 10**p) for p in range(1, 5)])\n",
    "zero_neighbours = np.array([measure(c5.zero_neighbor_decode, test_data, 10**p) for p in range(1, 5)])"
   ]
  },
  {
   "cell_type": "code",
   "execution_count": 383,
   "metadata": {
    "collapsed": false
   },
   "outputs": [
    {
     "data": {
      "image/png": "[encoded data removed]",
      "text/plain": [
       "<matplotlib.figure.Figure at 0x1159adfd0>"
      ]
     },
     "metadata": {},
     "output_type": "display_data"
    }
   ],
   "source": [
    "plt.plot(brute_force_plt, color='g')\n",
    "plt.plot(syndrom_plt, color='b')\n",
    "plt.plot(zero_neighbours, color='r')\n",
    "plt.show()"
   ]
  },
  {
   "cell_type": "markdown",
   "metadata": {},
   "source": [
    "Алгоритм декодирования перебором естественно самый медленный. Алгоритм синдромного декодирования самый быстрый, однако он хранит в памяти очень много дополнительной информации."
   ]
  },
  {
   "cell_type": "markdown",
   "metadata": {},
   "source": [
    "# Задание 16"
   ]
  },
  {
   "cell_type": "markdown",
   "metadata": {},
   "source": [
    "Алгоритм написан выше в классе, однако приведу его здесь"
   ]
  },
  {
   "cell_type": "code",
   "execution_count": 455,
   "metadata": {
    "collapsed": true
   },
   "outputs": [],
   "source": [
    "def info_decode(self, y):\n",
    "        d_opt = np.sum(y)\n",
    "        c_hat = np.zeros(self.n)\n",
    "        indexes_stored = np.arange(self.n)\n",
    "        for i in range(20):\n",
    "            np.random.shuffle(self.indexes_stored)\n",
    "            indexes = self.indexes_stored[:self.k]\n",
    "            \n",
    "            for c in self.code_words:\n",
    "                if np.all(y[indexes] == c[indexes]): # совпадает на выбранных позициях\n",
    "                    if np.sum((2 + y - c) % 2) < d_opt:\n",
    "                        d_opt = np.sum((2 + y - c) % 2)\n",
    "                        c_hat = c\n",
    "        return c_hat"
   ]
  },
  {
   "cell_type": "code",
   "execution_count": 448,
   "metadata": {
    "collapsed": false
   },
   "outputs": [
    {
     "name": "stderr",
     "output_type": "stream",
     "text": [
      "100%|██████████| 4/4 [00:06<00:00,  1.94s/it]\n",
      "100%|██████████| 4/4 [00:38<00:00, 11.30s/it]\n"
     ]
    }
   ],
   "source": [
    "brute_force_plt = np.array([measure(c5.brute_force_decode, test_data, 10**p) for p in tqdm(range(1, 5))]) \n",
    "info_plt = np.array([measure(c5.info_decode, test_data, 10**p) for p in tqdm(range(1, 5))]) "
   ]
  },
  {
   "cell_type": "code",
   "execution_count": 451,
   "metadata": {
    "collapsed": true
   },
   "outputs": [],
   "source": [
    "syndrom_plt = np.array([measure(c5.syndrom_decode, test_data, 10**p) for p in range(1, 5)])\n",
    "zero_neighbours = np.array([measure(c5.zero_neighbor_decode, test_data, 10**p) for p in range(1, 5)])"
   ]
  },
  {
   "cell_type": "code",
   "execution_count": 454,
   "metadata": {
    "collapsed": false
   },
   "outputs": [
    {
     "data": {
      "image/png": "[encoded data removed]",
      "text/plain": [
       "<matplotlib.figure.Figure at 0x1165cbcc0>"
      ]
     },
     "metadata": {},
     "output_type": "display_data"
    }
   ],
   "source": [
    "plt.plot(brute_force_plt, color='g')\n",
    "plt.plot(syndrom_plt, color='b')\n",
    "plt.plot(zero_neighbours, color='r')\n",
    "plt.plot(info_plt, color='pink')\n",
    "plt.show()"
   ]
  },
  {
   "cell_type": "markdown",
   "metadata": {},
   "source": [
    "Алгоритм получился довольно таки медленным, что неудивительно."
   ]
  },
  {
   "cell_type": "code",
   "execution_count": null,
   "metadata": {
    "collapsed": true
   },
   "outputs": [],
   "source": []
  }
 ],
 "metadata": {
  "kernelspec": {
   "display_name": "Python 3",
   "language": "python",
   "name": "python3"
  },
  "language_info": {
   "codemirror_mode": {
    "name": "ipython",
    "version": 3
   },
   "file_extension": ".py",
   "mimetype": "text/x-python",
   "name": "python",
   "nbconvert_exporter": "python",
   "pygments_lexer": "ipython3",
   "version": "3.6.3"
  }
 },
 "nbformat": 4,
 "nbformat_minor": 2
}
