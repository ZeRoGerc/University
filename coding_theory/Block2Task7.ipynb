{
 "cells": [
  {
   "cell_type": "code",
   "execution_count": 13,
   "metadata": {
    "collapsed": true
   },
   "outputs": [],
   "source": [
    "import numpy as np"
   ]
  },
  {
   "cell_type": "code",
   "execution_count": 14,
   "metadata": {
    "collapsed": false
   },
   "outputs": [],
   "source": [
    "H = np.array([\n",
    "    [0,0,0,1,1,1,1,0,1,0],\n",
    "    [1,0,0,0,0,0,1,1,1,1],\n",
    "    [1,1,1,0,1,1,1,0,0,1],\n",
    "    [1,0,1,1,0,1,1,1,0,0]\n",
    "]);"
   ]
  },
  {
   "cell_type": "code",
   "execution_count": 15,
   "metadata": {
    "collapsed": true
   },
   "outputs": [],
   "source": [
    "def generate(l):\n",
    "    res = []\n",
    "    \n",
    "    for i in range(1, 2**l):\n",
    "        b = bin(i)[2:]\n",
    "        b = '0' * (l - len(b)) + b\n",
    "        b = np.array(list(map(lambda x: int(x), b)))\n",
    "        res.append(b)\n",
    "        \n",
    "    return np.array(res)"
   ]
  },
  {
   "cell_type": "code",
   "execution_count": 16,
   "metadata": {
    "collapsed": false
   },
   "outputs": [],
   "source": [
    "n = 10\n",
    "k = 6\n",
    "r = 4\n",
    "\n",
    "a_s = generate(r)\n",
    "a_e = generate(n)"
   ]
  },
  {
   "cell_type": "code",
   "execution_count": 17,
   "metadata": {
    "collapsed": false
   },
   "outputs": [],
   "source": [
    "def get_min(s):\n",
    "    res = a_e.shape[1]\n",
    "    for e in a_e:\n",
    "        if np.all(s == (np.dot(e, H.T) % 2)):\n",
    "            res = min(res, np.sum(e))\n",
    "    return res\n",
    "\n",
    "\n",
    "def get_syndrom_matrix():\n",
    "    res = []\n",
    "    for s in a_s:\n",
    "        m = get_min(s)\n",
    "        \n",
    "        for e in a_e:\n",
    "            if np.all(s == (np.dot(e, H.T) % 2)) and (np.sum(e) == m):\n",
    "                res.append((s, e))\n",
    "                break\n",
    "    \n",
    "    return res"
   ]
  },
  {
   "cell_type": "code",
   "execution_count": 18,
   "metadata": {
    "collapsed": false
   },
   "outputs": [
    {
     "name": "stdout",
     "output_type": "stream",
     "text": [
      "[0 0 0 1] [0 0 0 0 0 0 0 1 0 0]\n",
      "[0 0 1 0] [0 0 0 0 0 0 1 0 0 0]\n",
      "[0 0 1 1] [0 0 0 0 0 0 0 0 1 0]\n",
      "[0 1 0 0] [0 0 0 1 0 0 1 0 0 0]\n",
      "[0 1 0 1] [0 1 0 0 0 0 0 0 0 0]\n",
      "[0 1 1 0] [0 0 0 1 0 0 0 0 0 0]\n",
      "[0 1 1 1] [0 0 0 0 1 0 0 0 0 1]\n",
      "[1 0 0 0] [1 0 0 0 0 0 0 0 0 0]\n",
      "[1 0 0 1] [0 0 0 0 1 0 0 0 0 0]\n",
      "[1 0 1 0] [0 0 1 0 0 0 0 0 0 0]\n",
      "[1 0 1 1] [0 0 0 0 1 0 1 0 0 0]\n",
      "[1 1 0 0] [0 0 0 0 0 0 1 0 0 1]\n",
      "[1 1 0 1] [0 0 0 0 0 0 0 0 1 1]\n",
      "[1 1 1 0] [0 0 0 0 0 0 0 0 0 1]\n",
      "[1 1 1 1] [0 0 0 0 0 1 0 0 0 0]\n"
     ]
    }
   ],
   "source": [
    "mat = get_syndrom_matrix()\n",
    "for l in mat:\n",
    "    print(l[0], l[1])"
   ]
  },
  {
   "cell_type": "code",
   "execution_count": null,
   "metadata": {
    "collapsed": true
   },
   "outputs": [],
   "source": []
  }
 ],
 "metadata": {
  "kernelspec": {
   "display_name": "Python 3",
   "language": "python",
   "name": "python3"
  },
  "language_info": {
   "codemirror_mode": {
    "name": "ipython",
    "version": 3
   },
   "file_extension": ".py",
   "mimetype": "text/x-python",
   "name": "python",
   "nbconvert_exporter": "python",
   "pygments_lexer": "ipython3",
   "version": "3.6.3"
  }
 },
 "nbformat": 4,
 "nbformat_minor": 2
}
