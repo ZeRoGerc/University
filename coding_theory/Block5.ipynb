{
 "cells": [
  {
   "cell_type": "markdown",
   "metadata": {},
   "source": [
    "# Глава 5 (Сазанович Владислав М3339)"
   ]
  },
  {
   "cell_type": "code",
   "execution_count": 3,
   "metadata": {
    "collapsed": true
   },
   "outputs": [],
   "source": [
    "import numpy as np\n",
    "import pandas as pd\n",
    "import math\n",
    "import matplotlib.pyplot as plt\n",
    "import scipy\n",
    "import scipy.stats\n",
    "import hashlib\n",
    "import time\n",
    "import copy\n",
    "\n",
    "from numpy.linalg import matrix_rank\n",
    "from tqdm import tqdm"
   ]
  },
  {
   "cell_type": "code",
   "execution_count": 4,
   "metadata": {
    "collapsed": true
   },
   "outputs": [],
   "source": [
    "# generate all sequences of length l\n",
    "def generate(l):\n",
    "    res = []\n",
    "    \n",
    "    for i in range(0, 2**l):\n",
    "        b = bin(i)[2:]\n",
    "        b = '0' * (l - len(b)) + b\n",
    "        b = np.array(list(map(lambda x: int(x), b)))\n",
    "        res.append(b)\n",
    "        \n",
    "    return np.array(res)"
   ]
  },
  {
   "cell_type": "code",
   "execution_count": 5,
   "metadata": {
    "collapsed": true
   },
   "outputs": [],
   "source": [
    "def polynomial_to_string(P):\n",
    "    p = ''\n",
    "    for i in np.arange(len(P), 0, -1):\n",
    "        if P[-i] == 0:\n",
    "            continue\n",
    "        if i - 1 == 0:\n",
    "            p = p + '{} + '.format(int(P[-i]))\n",
    "            continue\n",
    "            \n",
    "        if P[-i] != 1:\n",
    "            p = p + '{}*'.format(int(P[-i]))\n",
    "        if i - 1 == 1:\n",
    "            p = p + 'x + '\n",
    "        else:\n",
    "            p = p + 'x^{} + '.format(i - 1)\n",
    "        \n",
    "    return p[:-3]"
   ]
  },
  {
   "cell_type": "markdown",
   "metadata": {},
   "source": [
    "# Задание 1"
   ]
  },
  {
   "cell_type": "code",
   "execution_count": 6,
   "metadata": {
    "collapsed": true
   },
   "outputs": [],
   "source": [
    "# Строит порождающую матрицу для цикличесткого кода с порождающим полиномом g \n",
    "def get_G(n, k, g):\n",
    "    G = []\n",
    "    shift = 0\n",
    "    for i in range(k):\n",
    "        current = np.zeros(n)\n",
    "        for j in range(1, len(g) + 1):\n",
    "            current[(j - 1 + shift) % n] = g[-j]\n",
    "        shift += 1\n",
    "        G.append(current)\n",
    "    return np.array(G)"
   ]
  },
  {
   "cell_type": "code",
   "execution_count": 7,
   "metadata": {
    "collapsed": true
   },
   "outputs": [],
   "source": [
    "# Строит проверочную матрицу для цикличесткого кода с проверочным полиномом h \n",
    "def get_H(n, k, h):\n",
    "    H = []\n",
    "    shift = 0\n",
    "    for i in range(n - k):\n",
    "        current = np.zeros(n)\n",
    "        for j in range(len(h)):\n",
    "            current[(shift + j) % n] = h[j]\n",
    "        shift += 1\n",
    "        H.append(current)\n",
    "    return np.array(H)"
   ]
  },
  {
   "cell_type": "code",
   "execution_count": 8,
   "metadata": {
    "collapsed": false
   },
   "outputs": [
    {
     "data": {
      "text/plain": [
       "array([[ 0.,  0.,  0.],\n",
       "       [ 0.,  0.,  0.],\n",
       "       [ 0.,  0.,  0.],\n",
       "       [ 0.,  0.,  0.]])"
      ]
     },
     "execution_count": 8,
     "metadata": {},
     "output_type": "execute_result"
    }
   ],
   "source": [
    "# Проверим на примере из учебника\n",
    "G = get_G(7, 4, [1, 1, 0, 1])\n",
    "H = get_H(7, 4, [1, 1, 1, 0, 1])\n",
    "G.dot(H.T) % 2"
   ]
  },
  {
   "cell_type": "code",
   "execution_count": 9,
   "metadata": {
    "collapsed": true
   },
   "outputs": [],
   "source": [
    "# x^n - 1\n",
    "def create_xn(n):\n",
    "    xn = np.zeros(n + 1)\n",
    "    xn[0] = 1\n",
    "    xn[-1] = 1\n",
    "    return xn"
   ]
  },
  {
   "cell_type": "code",
   "execution_count": 10,
   "metadata": {
    "collapsed": false
   },
   "outputs": [],
   "source": [
    "# Находение делителя полинома\n",
    "def find_factor(p):\n",
    "    for f in generate(len(p) - 1)[2:]:\n",
    "        f = np.trim_zeros(f, 'f')\n",
    "        if np.all(np.polydiv(p, f)[1] % 2 == 0): # p mod f == 0\n",
    "            return f\n",
    "    return None # cannot factorize, already minimal"
   ]
  },
  {
   "cell_type": "code",
   "execution_count": 11,
   "metadata": {
    "collapsed": true
   },
   "outputs": [],
   "source": [
    "# Факторизация полинома\n",
    "def factorize(p, prt=False):\n",
    "    if prt:\n",
    "        print('factorizing: {}'.format(polynomial_to_string(p)))\n",
    "        \n",
    "    cur = np.array(p)\n",
    "    factors = []\n",
    "    \n",
    "    while True:\n",
    "        factor = find_factor(cur)\n",
    "        if factor is None:\n",
    "            factors.append(cur)\n",
    "            break\n",
    "        \n",
    "        factors.append(factor)\n",
    "        cur = np.polydiv(cur, factor)[0] % 2\n",
    "        \n",
    "    if prt:\n",
    "        for factor in factors:\n",
    "            print(polynomial_to_string(factor))\n",
    "    return factors"
   ]
  },
  {
   "cell_type": "code",
   "execution_count": 12,
   "metadata": {
    "collapsed": false
   },
   "outputs": [
    {
     "name": "stdout",
     "output_type": "stream",
     "text": [
      "factorizing: x^7 + 1\n",
      "x + 1\n",
      "x^3 + x + 1\n",
      "x^3 + x^2 + 1\n"
     ]
    }
   ],
   "source": [
    "# Проверка на примере из учебника\n",
    "f = factorize(create_xn(7), True)"
   ]
  },
  {
   "cell_type": "code",
   "execution_count": 13,
   "metadata": {
    "collapsed": true
   },
   "outputs": [],
   "source": [
    "# Вычисляет h = (x^n - 1) / g\n",
    "def get_h(n, g):\n",
    "    xn = create_xn(n) # x^n - 1\n",
    "    \n",
    "    # calc h = (x^n - 1) / g\n",
    "    temp = np.polydiv(xn, g)\n",
    "    assert np.all(temp[1] % 2 == 0) # проверка того что делится без остатка\n",
    "    return temp[0] % 2"
   ]
  },
  {
   "cell_type": "code",
   "execution_count": 14,
   "metadata": {
    "collapsed": true
   },
   "outputs": [],
   "source": [
    "# Строит порождающую и проверочную матрицу для кода с порождающим полиномом g\n",
    "def build_code(n, g):\n",
    "    r = len(g) - 1\n",
    "    k = n - r\n",
    "    \n",
    "    h = get_h(n, g)\n",
    "    \n",
    "    return get_G(n, k, g).astype(int), get_H(n, k, h).astype(int)"
   ]
  },
  {
   "cell_type": "code",
   "execution_count": 15,
   "metadata": {
    "collapsed": false
   },
   "outputs": [
    {
     "name": "stdout",
     "output_type": "stream",
     "text": [
      "G = \n",
      "[[1 0 1 1 0 0 0]\n",
      " [0 1 0 1 1 0 0]\n",
      " [0 0 1 0 1 1 0]\n",
      " [0 0 0 1 0 1 1]]\n",
      "H = \n",
      "[[1 1 1 0 1 0 0]\n",
      " [0 1 1 1 0 1 0]\n",
      " [0 0 1 1 1 0 1]]\n",
      "G * H.T = \n",
      "[[0 0 0]\n",
      " [0 0 0]\n",
      " [0 0 0]\n",
      " [0 0 0]]\n"
     ]
    }
   ],
   "source": [
    "# Проверка на примере из учебника\n",
    "G, H = build_code(7, [1, 1, 0, 1])\n",
    "print('G = \\n{}'.format(G))\n",
    "print('H = \\n{}'.format(H))\n",
    "print('G * H.T = \\n{}'.format(G.dot(H.T) % 2))"
   ]
  },
  {
   "cell_type": "markdown",
   "metadata": {},
   "source": [
    "Научимся считать минимальное расстояние кода. Переберм все кодовые слова. Посчитаем расстояние. Ограничения на $n <= 9$ позволяют это сделать за разумное время."
   ]
  },
  {
   "cell_type": "code",
   "execution_count": 16,
   "metadata": {
    "collapsed": true
   },
   "outputs": [],
   "source": [
    "def get_d(H):\n",
    "    n = len(H[0])\n",
    "    d = n\n",
    "    for word in generate(n)[1:]:\n",
    "        if not np.all(np.dot(word, H.T) % 2 == 0): # w * H.T == 0 => слово кодовое\n",
    "            continue\n",
    "        d = min(d, np.sum(word)) # обновляем d весом кодового слова\n",
    "        \n",
    "    return d"
   ]
  },
  {
   "cell_type": "code",
   "execution_count": 17,
   "metadata": {
    "collapsed": false
   },
   "outputs": [
    {
     "data": {
      "text/plain": [
       "3"
      ]
     },
     "execution_count": 17,
     "metadata": {},
     "output_type": "execute_result"
    }
   ],
   "source": [
    "# Проверим на примере из учебника\n",
    "get_d(np.array([\n",
    "    [1, 1, 1, 0, 1, 0, 0],\n",
    "    [0, 1, 1, 1, 0, 1, 0],\n",
    "    [0, 0, 1, 1, 1, 0, 1]\n",
    "]))"
   ]
  },
  {
   "cell_type": "markdown",
   "metadata": {},
   "source": [
    "Построение кодов с заданной длиной теперь запишется довольно просто. Нужно разложить $x^n - 1$ на множители. Тогда каждый его делитель будет порождать циклический код. "
   ]
  },
  {
   "cell_type": "code",
   "execution_count": 18,
   "metadata": {
    "collapsed": true
   },
   "outputs": [],
   "source": [
    "def build_codes_with_length(n):\n",
    "    xn = create_xn(n)\n",
    "    factors = factorize(xn)\n",
    "    \n",
    "    for g in factors: # каждый делитель будет порождать код\n",
    "        G, H = build_code(n, g)\n",
    "        d = get_d(H)\n",
    "        \n",
    "        print('\\n\\n---New code of length n = {}---'.format(n))\n",
    "        print('Code: n = {}, k = {}, d = {}'.format(n, len(G), d))\n",
    "        print('g(x) = {}'.format(polynomial_to_string(g)))\n",
    "        print('G = \\n{}'.format(G))\n",
    "        print('H = \\n{}'.format(H))\n",
    "        \n",
    "        \n",
    "        # Строим дуальный код\n",
    "        G, H = build_code(n, get_h(n, g))\n",
    "        d = get_d(H)\n",
    "        print('\\nDual code: n = {}, k = {}, d = {}'.format(n, len(G), d))\n",
    "        print('g(x) = {}'.format(polynomial_to_string(get_h(n, g))))\n",
    "        print('G = \\n{}'.format(G))\n",
    "        print('H = \\n{}'.format(H))"
   ]
  },
  {
   "cell_type": "code",
   "execution_count": 19,
   "metadata": {
    "collapsed": false
   },
   "outputs": [
    {
     "name": "stdout",
     "output_type": "stream",
     "text": [
      "\n",
      "\n",
      "---New code of length n = 3---\n",
      "Code: n = 3, k = 2, d = 2\n",
      "g(x) = x + 1\n",
      "G = \n",
      "[[1 1 0]\n",
      " [0 1 1]]\n",
      "H = \n",
      "[[1 1 1]]\n",
      "\n",
      "Dual code: n = 3, k = 1, d = 3\n",
      "g(x) = x^2 + x + 1\n",
      "G = \n",
      "[[1 1 1]]\n",
      "H = \n",
      "[[1 1 0]\n",
      " [0 1 1]]\n",
      "\n",
      "\n",
      "---New code of length n = 3---\n",
      "Code: n = 3, k = 1, d = 3\n",
      "g(x) = x^2 + x + 1\n",
      "G = \n",
      "[[1 1 1]]\n",
      "H = \n",
      "[[1 1 0]\n",
      " [0 1 1]]\n",
      "\n",
      "Dual code: n = 3, k = 2, d = 2\n",
      "g(x) = x + 1\n",
      "G = \n",
      "[[1 1 0]\n",
      " [0 1 1]]\n",
      "H = \n",
      "[[1 1 1]]\n"
     ]
    }
   ],
   "source": [
    "# Построим циклические коды длины три (все остальные коды приложил отдельным файлом)\n",
    "build_codes_with_length(3)"
   ]
  },
  {
   "cell_type": "code",
   "execution_count": 20,
   "metadata": {
    "collapsed": false
   },
   "outputs": [
    {
     "name": "stdout",
     "output_type": "stream",
     "text": [
      "\n",
      "\n",
      "---New code of length n = 3---\n",
      "Code: n = 3, k = 2, d = 2\n",
      "g(x) = x + 1\n",
      "G = \n",
      "[[1 1 0]\n",
      " [0 1 1]]\n",
      "H = \n",
      "[[1 1 1]]\n",
      "\n",
      "Dual code: n = 3, k = 1, d = 3\n",
      "g(x) = x^2 + x + 1\n",
      "G = \n",
      "[[1 1 1]]\n",
      "H = \n",
      "[[1 1 0]\n",
      " [0 1 1]]\n",
      "\n",
      "\n",
      "---New code of length n = 3---\n",
      "Code: n = 3, k = 1, d = 3\n",
      "g(x) = x^2 + x + 1\n",
      "G = \n",
      "[[1 1 1]]\n",
      "H = \n",
      "[[1 1 0]\n",
      " [0 1 1]]\n",
      "\n",
      "Dual code: n = 3, k = 2, d = 2\n",
      "g(x) = x + 1\n",
      "G = \n",
      "[[1 1 0]\n",
      " [0 1 1]]\n",
      "H = \n",
      "[[1 1 1]]\n",
      "\n",
      "\n",
      "---New code of length n = 4---\n",
      "Code: n = 4, k = 3, d = 2\n",
      "g(x) = x + 1\n",
      "G = \n",
      "[[1 1 0 0]\n",
      " [0 1 1 0]\n",
      " [0 0 1 1]]\n",
      "H = \n",
      "[[1 1 1 1]]\n",
      "\n",
      "Dual code: n = 4, k = 1, d = 4\n",
      "g(x) = x^3 + x^2 + x + 1\n",
      "G = \n",
      "[[1 1 1 1]]\n",
      "H = \n",
      "[[1 1 0 0]\n",
      " [0 1 1 0]\n",
      " [0 0 1 1]]\n",
      "\n",
      "\n",
      "---New code of length n = 4---\n",
      "Code: n = 4, k = 3, d = 2\n",
      "g(x) = x + 1\n",
      "G = \n",
      "[[1 1 0 0]\n",
      " [0 1 1 0]\n",
      " [0 0 1 1]]\n",
      "H = \n",
      "[[1 1 1 1]]\n",
      "\n",
      "Dual code: n = 4, k = 1, d = 4\n",
      "g(x) = x^3 + x^2 + x + 1\n",
      "G = \n",
      "[[1 1 1 1]]\n",
      "H = \n",
      "[[1 1 0 0]\n",
      " [0 1 1 0]\n",
      " [0 0 1 1]]\n",
      "\n",
      "\n",
      "---New code of length n = 4---\n",
      "Code: n = 4, k = 3, d = 2\n",
      "g(x) = x + 1\n",
      "G = \n",
      "[[1 1 0 0]\n",
      " [0 1 1 0]\n",
      " [0 0 1 1]]\n",
      "H = \n",
      "[[1 1 1 1]]\n",
      "\n",
      "Dual code: n = 4, k = 1, d = 4\n",
      "g(x) = x^3 + x^2 + x + 1\n",
      "G = \n",
      "[[1 1 1 1]]\n",
      "H = \n",
      "[[1 1 0 0]\n",
      " [0 1 1 0]\n",
      " [0 0 1 1]]\n",
      "\n",
      "\n",
      "---New code of length n = 4---\n",
      "Code: n = 4, k = 3, d = 2\n",
      "g(x) = x + 1\n",
      "G = \n",
      "[[1 1 0 0]\n",
      " [0 1 1 0]\n",
      " [0 0 1 1]]\n",
      "H = \n",
      "[[1 1 1 1]]\n",
      "\n",
      "Dual code: n = 4, k = 1, d = 4\n",
      "g(x) = x^3 + x^2 + x + 1\n",
      "G = \n",
      "[[1 1 1 1]]\n",
      "H = \n",
      "[[1 1 0 0]\n",
      " [0 1 1 0]\n",
      " [0 0 1 1]]\n",
      "\n",
      "\n",
      "---New code of length n = 5---\n",
      "Code: n = 5, k = 4, d = 2\n",
      "g(x) = x + 1\n",
      "G = \n",
      "[[1 1 0 0 0]\n",
      " [0 1 1 0 0]\n",
      " [0 0 1 1 0]\n",
      " [0 0 0 1 1]]\n",
      "H = \n",
      "[[1 1 1 1 1]]\n",
      "\n",
      "Dual code: n = 5, k = 1, d = 5\n",
      "g(x) = x^4 + x^3 + x^2 + x + 1\n",
      "G = \n",
      "[[1 1 1 1 1]]\n",
      "H = \n",
      "[[1 1 0 0 0]\n",
      " [0 1 1 0 0]\n",
      " [0 0 1 1 0]\n",
      " [0 0 0 1 1]]\n",
      "\n",
      "\n",
      "---New code of length n = 5---\n",
      "Code: n = 5, k = 1, d = 5\n",
      "g(x) = x^4 + x^3 + x^2 + x + 1\n",
      "G = \n",
      "[[1 1 1 1 1]]\n",
      "H = \n",
      "[[1 1 0 0 0]\n",
      " [0 1 1 0 0]\n",
      " [0 0 1 1 0]\n",
      " [0 0 0 1 1]]\n",
      "\n",
      "Dual code: n = 5, k = 4, d = 2\n",
      "g(x) = x + 1\n",
      "G = \n",
      "[[1 1 0 0 0]\n",
      " [0 1 1 0 0]\n",
      " [0 0 1 1 0]\n",
      " [0 0 0 1 1]]\n",
      "H = \n",
      "[[1 1 1 1 1]]\n",
      "\n",
      "\n",
      "---New code of length n = 6---\n",
      "Code: n = 6, k = 5, d = 2\n",
      "g(x) = x + 1\n",
      "G = \n",
      "[[1 1 0 0 0 0]\n",
      " [0 1 1 0 0 0]\n",
      " [0 0 1 1 0 0]\n",
      " [0 0 0 1 1 0]\n",
      " [0 0 0 0 1 1]]\n",
      "H = \n",
      "[[1 1 1 1 1 1]]\n",
      "\n",
      "Dual code: n = 6, k = 1, d = 6\n",
      "g(x) = x^5 + x^4 + x^3 + x^2 + x + 1\n",
      "G = \n",
      "[[1 1 1 1 1 1]]\n",
      "H = \n",
      "[[1 1 0 0 0 0]\n",
      " [0 1 1 0 0 0]\n",
      " [0 0 1 1 0 0]\n",
      " [0 0 0 1 1 0]\n",
      " [0 0 0 0 1 1]]\n",
      "\n",
      "\n",
      "---New code of length n = 6---\n",
      "Code: n = 6, k = 5, d = 2\n",
      "g(x) = x + 1\n",
      "G = \n",
      "[[1 1 0 0 0 0]\n",
      " [0 1 1 0 0 0]\n",
      " [0 0 1 1 0 0]\n",
      " [0 0 0 1 1 0]\n",
      " [0 0 0 0 1 1]]\n",
      "H = \n",
      "[[1 1 1 1 1 1]]\n",
      "\n",
      "Dual code: n = 6, k = 1, d = 6\n",
      "g(x) = x^5 + x^4 + x^3 + x^2 + x + 1\n",
      "G = \n",
      "[[1 1 1 1 1 1]]\n",
      "H = \n",
      "[[1 1 0 0 0 0]\n",
      " [0 1 1 0 0 0]\n",
      " [0 0 1 1 0 0]\n",
      " [0 0 0 1 1 0]\n",
      " [0 0 0 0 1 1]]\n",
      "\n",
      "\n",
      "---New code of length n = 6---\n",
      "Code: n = 6, k = 4, d = 2\n",
      "g(x) = x^2 + x + 1\n",
      "G = \n",
      "[[1 1 1 0 0 0]\n",
      " [0 1 1 1 0 0]\n",
      " [0 0 1 1 1 0]\n",
      " [0 0 0 1 1 1]]\n",
      "H = \n",
      "[[1 1 0 1 1 0]\n",
      " [0 1 1 0 1 1]]\n",
      "\n",
      "Dual code: n = 6, k = 2, d = 4\n",
      "g(x) = x^4 + x^3 + x + 1\n",
      "G = \n",
      "[[1 1 0 1 1 0]\n",
      " [0 1 1 0 1 1]]\n",
      "H = \n",
      "[[1 1 1 0 0 0]\n",
      " [0 1 1 1 0 0]\n",
      " [0 0 1 1 1 0]\n",
      " [0 0 0 1 1 1]]\n",
      "\n",
      "\n",
      "---New code of length n = 6---\n",
      "Code: n = 6, k = 4, d = 2\n",
      "g(x) = x^2 + x + 1\n",
      "G = \n",
      "[[1 1 1 0 0 0]\n",
      " [0 1 1 1 0 0]\n",
      " [0 0 1 1 1 0]\n",
      " [0 0 0 1 1 1]]\n",
      "H = \n",
      "[[1 1 0 1 1 0]\n",
      " [0 1 1 0 1 1]]\n",
      "\n",
      "Dual code: n = 6, k = 2, d = 4\n",
      "g(x) = x^4 + x^3 + x + 1\n",
      "G = \n",
      "[[1 1 0 1 1 0]\n",
      " [0 1 1 0 1 1]]\n",
      "H = \n",
      "[[1 1 1 0 0 0]\n",
      " [0 1 1 1 0 0]\n",
      " [0 0 1 1 1 0]\n",
      " [0 0 0 1 1 1]]\n",
      "\n",
      "\n",
      "---New code of length n = 7---\n",
      "Code: n = 7, k = 6, d = 2\n",
      "g(x) = x + 1\n",
      "G = \n",
      "[[1 1 0 0 0 0 0]\n",
      " [0 1 1 0 0 0 0]\n",
      " [0 0 1 1 0 0 0]\n",
      " [0 0 0 1 1 0 0]\n",
      " [0 0 0 0 1 1 0]\n",
      " [0 0 0 0 0 1 1]]\n",
      "H = \n",
      "[[1 1 1 1 1 1 1]]\n",
      "\n",
      "Dual code: n = 7, k = 1, d = 7\n",
      "g(x) = x^6 + x^5 + x^4 + x^3 + x^2 + x + 1\n",
      "G = \n",
      "[[1 1 1 1 1 1 1]]\n",
      "H = \n",
      "[[1 1 0 0 0 0 0]\n",
      " [0 1 1 0 0 0 0]\n",
      " [0 0 1 1 0 0 0]\n",
      " [0 0 0 1 1 0 0]\n",
      " [0 0 0 0 1 1 0]\n",
      " [0 0 0 0 0 1 1]]\n",
      "\n",
      "\n",
      "---New code of length n = 7---\n",
      "Code: n = 7, k = 4, d = 3\n",
      "g(x) = x^3 + x + 1\n",
      "G = \n",
      "[[1 1 0 1 0 0 0]\n",
      " [0 1 1 0 1 0 0]\n",
      " [0 0 1 1 0 1 0]\n",
      " [0 0 0 1 1 0 1]]\n",
      "H = \n",
      "[[1 0 1 1 1 0 0]\n",
      " [0 1 0 1 1 1 0]\n",
      " [0 0 1 0 1 1 1]]\n",
      "\n",
      "Dual code: n = 7, k = 3, d = 4\n",
      "g(x) = x^4 + x^2 + x + 1\n",
      "G = \n",
      "[[1 1 1 0 1 0 0]\n",
      " [0 1 1 1 0 1 0]\n",
      " [0 0 1 1 1 0 1]]\n",
      "H = \n",
      "[[1 0 1 1 0 0 0]\n",
      " [0 1 0 1 1 0 0]\n",
      " [0 0 1 0 1 1 0]\n",
      " [0 0 0 1 0 1 1]]\n",
      "\n",
      "\n",
      "---New code of length n = 7---\n",
      "Code: n = 7, k = 4, d = 3\n",
      "g(x) = x^3 + x^2 + 1\n",
      "G = \n",
      "[[1 0 1 1 0 0 0]\n",
      " [0 1 0 1 1 0 0]\n",
      " [0 0 1 0 1 1 0]\n",
      " [0 0 0 1 0 1 1]]\n",
      "H = \n",
      "[[1 1 1 0 1 0 0]\n",
      " [0 1 1 1 0 1 0]\n",
      " [0 0 1 1 1 0 1]]\n",
      "\n",
      "Dual code: n = 7, k = 3, d = 4\n",
      "g(x) = x^4 + x^3 + x^2 + 1\n",
      "G = \n",
      "[[1 0 1 1 1 0 0]\n",
      " [0 1 0 1 1 1 0]\n",
      " [0 0 1 0 1 1 1]]\n",
      "H = \n",
      "[[1 1 0 1 0 0 0]\n",
      " [0 1 1 0 1 0 0]\n",
      " [0 0 1 1 0 1 0]\n",
      " [0 0 0 1 1 0 1]]\n",
      "\n",
      "\n",
      "---New code of length n = 8---\n",
      "Code: n = 8, k = 7, d = 2\n",
      "g(x) = x + 1\n",
      "G = \n",
      "[[1 1 0 0 0 0 0 0]\n",
      " [0 1 1 0 0 0 0 0]\n",
      " [0 0 1 1 0 0 0 0]\n",
      " [0 0 0 1 1 0 0 0]\n",
      " [0 0 0 0 1 1 0 0]\n",
      " [0 0 0 0 0 1 1 0]\n",
      " [0 0 0 0 0 0 1 1]]\n",
      "H = \n",
      "[[1 1 1 1 1 1 1 1]]\n",
      "\n",
      "Dual code: n = 8, k = 1, d = 8\n",
      "g(x) = x^7 + x^6 + x^5 + x^4 + x^3 + x^2 + x + 1\n",
      "G = \n",
      "[[1 1 1 1 1 1 1 1]]\n",
      "H = \n",
      "[[1 1 0 0 0 0 0 0]\n",
      " [0 1 1 0 0 0 0 0]\n",
      " [0 0 1 1 0 0 0 0]\n",
      " [0 0 0 1 1 0 0 0]\n",
      " [0 0 0 0 1 1 0 0]\n",
      " [0 0 0 0 0 1 1 0]\n",
      " [0 0 0 0 0 0 1 1]]\n",
      "\n",
      "\n",
      "---New code of length n = 8---\n",
      "Code: n = 8, k = 7, d = 2\n",
      "g(x) = x + 1\n",
      "G = \n",
      "[[1 1 0 0 0 0 0 0]\n",
      " [0 1 1 0 0 0 0 0]\n",
      " [0 0 1 1 0 0 0 0]\n",
      " [0 0 0 1 1 0 0 0]\n",
      " [0 0 0 0 1 1 0 0]\n",
      " [0 0 0 0 0 1 1 0]\n",
      " [0 0 0 0 0 0 1 1]]\n",
      "H = \n",
      "[[1 1 1 1 1 1 1 1]]\n",
      "\n",
      "Dual code: n = 8, k = 1, d = 8\n",
      "g(x) = x^7 + x^6 + x^5 + x^4 + x^3 + x^2 + x + 1\n",
      "G = \n",
      "[[1 1 1 1 1 1 1 1]]\n",
      "H = \n",
      "[[1 1 0 0 0 0 0 0]\n",
      " [0 1 1 0 0 0 0 0]\n",
      " [0 0 1 1 0 0 0 0]\n",
      " [0 0 0 1 1 0 0 0]\n",
      " [0 0 0 0 1 1 0 0]\n",
      " [0 0 0 0 0 1 1 0]\n",
      " [0 0 0 0 0 0 1 1]]\n",
      "\n",
      "\n",
      "---New code of length n = 8---\n",
      "Code: n = 8, k = 7, d = 2\n",
      "g(x) = x + 1\n",
      "G = \n",
      "[[1 1 0 0 0 0 0 0]\n",
      " [0 1 1 0 0 0 0 0]\n",
      " [0 0 1 1 0 0 0 0]\n",
      " [0 0 0 1 1 0 0 0]\n",
      " [0 0 0 0 1 1 0 0]\n",
      " [0 0 0 0 0 1 1 0]\n",
      " [0 0 0 0 0 0 1 1]]\n",
      "H = \n",
      "[[1 1 1 1 1 1 1 1]]\n",
      "\n",
      "Dual code: n = 8, k = 1, d = 8\n",
      "g(x) = x^7 + x^6 + x^5 + x^4 + x^3 + x^2 + x + 1\n",
      "G = \n",
      "[[1 1 1 1 1 1 1 1]]\n",
      "H = \n",
      "[[1 1 0 0 0 0 0 0]\n",
      " [0 1 1 0 0 0 0 0]\n",
      " [0 0 1 1 0 0 0 0]\n",
      " [0 0 0 1 1 0 0 0]\n",
      " [0 0 0 0 1 1 0 0]\n",
      " [0 0 0 0 0 1 1 0]\n",
      " [0 0 0 0 0 0 1 1]]\n",
      "\n",
      "\n",
      "---New code of length n = 8---\n",
      "Code: n = 8, k = 7, d = 2\n",
      "g(x) = x + 1\n",
      "G = \n",
      "[[1 1 0 0 0 0 0 0]\n",
      " [0 1 1 0 0 0 0 0]\n",
      " [0 0 1 1 0 0 0 0]\n",
      " [0 0 0 1 1 0 0 0]\n",
      " [0 0 0 0 1 1 0 0]\n",
      " [0 0 0 0 0 1 1 0]\n",
      " [0 0 0 0 0 0 1 1]]\n",
      "H = \n",
      "[[1 1 1 1 1 1 1 1]]\n",
      "\n",
      "Dual code: n = 8, k = 1, d = 8\n",
      "g(x) = x^7 + x^6 + x^5 + x^4 + x^3 + x^2 + x + 1\n",
      "G = \n",
      "[[1 1 1 1 1 1 1 1]]\n",
      "H = \n",
      "[[1 1 0 0 0 0 0 0]\n",
      " [0 1 1 0 0 0 0 0]\n",
      " [0 0 1 1 0 0 0 0]\n",
      " [0 0 0 1 1 0 0 0]\n",
      " [0 0 0 0 1 1 0 0]\n",
      " [0 0 0 0 0 1 1 0]\n",
      " [0 0 0 0 0 0 1 1]]\n",
      "\n",
      "\n",
      "---New code of length n = 8---\n",
      "Code: n = 8, k = 7, d = 2\n",
      "g(x) = x + 1\n",
      "G = \n",
      "[[1 1 0 0 0 0 0 0]\n",
      " [0 1 1 0 0 0 0 0]\n",
      " [0 0 1 1 0 0 0 0]\n",
      " [0 0 0 1 1 0 0 0]\n",
      " [0 0 0 0 1 1 0 0]\n",
      " [0 0 0 0 0 1 1 0]\n",
      " [0 0 0 0 0 0 1 1]]\n",
      "H = \n",
      "[[1 1 1 1 1 1 1 1]]\n",
      "\n",
      "Dual code: n = 8, k = 1, d = 8\n",
      "g(x) = x^7 + x^6 + x^5 + x^4 + x^3 + x^2 + x + 1\n",
      "G = \n",
      "[[1 1 1 1 1 1 1 1]]\n",
      "H = \n",
      "[[1 1 0 0 0 0 0 0]\n",
      " [0 1 1 0 0 0 0 0]\n",
      " [0 0 1 1 0 0 0 0]\n",
      " [0 0 0 1 1 0 0 0]\n",
      " [0 0 0 0 1 1 0 0]\n",
      " [0 0 0 0 0 1 1 0]\n",
      " [0 0 0 0 0 0 1 1]]\n",
      "\n",
      "\n",
      "---New code of length n = 8---\n",
      "Code: n = 8, k = 7, d = 2\n",
      "g(x) = x + 1\n",
      "G = \n",
      "[[1 1 0 0 0 0 0 0]\n",
      " [0 1 1 0 0 0 0 0]\n",
      " [0 0 1 1 0 0 0 0]\n",
      " [0 0 0 1 1 0 0 0]\n",
      " [0 0 0 0 1 1 0 0]\n",
      " [0 0 0 0 0 1 1 0]\n",
      " [0 0 0 0 0 0 1 1]]\n",
      "H = \n",
      "[[1 1 1 1 1 1 1 1]]\n",
      "\n",
      "Dual code: n = 8, k = 1, d = 8\n",
      "g(x) = x^7 + x^6 + x^5 + x^4 + x^3 + x^2 + x + 1\n",
      "G = \n",
      "[[1 1 1 1 1 1 1 1]]\n",
      "H = \n",
      "[[1 1 0 0 0 0 0 0]\n",
      " [0 1 1 0 0 0 0 0]\n",
      " [0 0 1 1 0 0 0 0]\n",
      " [0 0 0 1 1 0 0 0]\n",
      " [0 0 0 0 1 1 0 0]\n",
      " [0 0 0 0 0 1 1 0]\n",
      " [0 0 0 0 0 0 1 1]]\n",
      "\n",
      "\n",
      "---New code of length n = 8---\n",
      "Code: n = 8, k = 7, d = 2\n",
      "g(x) = x + 1\n",
      "G = \n",
      "[[1 1 0 0 0 0 0 0]\n",
      " [0 1 1 0 0 0 0 0]\n",
      " [0 0 1 1 0 0 0 0]\n",
      " [0 0 0 1 1 0 0 0]\n",
      " [0 0 0 0 1 1 0 0]\n",
      " [0 0 0 0 0 1 1 0]\n",
      " [0 0 0 0 0 0 1 1]]\n",
      "H = \n",
      "[[1 1 1 1 1 1 1 1]]\n",
      "\n",
      "Dual code: n = 8, k = 1, d = 8\n",
      "g(x) = x^7 + x^6 + x^5 + x^4 + x^3 + x^2 + x + 1\n",
      "G = \n",
      "[[1 1 1 1 1 1 1 1]]\n",
      "H = \n",
      "[[1 1 0 0 0 0 0 0]\n",
      " [0 1 1 0 0 0 0 0]\n",
      " [0 0 1 1 0 0 0 0]\n",
      " [0 0 0 1 1 0 0 0]\n",
      " [0 0 0 0 1 1 0 0]\n",
      " [0 0 0 0 0 1 1 0]\n",
      " [0 0 0 0 0 0 1 1]]\n",
      "\n",
      "\n",
      "---New code of length n = 8---\n",
      "Code: n = 8, k = 7, d = 2\n",
      "g(x) = x + 1\n",
      "G = \n",
      "[[1 1 0 0 0 0 0 0]\n",
      " [0 1 1 0 0 0 0 0]\n",
      " [0 0 1 1 0 0 0 0]\n",
      " [0 0 0 1 1 0 0 0]\n",
      " [0 0 0 0 1 1 0 0]\n",
      " [0 0 0 0 0 1 1 0]\n",
      " [0 0 0 0 0 0 1 1]]\n",
      "H = \n",
      "[[1 1 1 1 1 1 1 1]]\n",
      "\n",
      "Dual code: n = 8, k = 1, d = 8\n",
      "g(x) = x^7 + x^6 + x^5 + x^4 + x^3 + x^2 + x + 1\n",
      "G = \n",
      "[[1 1 1 1 1 1 1 1]]\n",
      "H = \n",
      "[[1 1 0 0 0 0 0 0]\n",
      " [0 1 1 0 0 0 0 0]\n",
      " [0 0 1 1 0 0 0 0]\n",
      " [0 0 0 1 1 0 0 0]\n",
      " [0 0 0 0 1 1 0 0]\n",
      " [0 0 0 0 0 1 1 0]\n",
      " [0 0 0 0 0 0 1 1]]\n",
      "\n",
      "\n",
      "---New code of length n = 9---\n",
      "Code: n = 9, k = 8, d = 2\n",
      "g(x) = x + 1\n",
      "G = \n",
      "[[1 1 0 0 0 0 0 0 0]\n",
      " [0 1 1 0 0 0 0 0 0]\n",
      " [0 0 1 1 0 0 0 0 0]\n",
      " [0 0 0 1 1 0 0 0 0]\n",
      " [0 0 0 0 1 1 0 0 0]\n",
      " [0 0 0 0 0 1 1 0 0]\n",
      " [0 0 0 0 0 0 1 1 0]\n",
      " [0 0 0 0 0 0 0 1 1]]\n",
      "H = \n",
      "[[1 1 1 1 1 1 1 1 1]]\n",
      "\n",
      "Dual code: n = 9, k = 1, d = 9\n",
      "g(x) = x^8 + x^7 + x^6 + x^5 + x^4 + x^3 + x^2 + x + 1\n",
      "G = \n",
      "[[1 1 1 1 1 1 1 1 1]]\n",
      "H = \n",
      "[[1 1 0 0 0 0 0 0 0]\n",
      " [0 1 1 0 0 0 0 0 0]\n",
      " [0 0 1 1 0 0 0 0 0]\n",
      " [0 0 0 1 1 0 0 0 0]\n",
      " [0 0 0 0 1 1 0 0 0]\n",
      " [0 0 0 0 0 1 1 0 0]\n",
      " [0 0 0 0 0 0 1 1 0]\n",
      " [0 0 0 0 0 0 0 1 1]]\n",
      "\n",
      "\n",
      "---New code of length n = 9---\n",
      "Code: n = 9, k = 7, d = 2\n",
      "g(x) = x^2 + x + 1\n",
      "G = \n",
      "[[1 1 1 0 0 0 0 0 0]\n",
      " [0 1 1 1 0 0 0 0 0]\n",
      " [0 0 1 1 1 0 0 0 0]\n",
      " [0 0 0 1 1 1 0 0 0]\n",
      " [0 0 0 0 1 1 1 0 0]\n",
      " [0 0 0 0 0 1 1 1 0]\n",
      " [0 0 0 0 0 0 1 1 1]]\n",
      "H = \n",
      "[[1 1 0 1 1 0 1 1 0]\n",
      " [0 1 1 0 1 1 0 1 1]]\n",
      "\n",
      "Dual code: n = 9, k = 2, d = 6\n",
      "g(x) = x^7 + x^6 + x^4 + x^3 + x + 1\n",
      "G = \n",
      "[[1 1 0 1 1 0 1 1 0]\n",
      " [0 1 1 0 1 1 0 1 1]]\n",
      "H = \n",
      "[[1 1 1 0 0 0 0 0 0]\n",
      " [0 1 1 1 0 0 0 0 0]\n",
      " [0 0 1 1 1 0 0 0 0]\n",
      " [0 0 0 1 1 1 0 0 0]\n",
      " [0 0 0 0 1 1 1 0 0]\n",
      " [0 0 0 0 0 1 1 1 0]\n",
      " [0 0 0 0 0 0 1 1 1]]\n",
      "\n",
      "\n",
      "---New code of length n = 9---\n",
      "Code: n = 9, k = 3, d = 3\n",
      "g(x) = x^6 + x^3 + 1\n",
      "G = \n",
      "[[1 0 0 1 0 0 1 0 0]\n",
      " [0 1 0 0 1 0 0 1 0]\n",
      " [0 0 1 0 0 1 0 0 1]]\n",
      "H = \n",
      "[[1 0 0 1 0 0 0 0 0]\n",
      " [0 1 0 0 1 0 0 0 0]\n",
      " [0 0 1 0 0 1 0 0 0]\n",
      " [0 0 0 1 0 0 1 0 0]\n",
      " [0 0 0 0 1 0 0 1 0]\n",
      " [0 0 0 0 0 1 0 0 1]]\n",
      "\n",
      "Dual code: n = 9, k = 6, d = 2\n",
      "g(x) = x^3 + 1\n",
      "G = \n",
      "[[1 0 0 1 0 0 0 0 0]\n",
      " [0 1 0 0 1 0 0 0 0]\n",
      " [0 0 1 0 0 1 0 0 0]\n",
      " [0 0 0 1 0 0 1 0 0]\n",
      " [0 0 0 0 1 0 0 1 0]\n",
      " [0 0 0 0 0 1 0 0 1]]\n",
      "H = \n",
      "[[1 0 0 1 0 0 1 0 0]\n",
      " [0 1 0 0 1 0 0 1 0]\n",
      " [0 0 1 0 0 1 0 0 1]]\n"
     ]
    }
   ],
   "source": [
    "for n in range(3,10):\n",
    "    build_codes_with_length(n)"
   ]
  },
  {
   "cell_type": "markdown",
   "metadata": {},
   "source": [
    "# Задание 2"
   ]
  },
  {
   "cell_type": "code",
   "execution_count": 21,
   "metadata": {
    "collapsed": true
   },
   "outputs": [],
   "source": [
    "n = 8\n",
    "m = 3"
   ]
  },
  {
   "cell_type": "code",
   "execution_count": 22,
   "metadata": {
    "collapsed": true
   },
   "outputs": [],
   "source": [
    "# Определить j : alphas[j] = p\n",
    "def locate(p, alphas):\n",
    "    for i in range(len(alphas)):\n",
    "        if (len(p) == len(alphas[i])) and (np.all(np.equal(p, alphas[i]))):\n",
    "            return i"
   ]
  },
  {
   "cell_type": "code",
   "execution_count": 23,
   "metadata": {
    "collapsed": true
   },
   "outputs": [],
   "source": [
    "# находим все простые многочлены стпени не выше n\n",
    "def get_all_prime_poly(n):\n",
    "    prime = []\n",
    "    for p in generate(n + 1)[1:]:\n",
    "        p = np.trim_zeros(p, 'f')\n",
    "        if find_factor(p) is None: # p is prime\n",
    "            prime.append(p)\n",
    "            print(polynomial_to_string(p))\n",
    "    return prime"
   ]
  },
  {
   "cell_type": "code",
   "execution_count": 24,
   "metadata": {
    "collapsed": true
   },
   "outputs": [],
   "source": [
    "# С помощью примитивного многочлена находим примитивный элемент и строим поле\n",
    "def get_field(p, m, order=1):\n",
    "    found = 0\n",
    "    for alpha in generate(len(p) - 1)[1:]:\n",
    "        alpha = np.trim_zeros(alpha)\n",
    "        alphas, unique = get_all_pows_of_alpha(alpha, p, m) \n",
    "        if unique == 2**m - 1: # alpha - примитивный элемент\n",
    "            found += 1\n",
    "            if (found == order):\n",
    "#                 print(alpha)\n",
    "                return alphas\n",
    "    return None"
   ]
  },
  {
   "cell_type": "code",
   "execution_count": 25,
   "metadata": {
    "collapsed": false
   },
   "outputs": [
    {
     "name": "stdout",
     "output_type": "stream",
     "text": [
      "1\n",
      "x\n",
      "x + 1\n",
      "x^2 + x + 1\n",
      "x^3 + x + 1\n",
      "x^3 + x^2 + 1\n",
      "x^4 + x + 1\n",
      "x^4 + x^3 + 1\n",
      "x^4 + x^3 + x^2 + x + 1\n"
     ]
    }
   ],
   "source": [
    "primitive = get_all_prime_poly(4) # все примитивные многочлены для поля GF(8)"
   ]
  },
  {
   "cell_type": "code",
   "execution_count": 26,
   "metadata": {
    "collapsed": false
   },
   "outputs": [],
   "source": [
    "# Подходят только простые многочлены 4-й степени\n",
    "primitive = primitive[-3:]"
   ]
  },
  {
   "cell_type": "code",
   "execution_count": 27,
   "metadata": {
    "collapsed": false
   },
   "outputs": [],
   "source": [
    "# Получение полей по примитивным многочленам\n",
    "def get_fields(primitives, m):\n",
    "    fields = []\n",
    "    for i in range(len(primitives)):\n",
    "        if (i == 2):\n",
    "            fields.append(get_field(primitives[i], m, order = 4))\n",
    "        else:\n",
    "            fields.append(get_field(primitives[i], m))\n",
    "    return fields"
   ]
  },
  {
   "cell_type": "code",
   "execution_count": 28,
   "metadata": {
    "collapsed": false
   },
   "outputs": [
    {
     "ename": "NameError",
     "evalue": "name 'get_all_pows_of_alpha' is not defined",
     "output_type": "error",
     "traceback": [
      "\u001b[0;31m---------------------------------------------------------------------------\u001b[0m",
      "\u001b[0;31mNameError\u001b[0m                                 Traceback (most recent call last)",
      "\u001b[0;32m<ipython-input-28-4de38db5689b>\u001b[0m in \u001b[0;36m<module>\u001b[0;34m()\u001b[0m\n\u001b[0;32m----> 1\u001b[0;31m \u001b[0mfields\u001b[0m \u001b[0;34m=\u001b[0m \u001b[0mget_fields\u001b[0m\u001b[0;34m(\u001b[0m\u001b[0mprimitive\u001b[0m\u001b[0;34m,\u001b[0m \u001b[0mm\u001b[0m\u001b[0;34m)\u001b[0m\u001b[0;34m\u001b[0m\u001b[0m\n\u001b[0m",
      "\u001b[0;32m<ipython-input-27-d800152b03a9>\u001b[0m in \u001b[0;36mget_fields\u001b[0;34m(primitives, m)\u001b[0m\n\u001b[1;32m      6\u001b[0m             \u001b[0mfields\u001b[0m\u001b[0;34m.\u001b[0m\u001b[0mappend\u001b[0m\u001b[0;34m(\u001b[0m\u001b[0mget_field\u001b[0m\u001b[0;34m(\u001b[0m\u001b[0mprimitives\u001b[0m\u001b[0;34m[\u001b[0m\u001b[0mi\u001b[0m\u001b[0;34m]\u001b[0m\u001b[0;34m,\u001b[0m \u001b[0mm\u001b[0m\u001b[0;34m,\u001b[0m \u001b[0morder\u001b[0m \u001b[0;34m=\u001b[0m \u001b[0;36m4\u001b[0m\u001b[0;34m)\u001b[0m\u001b[0;34m)\u001b[0m\u001b[0;34m\u001b[0m\u001b[0m\n\u001b[1;32m      7\u001b[0m         \u001b[0;32melse\u001b[0m\u001b[0;34m:\u001b[0m\u001b[0;34m\u001b[0m\u001b[0m\n\u001b[0;32m----> 8\u001b[0;31m             \u001b[0mfields\u001b[0m\u001b[0;34m.\u001b[0m\u001b[0mappend\u001b[0m\u001b[0;34m(\u001b[0m\u001b[0mget_field\u001b[0m\u001b[0;34m(\u001b[0m\u001b[0mprimitives\u001b[0m\u001b[0;34m[\u001b[0m\u001b[0mi\u001b[0m\u001b[0;34m]\u001b[0m\u001b[0;34m,\u001b[0m \u001b[0mm\u001b[0m\u001b[0;34m)\u001b[0m\u001b[0;34m)\u001b[0m\u001b[0;34m\u001b[0m\u001b[0m\n\u001b[0m\u001b[1;32m      9\u001b[0m     \u001b[0;32mreturn\u001b[0m \u001b[0mfields\u001b[0m\u001b[0;34m\u001b[0m\u001b[0m\n",
      "\u001b[0;32m<ipython-input-24-40b21c4b0b3b>\u001b[0m in \u001b[0;36mget_field\u001b[0;34m(p, m, order)\u001b[0m\n\u001b[1;32m      4\u001b[0m     \u001b[0;32mfor\u001b[0m \u001b[0malpha\u001b[0m \u001b[0;32min\u001b[0m \u001b[0mgenerate\u001b[0m\u001b[0;34m(\u001b[0m\u001b[0mlen\u001b[0m\u001b[0;34m(\u001b[0m\u001b[0mp\u001b[0m\u001b[0;34m)\u001b[0m \u001b[0;34m-\u001b[0m \u001b[0;36m1\u001b[0m\u001b[0;34m)\u001b[0m\u001b[0;34m[\u001b[0m\u001b[0;36m1\u001b[0m\u001b[0;34m:\u001b[0m\u001b[0;34m]\u001b[0m\u001b[0;34m:\u001b[0m\u001b[0;34m\u001b[0m\u001b[0m\n\u001b[1;32m      5\u001b[0m         \u001b[0malpha\u001b[0m \u001b[0;34m=\u001b[0m \u001b[0mnp\u001b[0m\u001b[0;34m.\u001b[0m\u001b[0mtrim_zeros\u001b[0m\u001b[0;34m(\u001b[0m\u001b[0malpha\u001b[0m\u001b[0;34m)\u001b[0m\u001b[0;34m\u001b[0m\u001b[0m\n\u001b[0;32m----> 6\u001b[0;31m         \u001b[0malphas\u001b[0m\u001b[0;34m,\u001b[0m \u001b[0munique\u001b[0m \u001b[0;34m=\u001b[0m \u001b[0mget_all_pows_of_alpha\u001b[0m\u001b[0;34m(\u001b[0m\u001b[0malpha\u001b[0m\u001b[0;34m,\u001b[0m \u001b[0mp\u001b[0m\u001b[0;34m,\u001b[0m \u001b[0mm\u001b[0m\u001b[0;34m)\u001b[0m\u001b[0;34m\u001b[0m\u001b[0m\n\u001b[0m\u001b[1;32m      7\u001b[0m         \u001b[0;32mif\u001b[0m \u001b[0munique\u001b[0m \u001b[0;34m==\u001b[0m \u001b[0;36m2\u001b[0m\u001b[0;34m**\u001b[0m\u001b[0mm\u001b[0m \u001b[0;34m-\u001b[0m \u001b[0;36m1\u001b[0m\u001b[0;34m:\u001b[0m \u001b[0;31m# alpha - примитивный элемент\u001b[0m\u001b[0;34m\u001b[0m\u001b[0m\n\u001b[1;32m      8\u001b[0m             \u001b[0mfound\u001b[0m \u001b[0;34m+=\u001b[0m \u001b[0;36m1\u001b[0m\u001b[0;34m\u001b[0m\u001b[0m\n",
      "\u001b[0;31mNameError\u001b[0m: name 'get_all_pows_of_alpha' is not defined"
     ]
    }
   ],
   "source": [
    "fields = get_fields(primitive, m)"
   ]
  },
  {
   "cell_type": "code",
   "execution_count": 29,
   "metadata": {
    "collapsed": true
   },
   "outputs": [],
   "source": [
    "# Сложение элементов в поле\n",
    "def field_add(x, y):\n",
    "    l = np.array(x)\n",
    "    r = np.array(y)\n",
    "    if len(x) > len(y):\n",
    "        l = y\n",
    "        r = x\n",
    "        \n",
    "    l = np.append(np.zeros(len(r) - len(l)), l)\n",
    "    return np.trim_zeros((l + r) % 2, 'f')"
   ]
  },
  {
   "cell_type": "code",
   "execution_count": 30,
   "metadata": {
    "collapsed": true
   },
   "outputs": [],
   "source": [
    "# Умножение элементов в поле\n",
    "def field_mul(p, x, y):\n",
    "    res = np.polymul(x, y) % 2\n",
    "    return np.trim_zeros(np.polydiv(res, p)[1] % 2, 'f')"
   ]
  },
  {
   "cell_type": "code",
   "execution_count": 31,
   "metadata": {
    "collapsed": true
   },
   "outputs": [],
   "source": [
    "# Проверка на то что поля изоморфны\n",
    "# Строим номерное соответствие\n",
    "def check_add_mul_equal(p1, field1, p2, field2):\n",
    "    assert len(field1) == len(field2)\n",
    "    n = len(field1)\n",
    "    \n",
    "    for i in range(n):\n",
    "        for j in range(n):\n",
    "            add1 = field_add(field1[i], field1[j])\n",
    "            add2 = field_add(field2[i], field2[j])\n",
    "            \n",
    "            mul1 = field_mul(p1, field1[i], field1[j])\n",
    "            mul2 = field_mul(p2, field2[i], field2[j])\n",
    "            \n",
    "            # номера должны совпадать для однозначного соответствия\n",
    "            if not (locate(add1, field1) == locate(add2, field2)):\n",
    "                print('add', i, j)\n",
    "                print(add1, add2)\n",
    "                return False\n",
    "            \n",
    "            # номера должны совпадать для однозначного соответствия\n",
    "            if not (locate(mul1, field1) == locate(mul2, field2)):\n",
    "                print('mul', i, j)\n",
    "                print(mul1, mul2)\n",
    "                return False\n",
    "    return True"
   ]
  },
  {
   "cell_type": "code",
   "execution_count": 32,
   "metadata": {
    "collapsed": false
   },
   "outputs": [
    {
     "ename": "NameError",
     "evalue": "name 'fields' is not defined",
     "output_type": "error",
     "traceback": [
      "\u001b[0;31m---------------------------------------------------------------------------\u001b[0m",
      "\u001b[0;31mNameError\u001b[0m                                 Traceback (most recent call last)",
      "\u001b[0;32m<ipython-input-32-23a0dc096cf0>\u001b[0m in \u001b[0;36m<module>\u001b[0;34m()\u001b[0m\n\u001b[1;32m      1\u001b[0m \u001b[0;31m# Проверим что поля изморфны\u001b[0m\u001b[0;34m\u001b[0m\u001b[0;34m\u001b[0m\u001b[0m\n\u001b[0;32m----> 2\u001b[0;31m \u001b[0mprint\u001b[0m\u001b[0;34m(\u001b[0m\u001b[0mcheck_add_mul_equal\u001b[0m\u001b[0;34m(\u001b[0m\u001b[0mprimitive\u001b[0m\u001b[0;34m[\u001b[0m\u001b[0;36m0\u001b[0m\u001b[0;34m]\u001b[0m\u001b[0;34m,\u001b[0m \u001b[0mfields\u001b[0m\u001b[0;34m[\u001b[0m\u001b[0;36m0\u001b[0m\u001b[0;34m]\u001b[0m\u001b[0;34m,\u001b[0m \u001b[0mprimitive\u001b[0m\u001b[0;34m[\u001b[0m\u001b[0;36m1\u001b[0m\u001b[0;34m]\u001b[0m\u001b[0;34m,\u001b[0m \u001b[0mfields\u001b[0m\u001b[0;34m[\u001b[0m\u001b[0;36m1\u001b[0m\u001b[0;34m]\u001b[0m\u001b[0;34m)\u001b[0m\u001b[0;34m)\u001b[0m\u001b[0;34m\u001b[0m\u001b[0m\n\u001b[0m\u001b[1;32m      3\u001b[0m \u001b[0;34m\u001b[0m\u001b[0m\n\u001b[1;32m      4\u001b[0m \u001b[0mprint\u001b[0m\u001b[0;34m(\u001b[0m\u001b[0mcheck_add_mul_equal\u001b[0m\u001b[0;34m(\u001b[0m\u001b[0mprimitive\u001b[0m\u001b[0;34m[\u001b[0m\u001b[0;36m0\u001b[0m\u001b[0;34m]\u001b[0m\u001b[0;34m,\u001b[0m \u001b[0mfields\u001b[0m\u001b[0;34m[\u001b[0m\u001b[0;36m0\u001b[0m\u001b[0;34m]\u001b[0m\u001b[0;34m,\u001b[0m \u001b[0mprimitive\u001b[0m\u001b[0;34m[\u001b[0m\u001b[0;36m2\u001b[0m\u001b[0;34m]\u001b[0m\u001b[0;34m,\u001b[0m \u001b[0mfields\u001b[0m\u001b[0;34m[\u001b[0m\u001b[0;36m2\u001b[0m\u001b[0;34m]\u001b[0m\u001b[0;34m)\u001b[0m\u001b[0;34m)\u001b[0m\u001b[0;34m\u001b[0m\u001b[0m\n\u001b[1;32m      5\u001b[0m \u001b[0;34m\u001b[0m\u001b[0m\n",
      "\u001b[0;31mNameError\u001b[0m: name 'fields' is not defined"
     ]
    }
   ],
   "source": [
    "# Проверим что поля изморфны\n",
    "print(check_add_mul_equal(primitive[0], fields[0], primitive[1], fields[1]))\n",
    "\n",
    "print(check_add_mul_equal(primitive[0], fields[0], primitive[2], fields[2]))\n",
    "\n",
    "print(check_add_mul_equal(primitive[1], fields[1], primitive[2], fields[2]))"
   ]
  },
  {
   "cell_type": "markdown",
   "metadata": {},
   "source": [
    "# Задание 3"
   ]
  },
  {
   "cell_type": "code",
   "execution_count": 33,
   "metadata": {
    "collapsed": false
   },
   "outputs": [],
   "source": [
    "# Порядок элемента x^k == 1\n",
    "# Над полем полиномов x = alpha^i => (alpha^i)^k == 1 <=> i * k == 0\n",
    "def get_element_order(q, i):\n",
    "    for k in range(1, q + 1):\n",
    "        if (i * k) % q == 0:\n",
    "            return k    \n",
    "\n",
    "def get_order(q):\n",
    "    orders = ''\n",
    "    for i in range(0, q):\n",
    "        orders = orders + '{} - {}, '.format(i, get_element_order(q, i))\n",
    "    return orders"
   ]
  },
  {
   "cell_type": "code",
   "execution_count": 34,
   "metadata": {
    "collapsed": false
   },
   "outputs": [
    {
     "name": "stdout",
     "output_type": "stream",
     "text": [
      "q:2 -> 0 - 1, 1 - 2, \n",
      "q:3 -> 0 - 1, 1 - 3, 2 - 3, \n",
      "q:4 -> 0 - 1, 1 - 4, 2 - 2, 3 - 4, \n",
      "q:5 -> 0 - 1, 1 - 5, 2 - 5, 3 - 5, 4 - 5, \n",
      "q:7 -> 0 - 1, 1 - 7, 2 - 7, 3 - 7, 4 - 7, 5 - 7, 6 - 7, \n",
      "q:8 -> 0 - 1, 1 - 8, 2 - 4, 3 - 8, 4 - 2, 5 - 8, 6 - 4, 7 - 8, \n",
      "q:9 -> 0 - 1, 1 - 9, 2 - 9, 3 - 3, 4 - 9, 5 - 9, 6 - 3, 7 - 9, 8 - 9, \n"
     ]
    }
   ],
   "source": [
    "# 1 - 2 означает что элемент 1 имеет порядок 2\n",
    "for q in [2,3,4,5,7,8,9]:\n",
    "    print('q:{} -> {}'.format(q, get_order(q)))"
   ]
  },
  {
   "cell_type": "markdown",
   "metadata": {},
   "source": [
    "# Задание 4"
   ]
  },
  {
   "cell_type": "code",
   "execution_count": 35,
   "metadata": {
    "collapsed": true
   },
   "outputs": [],
   "source": [
    "p = np.array([1, 0, 0, 1, 1]) # x^4 + x + 1\n",
    "m = 4"
   ]
  },
  {
   "cell_type": "code",
   "execution_count": 36,
   "metadata": {
    "collapsed": true
   },
   "outputs": [],
   "source": [
    "# Фунцкия возводящая x в степени 0 .. qm по модулю p\n",
    "def get_all_pows_of_alpha(alpha, p, m, prt=False):\n",
    "    unique = set() # уникальные полиномы\n",
    "    alphas = []\n",
    "    \n",
    "    x = np.array([1]).astype(int) # x^1\n",
    "    for i in range(0, 2**m - 1): # перебираем все степени x\n",
    "        poly = (np.polydiv(x, p)[1] + 2) % 2 # берем остаток от деления по модулю p\n",
    "        poly = np.trim_zeros(poly, 'f')\n",
    "        alphas.append(poly)\n",
    "        unique.add(tuple(poly))\n",
    "        \n",
    "        if prt:\n",
    "            print(i, polynomial_to_string(poly))\n",
    "        x = np.polymul(x, alpha)\n",
    "    \n",
    "    if prt:\n",
    "        print('Unique: {}, All: {}'.format(len(unique), 2**m-1))\n",
    "    \n",
    "    return alphas, len(unique)"
   ]
  },
  {
   "cell_type": "code",
   "execution_count": 37,
   "metadata": {
    "collapsed": false
   },
   "outputs": [
    {
     "name": "stdout",
     "output_type": "stream",
     "text": [
      "0 1\n",
      "1 x\n",
      "2 x^2\n",
      "3 x^3\n",
      "4 x + 1\n",
      "5 x^2 + x\n",
      "6 x^3 + x^2\n",
      "7 x^3 + x + 1\n",
      "8 x^2 + 1\n",
      "9 x^3 + x\n",
      "10 x^2 + x + 1\n",
      "11 x^3 + x^2 + x\n",
      "12 x^3 + x^2 + x + 1\n",
      "13 x^3 + x^2 + 1\n",
      "14 x^3 + 1\n",
      "Unique: 15, All: 15\n"
     ]
    }
   ],
   "source": [
    "alphas, unique = get_all_pows_of_alpha([1, 0], p, m, True) # возьмем x в качестве примитивного элемента"
   ]
  },
  {
   "cell_type": "markdown",
   "metadata": {},
   "source": [
    "Получилось 15 различных элементов => поле построено. Найдем обратные"
   ]
  },
  {
   "cell_type": "code",
   "execution_count": 38,
   "metadata": {
    "collapsed": false
   },
   "outputs": [],
   "source": [
    "def get_opposite(alphas):\n",
    "    for i in range(len(alphas)):\n",
    "        alpha1 = alphas[i]\n",
    "        for j in range(len(alphas)):\n",
    "            alpha2 = alphas[j]\n",
    "            \n",
    "            temp = np.polydiv(np.polymul(alpha1, alpha2), p)\n",
    "            \n",
    "            mod = temp[1] % 2\n",
    "            mod = np.trim_zeros(mod, 'f')\n",
    "            \n",
    "            if len(mod) == 1: # остаток == 1\n",
    "                print('Обратный к {} ({}): {} ({})'.format(i, polynomial_to_string(alpha1), j, polynomial_to_string(alpha2)))"
   ]
  },
  {
   "cell_type": "code",
   "execution_count": 39,
   "metadata": {
    "collapsed": false
   },
   "outputs": [
    {
     "name": "stdout",
     "output_type": "stream",
     "text": [
      "Обратный к 0 (1): 0 (1)\n",
      "Обратный к 1 (x): 14 (x^3 + 1)\n",
      "Обратный к 2 (x^2): 13 (x^3 + x^2 + 1)\n",
      "Обратный к 3 (x^3): 12 (x^3 + x^2 + x + 1)\n",
      "Обратный к 4 (x + 1): 11 (x^3 + x^2 + x)\n",
      "Обратный к 5 (x^2 + x): 10 (x^2 + x + 1)\n",
      "Обратный к 6 (x^3 + x^2): 9 (x^3 + x)\n",
      "Обратный к 7 (x^3 + x + 1): 8 (x^2 + 1)\n",
      "Обратный к 8 (x^2 + 1): 7 (x^3 + x + 1)\n",
      "Обратный к 9 (x^3 + x): 6 (x^3 + x^2)\n",
      "Обратный к 10 (x^2 + x + 1): 5 (x^2 + x)\n",
      "Обратный к 11 (x^3 + x^2 + x): 4 (x + 1)\n",
      "Обратный к 12 (x^3 + x^2 + x + 1): 3 (x^3)\n",
      "Обратный к 13 (x^3 + x^2 + 1): 2 (x^2)\n",
      "Обратный к 14 (x^3 + 1): 1 (x)\n"
     ]
    }
   ],
   "source": [
    "get_opposite(alphas)"
   ]
  },
  {
   "cell_type": "markdown",
   "metadata": {},
   "source": [
    "# Задание 5"
   ]
  },
  {
   "cell_type": "code",
   "execution_count": 40,
   "metadata": {
    "collapsed": true
   },
   "outputs": [],
   "source": [
    "p = np.array([1, 1, 1, 1, 1]) # x^4 + x^3 + x^2 + x + 1\n",
    "m = 4"
   ]
  },
  {
   "cell_type": "code",
   "execution_count": 41,
   "metadata": {
    "collapsed": false
   },
   "outputs": [
    {
     "name": "stdout",
     "output_type": "stream",
     "text": [
      "0 1\n",
      "1 x + 1\n",
      "2 x^2 + 1\n",
      "3 x^3 + x^2 + x + 1\n",
      "4 x^3 + x^2 + x\n",
      "5 x^3 + x^2 + 1\n",
      "6 x^3\n",
      "7 x^2 + x + 1\n",
      "8 x^3 + 1\n",
      "9 x^2\n",
      "10 x^3 + x^2\n",
      "11 x^3 + x + 1\n",
      "12 x\n",
      "13 x^2 + x\n",
      "14 x^3 + x\n",
      "Unique: 15, All: 15\n"
     ]
    }
   ],
   "source": [
    "# Найдем элементы поля\n",
    "alphas, unique = get_all_pows_of_alpha([1,1], p, m, True) # возьмем в качестве примитивного x + 1"
   ]
  },
  {
   "cell_type": "code",
   "execution_count": 42,
   "metadata": {
    "collapsed": false
   },
   "outputs": [
    {
     "name": "stdout",
     "output_type": "stream",
     "text": [
      "Обратный к 0 (1): 0 (1)\n",
      "Обратный к 1 (x + 1): 14 (x^3 + x)\n",
      "Обратный к 2 (x^2 + 1): 13 (x^2 + x)\n",
      "Обратный к 3 (x^3 + x^2 + x + 1): 12 (x)\n",
      "Обратный к 4 (x^3 + x^2 + x): 11 (x^3 + x + 1)\n",
      "Обратный к 5 (x^3 + x^2 + 1): 10 (x^3 + x^2)\n",
      "Обратный к 6 (x^3): 9 (x^2)\n",
      "Обратный к 7 (x^2 + x + 1): 8 (x^3 + 1)\n",
      "Обратный к 8 (x^3 + 1): 7 (x^2 + x + 1)\n",
      "Обратный к 9 (x^2): 6 (x^3)\n",
      "Обратный к 10 (x^3 + x^2): 5 (x^3 + x^2 + 1)\n",
      "Обратный к 11 (x^3 + x + 1): 4 (x^3 + x^2 + x)\n",
      "Обратный к 12 (x): 3 (x^3 + x^2 + x + 1)\n",
      "Обратный к 13 (x^2 + x): 2 (x^2 + 1)\n",
      "Обратный к 14 (x^3 + x): 1 (x + 1)\n"
     ]
    }
   ],
   "source": [
    "# Найдем обратные\n",
    "get_opposite(alphas)"
   ]
  },
  {
   "cell_type": "markdown",
   "metadata": {},
   "source": [
    "# Задание 6"
   ]
  },
  {
   "cell_type": "code",
   "execution_count": 43,
   "metadata": {
    "collapsed": false
   },
   "outputs": [],
   "source": [
    "G = get_G(7, 4, [1, 1, 0, 1]).astype(int)"
   ]
  },
  {
   "cell_type": "code",
   "execution_count": 44,
   "metadata": {
    "collapsed": true
   },
   "outputs": [],
   "source": [
    "# Приведем в систематический вид\n",
    "G[1] = (G[1] - G[3]) % 2\n",
    "G[0] = (G[0] - G[3]) % 2\n",
    "G[0] = (G[0] - G[2]) % 2"
   ]
  },
  {
   "cell_type": "code",
   "execution_count": 45,
   "metadata": {
    "collapsed": false
   },
   "outputs": [
    {
     "name": "stdout",
     "output_type": "stream",
     "text": [
      "G = \n",
      "[[1 0 0 0 1 0 1]\n",
      " [0 1 0 0 1 1 1]\n",
      " [0 0 1 0 1 1 0]\n",
      " [0 0 0 1 0 1 1]]\n"
     ]
    }
   ],
   "source": [
    "print('G = \\n{}'.format(G))"
   ]
  },
  {
   "cell_type": "code",
   "execution_count": 46,
   "metadata": {
    "collapsed": false
   },
   "outputs": [],
   "source": [
    "H = np.hstack((G[:, 4:].T, np.identity(3).astype(int)))"
   ]
  },
  {
   "cell_type": "code",
   "execution_count": 47,
   "metadata": {
    "collapsed": false
   },
   "outputs": [
    {
     "name": "stdout",
     "output_type": "stream",
     "text": [
      "H = \n",
      "[[1 1 1 0 1 0 0]\n",
      " [0 1 1 1 0 1 0]\n",
      " [1 1 0 1 0 0 1]]\n"
     ]
    }
   ],
   "source": [
    "print('H = \\n{}'.format(H))"
   ]
  },
  {
   "cell_type": "code",
   "execution_count": 48,
   "metadata": {
    "collapsed": false
   },
   "outputs": [],
   "source": [
    "# Матрица соответствия синдромов - ошибкам.\n",
    "# Такая память соответствует декодеру Меггита\n",
    "def get_syndrom_error_map(H):\n",
    "    n = H.shape[1]\n",
    "    r = H.shape[0]\n",
    "    k = n - r\n",
    "    \n",
    "    se_map = {}\n",
    "    \n",
    "    c = np.zeros(n)\n",
    "    for e in generate(n):\n",
    "        if np.sum(e) > 1:\n",
    "            continue\n",
    "        s = np.dot((c + e) % 2, H.T).astype(int) % 2\n",
    "        \n",
    "        has = False\n",
    "        cur_s = np.array(s)\n",
    "        for i in range(n):\n",
    "            if tuple(cur_s) in se_map:\n",
    "                has = True\n",
    "                break\n",
    "            temp = cur_s[0]\n",
    "            for j in range(0, r - 1):\n",
    "                cur_s[j] = cur_s[j + 1]\n",
    "            cur_s[-1] = temp\n",
    "            \n",
    "        if not has:\n",
    "            se_map[tuple(s)] = e\n",
    "    return se_map"
   ]
  },
  {
   "cell_type": "code",
   "execution_count": 49,
   "metadata": {
    "collapsed": false
   },
   "outputs": [
    {
     "data": {
      "text/plain": [
       "{(0, 0, 0): array([0, 0, 0, 0, 0, 0, 0]),\n",
       " (0, 0, 1): array([0, 0, 0, 0, 0, 0, 1]),\n",
       " (0, 1, 1): array([0, 0, 0, 1, 0, 0, 0]),\n",
       " (1, 1, 1): array([0, 1, 0, 0, 0, 0, 0])}"
      ]
     },
     "execution_count": 49,
     "metadata": {},
     "output_type": "execute_result"
    }
   ],
   "source": [
    "get_syndrom_error_map(H)"
   ]
  },
  {
   "cell_type": "markdown",
   "metadata": {},
   "source": [
    "# Задание 7"
   ]
  },
  {
   "cell_type": "code",
   "execution_count": 50,
   "metadata": {
    "collapsed": false
   },
   "outputs": [
    {
     "name": "stdout",
     "output_type": "stream",
     "text": [
      "factorizing: x^15 + 1\n",
      "x + 1\n",
      "x^2 + x + 1\n",
      "x^4 + x + 1\n",
      "x^4 + x^3 + 1\n",
      "x^4 + x^3 + x^2 + x + 1\n"
     ]
    }
   ],
   "source": [
    "# Построим код хемминга (15, 11)\n",
    "# Факторизуем x^15 - 1\n",
    "n = 15\n",
    "k = 11\n",
    "f = factorize(create_xn(n), True)"
   ]
  },
  {
   "cell_type": "code",
   "execution_count": 51,
   "metadata": {
    "collapsed": false
   },
   "outputs": [
    {
     "data": {
      "text/plain": [
       "3"
      ]
     },
     "execution_count": 51,
     "metadata": {},
     "output_type": "execute_result"
    }
   ],
   "source": [
    "# Возьмем полином x^4 + x^3 + 1 и проверим что расстояние = 3\n",
    "H = get_H(n, k, get_h(n, [1, 1, 0, 0, 1])).astype(int)\n",
    "get_d(H)"
   ]
  },
  {
   "cell_type": "code",
   "execution_count": 52,
   "metadata": {
    "collapsed": false
   },
   "outputs": [
    {
     "name": "stdout",
     "output_type": "stream",
     "text": [
      "g(x) = x^4 + x^3 + 1\n",
      "h(x) = x^11 + x^10 + x^9 + x^8 + x^6 + x^4 + x^3 + 1\n",
      "G = \n",
      "[[1 0 0 1 1 0 0 0 0 0 0 0 0 0 0]\n",
      " [0 1 0 0 1 1 0 0 0 0 0 0 0 0 0]\n",
      " [0 0 1 0 0 1 1 0 0 0 0 0 0 0 0]\n",
      " [0 0 0 1 0 0 1 1 0 0 0 0 0 0 0]\n",
      " [0 0 0 0 1 0 0 1 1 0 0 0 0 0 0]\n",
      " [0 0 0 0 0 1 0 0 1 1 0 0 0 0 0]\n",
      " [0 0 0 0 0 0 1 0 0 1 1 0 0 0 0]\n",
      " [0 0 0 0 0 0 0 1 0 0 1 1 0 0 0]\n",
      " [0 0 0 0 0 0 0 0 1 0 0 1 1 0 0]\n",
      " [0 0 0 0 0 0 0 0 0 1 0 0 1 1 0]\n",
      " [0 0 0 0 0 0 0 0 0 0 1 0 0 1 1]]\n"
     ]
    }
   ],
   "source": [
    "g = np.array([1, 1, 0, 0, 1])\n",
    "h = get_h(n, g)\n",
    "print('g(x) = {}'.format(polynomial_to_string(g)))\n",
    "print('h(x) = {}'.format(polynomial_to_string(h)))\n",
    "\n",
    "G = get_G(n, k, g).astype(int)\n",
    "print('G = \\n{}'.format(G))"
   ]
  },
  {
   "cell_type": "code",
   "execution_count": 53,
   "metadata": {
    "collapsed": false
   },
   "outputs": [
    {
     "name": "stdout",
     "output_type": "stream",
     "text": [
      "G = \n",
      "[[1 0 0 0 0 0 0 0 0 0 0 1 0 0 1]\n",
      " [0 1 0 0 0 0 0 0 0 0 0 1 1 0 1]\n",
      " [0 0 1 0 0 0 0 0 0 0 0 1 1 1 1]\n",
      " [0 0 0 1 0 0 0 0 0 0 0 1 1 1 0]\n",
      " [0 0 0 0 1 0 0 0 0 0 0 0 1 1 1]\n",
      " [0 0 0 0 0 1 0 0 0 0 0 1 0 1 0]\n",
      " [0 0 0 0 0 0 1 0 0 0 0 0 1 0 1]\n",
      " [0 0 0 0 0 0 0 1 0 0 0 1 0 1 1]\n",
      " [0 0 0 0 0 0 0 0 1 0 0 1 1 0 0]\n",
      " [0 0 0 0 0 0 0 0 0 1 0 0 1 1 0]\n",
      " [0 0 0 0 0 0 0 0 0 0 1 0 0 1 1]]\n"
     ]
    }
   ],
   "source": [
    "# Приведем G в систематический вид\n",
    "for i in np.arange(len(G) - 1, 3, -1):\n",
    "    G[i - 4] = (G[i - 4] - G[i]) % 2\n",
    "    G[i - 3] = (G[i - 3] - G[i]) % 2\n",
    "G[0] = (G[0] - G[3]) % 2\n",
    "\n",
    "print('G = \\n{}'.format(G))"
   ]
  },
  {
   "cell_type": "code",
   "execution_count": 54,
   "metadata": {
    "collapsed": false
   },
   "outputs": [
    {
     "name": "stdout",
     "output_type": "stream",
     "text": [
      "H = \n",
      "[[1 1 1 1 0 1 0 1 1 0 0 1 0 0 0]\n",
      " [0 1 1 1 1 0 1 0 1 1 0 0 1 0 0]\n",
      " [0 0 1 1 1 1 0 1 0 1 1 0 0 1 0]\n",
      " [1 1 1 0 1 0 1 1 0 0 1 0 0 0 1]]\n"
     ]
    }
   ],
   "source": [
    "H = np.hstack((G[:, k:].T, np.identity(n - k).astype(int)))\n",
    "print('H = \\n{}'.format(H))"
   ]
  },
  {
   "cell_type": "markdown",
   "metadata": {},
   "source": [
    "# Кодирование сообщения"
   ]
  },
  {
   "cell_type": "code",
   "execution_count": 55,
   "metadata": {
    "collapsed": false
   },
   "outputs": [],
   "source": [
    "m = np.array([1,0,1,1,1,1,0,1,0,0,1])\n",
    "c = np.dot(m, G) % 2"
   ]
  },
  {
   "cell_type": "code",
   "execution_count": 56,
   "metadata": {
    "collapsed": true
   },
   "outputs": [],
   "source": [
    "# Внесем ошибку в 7-й бит\n",
    "v = np.array(c)\n",
    "v[7] = (v[7] + 1) % 2"
   ]
  },
  {
   "cell_type": "code",
   "execution_count": 57,
   "metadata": {
    "collapsed": false
   },
   "outputs": [
    {
     "name": "stdout",
     "output_type": "stream",
     "text": [
      "c(x) = x^14 + x^12 + x^11 + x^10 + x^9 + x^7 + x^4 + x^3 + x^2 + 1\n",
      "v(x) = x^14 + x^12 + x^11 + x^10 + x^9 + x^4 + x^3 + x^2 + 1\n"
     ]
    }
   ],
   "source": [
    "print('c(x) = {}'.format(polynomial_to_string(c)))\n",
    "print('v(x) = {}'.format(polynomial_to_string(v)))"
   ]
  },
  {
   "cell_type": "markdown",
   "metadata": {},
   "source": [
    "# Декодирование сообщения"
   ]
  },
  {
   "cell_type": "code",
   "execution_count": 58,
   "metadata": {
    "collapsed": false
   },
   "outputs": [
    {
     "name": "stdout",
     "output_type": "stream",
     "text": [
      "(0, 0, 0, 0) [0 0 0 0 0 0 0 0 0 0 0 0 0 0 0]\n",
      "(0, 0, 0, 1) [0 0 0 0 0 0 0 0 0 0 0 0 0 0 1]\n",
      "(0, 0, 1, 1) [0 0 0 0 0 0 0 0 0 0 1 0 0 0 0]\n",
      "(1, 0, 1, 1) [0 0 0 0 0 0 0 1 0 0 0 0 0 0 0]\n",
      "(0, 1, 0, 1) [0 0 0 0 0 0 1 0 0 0 0 0 0 0 0]\n",
      "(1, 1, 1, 1) [0 0 1 0 0 0 0 0 0 0 0 0 0 0 0]\n"
     ]
    }
   ],
   "source": [
    "# Создадим соответствие синдромов и ошибок для декодера Меггита\n",
    "se_map = get_syndrom_error_map(H)\n",
    "for k in se_map.keys():\n",
    "    print(k, se_map[k])"
   ]
  },
  {
   "cell_type": "code",
   "execution_count": 59,
   "metadata": {
    "collapsed": true
   },
   "outputs": [],
   "source": [
    "# Декодер Меггита. \n",
    "# Считаем синдром, смотрим есть ли такой cиндром в памяти декодера, \n",
    "#     если есть то возвращаем сдвинутый вектор ошибок\n",
    "#     если нет то умножаем входную последовательность на x и повторяем\n",
    "def decode_meggit(v, H, se_map):\n",
    "    n = H.shape[1]\n",
    "    xn = create_xn(n)\n",
    "    \n",
    "    cur_v = np.array(v)\n",
    "    for shift in range(n):\n",
    "        # Вычислим синдром:\n",
    "        s = np.dot(cur_v, H.T) % 2\n",
    "        \n",
    "        if (tuple(s) in se_map): # если синдром уже есть выводим ошибку сдвинутую на shift\n",
    "            e = np.array(se_map[tuple(s)])\n",
    "            # сдвиг\n",
    "            shifted_e = e \n",
    "            for i in range(len(e)):\n",
    "                shifted_e[i] = e[(i + shift) % len(e)]\n",
    "            return shifted_e\n",
    "            \n",
    "        # умножение на x\n",
    "        cur_v = np.polydiv(np.polymul(cur_v, [1, 0]) % 2, xn)[1] % 2\n",
    "        cur_v = np.append(np.zeros(n - len(cur_v)).astype(int), cur_v)"
   ]
  },
  {
   "cell_type": "code",
   "execution_count": 60,
   "metadata": {
    "collapsed": false
   },
   "outputs": [],
   "source": [
    "e = decode_meggit(v, H, se_map)"
   ]
  },
  {
   "cell_type": "code",
   "execution_count": 61,
   "metadata": {
    "collapsed": false
   },
   "outputs": [
    {
     "data": {
      "text/plain": [
       "array([0, 0, 0, 0])"
      ]
     },
     "execution_count": 61,
     "metadata": {},
     "output_type": "execute_result"
    }
   ],
   "source": [
    "# Проверка\n",
    "np.dot((v + e), H.T) % 2"
   ]
  },
  {
   "cell_type": "code",
   "execution_count": 62,
   "metadata": {
    "collapsed": false
   },
   "outputs": [
    {
     "name": "stdout",
     "output_type": "stream",
     "text": [
      "factorizing: x^3 + x + 1\n",
      "x^3 + x + 1\n"
     ]
    },
    {
     "data": {
      "text/plain": [
       "[array([1, 0, 1, 1])]"
      ]
     },
     "execution_count": 62,
     "metadata": {},
     "output_type": "execute_result"
    }
   ],
   "source": [
    "factorize([1,0,1,1], True)"
   ]
  },
  {
   "cell_type": "code",
   "execution_count": null,
   "metadata": {
    "collapsed": true
   },
   "outputs": [],
   "source": []
  }
 ],
 "metadata": {
  "kernelspec": {
   "display_name": "Python 3",
   "language": "python",
   "name": "python3"
  },
  "language_info": {
   "codemirror_mode": {
    "name": "ipython",
    "version": 3
   },
   "file_extension": ".py",
   "mimetype": "text/x-python",
   "name": "python",
   "nbconvert_exporter": "python",
   "pygments_lexer": "ipython3",
   "version": "3.6.3"
  }
 },
 "nbformat": 4,
 "nbformat_minor": 2
}
