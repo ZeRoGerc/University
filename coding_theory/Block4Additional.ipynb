{
 "cells": [
  {
   "cell_type": "code",
   "execution_count": 1,
   "metadata": {
    "collapsed": true
   },
   "outputs": [],
   "source": [
    "import numpy as np\n",
    "import math\n",
    "import matplotlib.pyplot as plt\n",
    "import scipy\n",
    "import scipy.stats\n",
    "import time\n",
    "\n",
    "from tqdm import tqdm\n",
    "from collections import defaultdict\n",
    "\n",
    "from typing import List, Set"
   ]
  },
  {
   "cell_type": "code",
   "execution_count": 2,
   "metadata": {
    "collapsed": true
   },
   "outputs": [],
   "source": [
    "BitWord = List[int]"
   ]
  },
  {
   "cell_type": "code",
   "execution_count": 3,
   "metadata": {
    "collapsed": true
   },
   "outputs": [],
   "source": [
    "# generate all bit sequences of length l\n",
    "def generate(l):\n",
    "    res = []\n",
    "    \n",
    "    for i in range(0, 2**l):\n",
    "        b = bin(i)[2:]\n",
    "        b = '0' * (l - len(b)) + b\n",
    "        b = np.array(list(map(lambda x: int(x), b)))\n",
    "        res.append(b)\n",
    "        \n",
    "    return np.array(res)"
   ]
  },
  {
   "cell_type": "markdown",
   "metadata": {},
   "source": [
    "# Задание 1"
   ]
  },
  {
   "cell_type": "code",
   "execution_count": null,
   "metadata": {
    "collapsed": true
   },
   "outputs": [],
   "source": []
  },
  {
   "cell_type": "markdown",
   "metadata": {},
   "source": [
    "# Задание 3"
   ]
  },
  {
   "cell_type": "code",
   "execution_count": 4,
   "metadata": {
    "collapsed": true
   },
   "outputs": [],
   "source": [
    "n = 5\n",
    "\n",
    "G = np.array([\n",
    "    [1, 1, 0, 1, 0],\n",
    "    [1, 0, 1, 1, 1]\n",
    "]) \n",
    "\n",
    "# Преобразовали в систематический вид\n",
    "# G = np.array([\n",
    "#     [1, 0, 1, 1, 1],\n",
    "#     [0, 1, 1, 0, 1]\n",
    "# ])\n",
    "\n",
    "H = np.array([\n",
    "    [1, 1, 1, 0, 0],\n",
    "    [1, 0, 0, 1, 0],\n",
    "    [1, 1, 0, 0, 1],\n",
    "])\n",
    "\n",
    "p0 = 0.1\n",
    "y = np.array([0, 1, 1, 1, 1])\n",
    "\n",
    "all_words = generate(n)\n",
    "\n",
    "code_words = []\n",
    "for word in all_words:\n",
    "    if np.all(np.dot(word, H.T) % 2 == 0):\n",
    "        code_words.append(word)"
   ]
  },
  {
   "cell_type": "code",
   "execution_count": 5,
   "metadata": {
    "collapsed": false
   },
   "outputs": [
    {
     "data": {
      "text/plain": [
       "array([[0, 0, 0],\n",
       "       [0, 0, 0]])"
      ]
     },
     "execution_count": 5,
     "metadata": {},
     "output_type": "execute_result"
    }
   ],
   "source": [
    "# Проверка\n",
    "np.dot(G, H.T) % 2"
   ]
  },
  {
   "cell_type": "markdown",
   "metadata": {},
   "source": [
    "Апостериорая вероятность кодового слова записывается в виде: $p(c_m\\ | \\ y)$. При $p_0 = 0.1$ получаем, что:\n",
    "\n",
    "$p(0|y_i = 1) = 0.1 \\, \\, p(1|y_i = 1) = 0.9$ \n",
    "\n",
    "\n",
    "$p(0|y_i = 0) = 0.9 \\, \\, p(1|y_i = 0) = 0.1$\n",
    "\n",
    "Апостериорная вероятность для кодового слова запишется в виде: $\\prod_{i=1}^{n}\\ p(c_{mi}|y_i)$. Посчитаем ее:"
   ]
  },
  {
   "cell_type": "code",
   "execution_count": 9,
   "metadata": {
    "collapsed": true
   },
   "outputs": [],
   "source": [
    "def aposterior_prob(c: BitWord, y: BitWord) -> float:\n",
    "    assert len(c) == len(y)\n",
    "    prob = 1\n",
    "    for i in range(len(c)):\n",
    "        if c[i] == y[i]:\n",
    "            prob *= (1 - p0)\n",
    "        else:\n",
    "            prob *= p0\n",
    "    return prob"
   ]
  },
  {
   "cell_type": "code",
   "execution_count": 10,
   "metadata": {
    "collapsed": false
   },
   "outputs": [
    {
     "data": {
      "text/plain": [
       "0.7290000000000001"
      ]
     },
     "execution_count": 10,
     "metadata": {},
     "output_type": "execute_result"
    }
   ],
   "source": [
    "aposterior_prob([1,1,1],[1,1,1])"
   ]
  },
  {
   "cell_type": "code",
   "execution_count": 11,
   "metadata": {
    "collapsed": true
   },
   "outputs": [],
   "source": [
    "# Апостериорные вероятности для всех кодовых слов\n",
    "def print_aposterior_for_words(y: BitWord, words: List[BitWord]):\n",
    "    for c in words:\n",
    "        print('Word: {}, aProb = {}'.format(c, aposterior_prob(c, y)))"
   ]
  },
  {
   "cell_type": "code",
   "execution_count": 12,
   "metadata": {
    "collapsed": false
   },
   "outputs": [
    {
     "name": "stdout",
     "output_type": "stream",
     "text": [
      "Word: [0 0 0 0 0], aProb = 9.000000000000002e-05\n",
      "Word: [0 1 1 0 1], aProb = 0.06561\n",
      "Word: [1 0 1 1 1], aProb = 0.007290000000000003\n",
      "Word: [1 1 0 1 0], aProb = 0.0008100000000000002\n"
     ]
    }
   ],
   "source": [
    "print_aposterior_for_words(y, code_words)"
   ]
  },
  {
   "cell_type": "markdown",
   "metadata": {},
   "source": [
    "Тогда решение вынесенное декодером по МАВ будет $0 1 1 0 1$. Декодер по МП выненест такое же решение так как $p(1|0) = p(0|1)$."
   ]
  }
 ],
 "metadata": {
  "kernelspec": {
   "display_name": "Python 3",
   "language": "python",
   "name": "python3"
  },
  "language_info": {
   "codemirror_mode": {
    "name": "ipython",
    "version": 3
   },
   "file_extension": ".py",
   "mimetype": "text/x-python",
   "name": "python",
   "nbconvert_exporter": "python",
   "pygments_lexer": "ipython3",
   "version": "3.6.3"
  }
 },
 "nbformat": 4,
 "nbformat_minor": 2
}
