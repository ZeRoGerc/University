{
 "cells": [
  {
   "cell_type": "markdown",
   "metadata": {},
   "source": [
    "# Задание 2 Глава 2"
   ]
  },
  {
   "cell_type": "code",
   "execution_count": 1,
   "metadata": {
    "collapsed": false
   },
   "outputs": [],
   "source": [
    "%matplotlib inline\n",
    "import numpy as np\n",
    "import math\n",
    "import matplotlib.pyplot as plt\n",
    "import scipy\n",
    "import scipy.stats"
   ]
  },
  {
   "cell_type": "markdown",
   "metadata": {},
   "source": [
    "Данные из таблицы для k/n = 1/2"
   ]
  },
  {
   "cell_type": "code",
   "execution_count": 2,
   "metadata": {
    "collapsed": false
   },
   "outputs": [],
   "source": [
    "n = np.array([8, 10, 12, 14, 16, 18, 20, 22, 24, 26, 28, 30, 32, 34, 36, 38, 40])\n",
    "d = np.array([4, 4 , 4 , 4 , 5 , 6 , 6 , 7 , 8 , 7 , 8 , 8 , 8 , 8 , 8 , 9 , 10])"
   ]
  },
  {
   "cell_type": "markdown",
   "metadata": {},
   "source": [
    "Считаем вероятности как сумму биномиальных распределений для $k > \\frac{d - 1}{2}$ "
   ]
  },
  {
   "cell_type": "code",
   "execution_count": 3,
   "metadata": {
    "collapsed": false
   },
   "outputs": [],
   "source": [
    "def calc_prob(p, n, errors):\n",
    "    rv = scipy.stats.binom(n, p)\n",
    "    s = 0\n",
    "    for errors in range(errors + 1, n + 1):\n",
    "        s += rv.pmf(errors)\n",
    "    return s"
   ]
  },
  {
   "cell_type": "code",
   "execution_count": 4,
   "metadata": {
    "collapsed": true
   },
   "outputs": [],
   "source": [
    "def get_error(p):\n",
    "    err = []\n",
    "    for i in range(0, len(n)):\n",
    "        err.append(calc_prob(p, n[i], (d[i] - 1) // 2))\n",
    "    \n",
    "    return np.array(err)"
   ]
  },
  {
   "cell_type": "code",
   "execution_count": 5,
   "metadata": {
    "collapsed": false
   },
   "outputs": [
    {
     "data": {
      "image/png": "[encoded data removed]",
      "text/plain": [
       "<matplotlib.figure.Figure at 0x10f830470>"
      ]
     },
     "metadata": {},
     "output_type": "display_data"
    }
   ],
   "source": [
    "plt.plot(n, np.log(get_error(0.1)), 'r')\n",
    "plt.plot(n, np.log(get_error(0.01)), 'b')\n",
    "plt.plot(n, np.log(get_error(0.001)), 'g')\n",
    "plt.show()"
   ]
  },
  {
   "cell_type": "markdown",
   "metadata": {
    "collapsed": true
   },
   "source": [
    "# Сравнение энергетических выигрышей"
   ]
  },
  {
   "cell_type": "code",
   "execution_count": 6,
   "metadata": {
    "collapsed": true
   },
   "outputs": [],
   "source": [
    "R = 1/2 # скорость кода"
   ]
  },
  {
   "cell_type": "markdown",
   "metadata": {},
   "source": [
    "Посчитаем выигрыш кодирования для длины кода = 10\n",
    "Перебираем вероятность ошибки и находим при какой переходной вероятности она будет $\\approx 10^{-5}$"
   ]
  },
  {
   "cell_type": "code",
   "execution_count": 7,
   "metadata": {
    "collapsed": true
   },
   "outputs": [],
   "source": [
    "def get_prob_for_error(n, d, p):\n",
    "    left = 1e-9\n",
    "    right = 1\n",
    "    for i in range(0,100):\n",
    "        mid = (left + right) / 2\n",
    "        if calc_prob(mid, n, d) < p:\n",
    "            left = mid\n",
    "        else:\n",
    "            right = mid\n",
    "    return left"
   ]
  },
  {
   "cell_type": "code",
   "execution_count": 10,
   "metadata": {
    "collapsed": false
   },
   "outputs": [
    {
     "name": "stdout",
     "output_type": "stream",
     "text": [
      "1e-05 1.0000045000285003e-06\n",
      "1e-05 0.034056687656013954\n"
     ]
    }
   ],
   "source": [
    "N = 10\n",
    "D = 4\n",
    "\n",
    "p_for_non_coded = get_prob_for_error(N, 0, 1e-5) # предаем максимальное количество исправляемых ошибок = 0\n",
    "p_for_coded = get_prob_for_error(N, D, 1e-5)\n",
    "\n",
    "print(calc_prob(p_for_non_coded, N, 0), p_for_non_coded)\n",
    "print(calc_prob(p_for_coded, N, D), p_for_coded)"
   ]
  },
  {
   "cell_type": "markdown",
   "metadata": {},
   "source": [
    "Без кодирования:\n",
    "$p = 1 * 10^{-6} \\frac{E_b}{N_0} = 10.53дБ$\n",
    "\n",
    "С кодированием:\n",
    "$p = 3 * 10^{-2} \\frac{E_b}{N_0} = 4.2дБ$\n",
    "\n",
    "Выигрыш кодирования = $\\frac{10.53}{4.2 / R} = 1.25$"
   ]
  },
  {
   "cell_type": "code",
   "execution_count": null,
   "metadata": {
    "collapsed": true
   },
   "outputs": [],
   "source": []
  }
 ],
 "metadata": {
  "kernelspec": {
   "display_name": "Python 3",
   "language": "python",
   "name": "python3"
  },
  "language_info": {
   "codemirror_mode": {
    "name": "ipython",
    "version": 3
   },
   "file_extension": ".py",
   "mimetype": "text/x-python",
   "name": "python",
   "nbconvert_exporter": "python",
   "pygments_lexer": "ipython3",
   "version": "3.6.3"
  }
 },
 "nbformat": 4,
 "nbformat_minor": 2
}
