{
 "cells": [
  {
   "cell_type": "code",
   "execution_count": 4,
   "metadata": {
    "collapsed": true
   },
   "outputs": [],
   "source": [
    "import numpy as np\n",
    "import pandas as pd\n",
    "import math\n",
    "import matplotlib.pyplot as plt\n",
    "import scipy\n",
    "import scipy.stats\n",
    "import hashlib\n",
    "import time\n",
    "import copy\n",
    "\n",
    "from numpy.linalg import matrix_rank\n",
    "from tqdm import tqdm"
   ]
  },
  {
   "cell_type": "code",
   "execution_count": 5,
   "metadata": {
    "collapsed": true
   },
   "outputs": [],
   "source": [
    "# def get_G(alphas, m, d):\n",
    "#     poly = [0] * (d)\n",
    "\n",
    "#     for seq in generate(d - 1):\n",
    "#         ones = np.count_nonzero(seq)\n",
    "#         zeros = d - 1 - ones\n",
    "        \n",
    "#         power = 0\n",
    "#         for j in range(len(seq)):\n",
    "#             if seq[j] == 1:\n",
    "#                 power = (power + (j + 1)) % (2**m - 1)\n",
    "\n",
    "#         poly[zeros] = (poly[zeros] + alphas[power]) % 2\n",
    "        \n",
    "#     return poly\n",
    "    \n",
    "# def print_G(g, alphas):\n",
    "#     p = ''\n",
    "#     for i in range(len(g)):\n",
    "#         id = -1\n",
    "#         for j in range(len(alphas)):\n",
    "#             if np.all(np.equal(g[i], alphas[j])):\n",
    "#                 id = j\n",
    "#                 break\n",
    "#         p = p + 'alpha^{} * x^{} + '.format(id, i)\n",
    "#     print(p[:-2])\n",
    "\n",
    "# g = get_G(alphas, m, d)\n",
    "# print_G(g, alphas)"
   ]
  },
  {
   "cell_type": "code",
   "execution_count": 3,
   "metadata": {
    "collapsed": true
   },
   "outputs": [],
   "source": [
    "def invert(v, i):\n",
    "    v[i] = (v[i] + 1) % 2\n",
    "\n",
    "# c = np.zeros(2**m - 1)\n",
    "# temp = np.polymul(g, [1, 0, 0])\n",
    "# for i in range(1, len(temp) + 1):\n",
    "#     c[-i] = temp[-i]\n",
    "\n",
    "# v = np.array(c[::-1])\n",
    "# invert(v, 0)\n",
    "# invert(v, 1)\n",
    "# v = v[::-1]\n",
    "\n",
    "# print('c = {}'.format(c))\n",
    "# print('v = {}'.format(v))"
   ]
  },
  {
   "cell_type": "code",
   "execution_count": 6,
   "metadata": {
    "collapsed": false
   },
   "outputs": [
    {
     "ename": "NameError",
     "evalue": "name 'v' is not defined",
     "output_type": "error",
     "traceback": [
      "\u001b[0;31m---------------------------------------------------------------------------\u001b[0m",
      "\u001b[0;31mNameError\u001b[0m                                 Traceback (most recent call last)",
      "\u001b[0;32m<ipython-input-6-6003b6deeaee>\u001b[0m in \u001b[0;36m<module>\u001b[0;34m()\u001b[0m\n\u001b[0;32m----> 1\u001b[0;31m \u001b[0ms\u001b[0m \u001b[0;34m=\u001b[0m \u001b[0mnp\u001b[0m\u001b[0;34m.\u001b[0m\u001b[0mpolydiv\u001b[0m\u001b[0;34m(\u001b[0m\u001b[0mv\u001b[0m\u001b[0;34m,\u001b[0m \u001b[0mg\u001b[0m\u001b[0;34m)\u001b[0m\u001b[0;34m[\u001b[0m\u001b[0;36m1\u001b[0m\u001b[0;34m]\u001b[0m \u001b[0;34m%\u001b[0m \u001b[0;36m2\u001b[0m \u001b[0;31m# остаток от деления входа на порождающий полином\u001b[0m\u001b[0;34m\u001b[0m\u001b[0m\n\u001b[0m\u001b[1;32m      2\u001b[0m \u001b[0mprint\u001b[0m\u001b[0;34m(\u001b[0m\u001b[0mpolynomial_to_string\u001b[0m\u001b[0;34m(\u001b[0m\u001b[0ms\u001b[0m\u001b[0;34m[\u001b[0m\u001b[0;34m:\u001b[0m\u001b[0;34m:\u001b[0m\u001b[0;34m-\u001b[0m\u001b[0;36m1\u001b[0m\u001b[0;34m]\u001b[0m\u001b[0;34m)\u001b[0m\u001b[0;34m)\u001b[0m\u001b[0;34m\u001b[0m\u001b[0m\n",
      "\u001b[0;31mNameError\u001b[0m: name 'v' is not defined"
     ]
    }
   ],
   "source": [
    "s = np.polydiv(v, g)[1] % 2 # остаток от деления входа на порождающий полином \n",
    "print(polynomial_to_string(s[::-1]))"
   ]
  },
  {
   "cell_type": "code",
   "execution_count": 7,
   "metadata": {
    "collapsed": true
   },
   "outputs": [],
   "source": [
    "def get_roots_3(p, m):\n",
    "    power = 2 ** m - 1;\n",
    "\n",
    "    # transform to make first element 0\n",
    "    add = power - p[0]\n",
    "    for i in range(len(p)):\n",
    "        p[i] = (p[i] + add) % power\n",
    "    \n",
    "    for x in range(power):\n",
    "        for y in range(power):\n",
    "            for z in range(power):\n",
    "                pr = False\n",
    "#                 if (x == 0 and y == 1 and z == 2):\n",
    "#                     pr = True\n",
    "                    \n",
    "#                 if pr:\n",
    "#                     print((x+y+z)%power)\n",
    "                if (x + y + z) % power != p[3]:\n",
    "                    continue\n",
    "                sum2 = (alphas[(x + y) % power] + alphas[(x + z) % power] + alphas[(y + z) % power]) % 2\n",
    "                k2 = locate(sum2, alphas)\n",
    "                if (k2 != p[2]):\n",
    "                    continue\n",
    "                sum3 = (alphas[x] + alphas[y] + alphas[z]) % 2\n",
    "                k3 = locate(sum3, alphas) \n",
    "#                 print('k3', k3)\n",
    "                if (k3 != p[1]):\n",
    "                    continue\n",
    "                return [x, y, z]\n",
    "    return [-1, -1, -1]\n"
   ]
  },
  {
   "cell_type": "code",
   "execution_count": 8,
   "metadata": {
    "collapsed": true
   },
   "outputs": [],
   "source": [
    "def get_solution_3(matrix, result, power):\n",
    "    n = len(matrix)\n",
    "    m = len(matrix[0])\n",
    "    mod = (2 ** power) - 1\n",
    "    \n",
    "    for x in range(2**power):\n",
    "        for y in range(2**power):\n",
    "            for z in range(2**power):\n",
    "        \n",
    "                result_check = []\n",
    "                check = [x, y, z]\n",
    "                for i in range(n):\n",
    "                    s = np.zeros(power)\n",
    "                    for j in range(m):\n",
    "                        k = (matrix[i][j] + check[j]) % mod\n",
    "                        s += alphas[k]\n",
    "                    s %= 2\n",
    "                    result_check.append(locate(s, alphas))\n",
    "                if (np.all(result_check == result)):\n",
    "#                     print(result_check)\n",
    "                    return check\n",
    "        \n",
    "    return [-1, -1, -1]"
   ]
  },
  {
   "cell_type": "code",
   "execution_count": 9,
   "metadata": {
    "collapsed": true
   },
   "outputs": [],
   "source": [
    "\n",
    "def get_lambdas_3(S):\n",
    "    return get_solution_3(\n",
    "        [\n",
    "            [S[0], S[1], S[2]], \n",
    "            [S[1], S[2], S[3]], \n",
    "            [S[2], S[3], S[4]]\n",
    "        ], \n",
    "        [S[3], S[4], S[5]],\n",
    "        5\n",
    "    )"
   ]
  },
  {
   "cell_type": "code",
   "execution_count": 10,
   "metadata": {
    "collapsed": true
   },
   "outputs": [],
   "source": [
    "def solve_3(v, start, d):\n",
    "#     print('v = {}'.format(v))\n",
    "    S, nS = get_syndrom_components(v, start, d)\n",
    "    print('S = {}'.format(nS))\n",
    "    lambdas = get_lambdas_3(nS)\n",
    "    print('lambdas = {}'.format(lambdas))\n",
    "    \n",
    "    lambda_polynomial = np.zeros(4)\n",
    "    lambda_polynomial[-1] = 0\n",
    "    lambda_polynomial[-2] = lambdas[2]\n",
    "    lambda_polynomial[-3] = lambdas[1]\n",
    "    lambda_polynomial[-4] = lambdas[0]\n",
    "#     print('lambda poly = {}'.format(lambda_polynomial))\n",
    "    \n",
    "    lambda_roots = get_roots_3(lambda_polynomial, m)\n",
    "    lambda_roots = [(31 - root) % 31 for root in lambda_roots]\n",
    "    print('error positions = {}'.format(lambda_roots))\n",
    "    return lambda_roots"
   ]
  },
  {
   "cell_type": "code",
   "execution_count": null,
   "metadata": {
    "collapsed": true
   },
   "outputs": [],
   "source": []
  }
 ],
 "metadata": {
  "kernelspec": {
   "display_name": "Python 3",
   "language": "python",
   "name": "python3"
  },
  "language_info": {
   "codemirror_mode": {
    "name": "ipython",
    "version": 3
   },
   "file_extension": ".py",
   "mimetype": "text/x-python",
   "name": "python",
   "nbconvert_exporter": "python",
   "pygments_lexer": "ipython3",
   "version": "3.6.3"
  }
 },
 "nbformat": 4,
 "nbformat_minor": 2
}
